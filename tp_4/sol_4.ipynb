{
 "cells": [
  {
   "cell_type": "markdown",
   "metadata": {
    "id": "pfa39F4lsLf3"
   },
   "source": [
    "<img src=\"https://github.com/hernancontigiani/ceia_memorias_especializacion/raw/master/Figures/logoFIUBA.jpg\" width=\"500\" align=\"center\">\n",
    "\n",
    "\n",
    "# Procesamiento de lenguaje natural\n",
    "## LSTM Traductor\n",
    "Ejemplo basado en [LINK](https://stackabuse.com/python-for-nlp-neural-machine-translation-with-seq2seq-in-keras/)"
   ]
  },
  {
   "cell_type": "code",
   "execution_count": 1,
   "metadata": {
    "id": "FGmtK8J19PNk"
   },
   "outputs": [
    {
     "name": "stdout",
     "output_type": "stream",
     "text": [
      "Note: you may need to restart the kernel to use updated packages.\n",
      "Defaulting to user installation because normal site-packages is not writeable\n",
      "Requirement already satisfied: torchinfo in /home/kpennington/.local/lib/python3.10/site-packages (1.8.0)\n",
      "Note: you may need to restart the kernel to use updated packages.\n"
     ]
    }
   ],
   "source": [
    "%pip install --upgrade --no-cache-dir gdown --quiet\n",
    "%pip install torchinfo\n"
   ]
  },
  {
   "cell_type": "code",
   "execution_count": 2,
   "metadata": {
    "id": "cq3YXak9sGHd"
   },
   "outputs": [],
   "source": [
    "import re\n",
    "\n",
    "import numpy as np\n",
    "import pandas as pd\n",
    "import matplotlib.pyplot as plt\n",
    "import seaborn as sns\n",
    "\n",
    "import torch\n",
    "import torch.nn.functional as F\n",
    "import torch.nn as nn\n",
    "from torch.utils.data import Dataset, DataLoader"
   ]
  },
  {
   "cell_type": "code",
   "execution_count": 3,
   "metadata": {
    "colab": {
     "base_uri": "https://localhost:8080/"
    },
    "executionInfo": {
     "elapsed": 390,
     "status": "ok",
     "timestamp": 1655153151153,
     "user": {
      "displayName": "Hernán Contigiani",
      "userId": "01142101934719343059"
     },
     "user_tz": 180
    },
    "id": "vgYatMIdk_eT",
    "outputId": "0e10c3c2-721c-48d7-9f13-ca80f175b9e6"
   },
   "outputs": [
    {
     "data": {
      "text/plain": [
       "device(type='cpu')"
      ]
     },
     "execution_count": 3,
     "metadata": {},
     "output_type": "execute_result"
    }
   ],
   "source": [
    "cuda = torch.cuda.is_available()\n",
    "device = torch.device('cuda' if torch.cuda.is_available() else 'cpu')\n",
    "device"
   ]
  },
  {
   "cell_type": "code",
   "execution_count": 4,
   "metadata": {
    "colab": {
     "base_uri": "https://localhost:8080/"
    },
    "executionInfo": {
     "elapsed": 2480,
     "status": "ok",
     "timestamp": 1655153153629,
     "user": {
      "displayName": "Hernán Contigiani",
      "userId": "01142101934719343059"
     },
     "user_tz": 180
    },
    "id": "OYpIWGaXxfKe",
    "outputId": "0fa2ee70-0efc-42de-f656-2fff41c2d0f8"
   },
   "outputs": [],
   "source": [
    "from torchinfo import summary"
   ]
  },
  {
   "cell_type": "code",
   "execution_count": 5,
   "metadata": {
    "id": "GHFPS5KNxgR9"
   },
   "outputs": [],
   "source": [
    "import os\n",
    "import platform\n",
    "\n",
    "if os.access('torch_helpers.py', os.F_OK) is False:\n",
    "    if platform.system() == 'Windows':\n",
    "        !curl !wget https://raw.githubusercontent.com/FIUBA-Posgrado-Inteligencia-Artificial/procesamiento_lenguaje_natural/main/scripts/torch_helpers.py > torch_helpers.py\n",
    "    else:\n",
    "        !wget torch_helpers.py https://raw.githubusercontent.com/FIUBA-Posgrado-Inteligencia-Artificial/procesamiento_lenguaje_natural/main/scripts/torch_helpers.py"
   ]
  },
  {
   "cell_type": "code",
   "execution_count": 6,
   "metadata": {
    "id": "tP-fbmHUgbtp"
   },
   "outputs": [],
   "source": [
    "def sequence_acc(output, target):\n",
    "    predictions = output.argmax(dim=-1) \n",
    "    \n",
    "    correct = (predictions == target).float()\n",
    "\n",
    "    \n",
    "    accuracy = correct.mean()\n",
    "    return accuracy\n",
    "\n",
    "def train(model, train_loader, valid_loader, optimizer, criterion, epochs=100):\n",
    "    # Defino listas para realizar graficas de los resultados\n",
    "    train_loss = []\n",
    "    train_accuracy = []\n",
    "    valid_loss = []\n",
    "    valid_accuracy = []\n",
    "\n",
    "    for epoch in range(epochs):\n",
    "        model.train()\n",
    "        epoch_train_loss = 0.0\n",
    "        epoch_train_accuracy = 0.0\n",
    "\n",
    "        for train_encoder_input, train_decoder_input, train_target in train_loader:\n",
    "            \n",
    "            train_encoder_input = train_encoder_input.to(device)\n",
    "            train_decoder_input = train_decoder_input.to(device)\n",
    "            train_target = train_target.to(device)\n",
    "\n",
    "            # Seteo los gradientes en cero\n",
    "            optimizer.zero_grad()\n",
    "\n",
    "            # Forward pass\n",
    "            output = model(train_encoder_input, train_decoder_input)\n",
    "\n",
    "            loss = criterion(output.reshape(-1, output.shape[-1]), \n",
    "                           train_target.reshape(-1))\n",
    "            \n",
    "            # Almaceno el error del batch\n",
    "            epoch_train_loss += loss.item()\n",
    "\n",
    "            loss.backward()\n",
    "            optimizer.step()\n",
    "\n",
    "            # Calculo el accuracy del batch\n",
    "            accuracy = sequence_acc(output, train_target)\n",
    "            epoch_train_accuracy += accuracy.item()\n",
    "\n",
    "        epoch_train_loss = epoch_train_loss / len(train_loader)\n",
    "        train_loss.append(epoch_train_loss)\n",
    "        epoch_train_accuracy = epoch_train_accuracy / len(train_loader)        \n",
    "        train_accuracy.append(epoch_train_accuracy)\n",
    "\n",
    "        model.eval()\n",
    "        with torch.no_grad():\n",
    "            valid_encoder_input, valid_decoder_input, valid_target = next(iter(valid_loader))\n",
    "            valid_encoder_input = valid_encoder_input.to(device)\n",
    "            valid_decoder_input = valid_decoder_input.to(device)\n",
    "            valid_target = valid_target.to(device)\n",
    "            \n",
    "            output = model(valid_encoder_input, valid_decoder_input)\n",
    "            \n",
    "            # NEW: Efficient validation loss\n",
    "            epoch_valid_loss = criterion(output.reshape(-1, output.shape[-1]), \n",
    "                                       valid_target.reshape(-1))\n",
    "            epoch_valid_loss = epoch_valid_loss.item()\n",
    "            valid_loss.append(epoch_valid_loss)\n",
    "\n",
    "            # Calculo el accuracy de la epoch\n",
    "            epoch_valid_accuracy = sequence_acc(output, valid_target).item()\n",
    "            valid_accuracy.append(epoch_valid_accuracy)\n",
    "\n",
    "        print(f\"Epoch: {epoch+1}/{epochs} - Train loss {epoch_train_loss:.3f} - Train accuracy {epoch_train_accuracy:.3f} - Valid Loss {epoch_valid_loss:.3f} - Valid accuracy {epoch_valid_accuracy:.3f}\")\n",
    "\n",
    "    history = {\n",
    "        \"loss\": train_loss,\n",
    "        \"accuracy\": train_accuracy,\n",
    "        \"val_loss\": valid_loss,\n",
    "        \"val_accuracy\": valid_accuracy,\n",
    "    }\n",
    "    return history"
   ]
  },
  {
   "cell_type": "markdown",
   "metadata": {
    "id": "5BFiCH8nxoIY"
   },
   "source": [
    "### 1 - Datos"
   ]
  },
  {
   "cell_type": "code",
   "execution_count": 7,
   "metadata": {
    "colab": {
     "base_uri": "https://localhost:8080/"
    },
    "executionInfo": {
     "elapsed": 12,
     "status": "ok",
     "timestamp": 1655153154044,
     "user": {
      "displayName": "Hernán Contigiani",
      "userId": "01142101934719343059"
     },
     "user_tz": 180
    },
    "id": "RHNkUaPp6aYq",
    "outputId": "3117e225-7ca5-4b41-9268-2278a1686533"
   },
   "outputs": [
    {
     "name": "stdout",
     "output_type": "stream",
     "text": [
      "El dataset ya se encuentra descargado\n"
     ]
    }
   ],
   "source": [
    "# Descargar la carpeta de dataset\n",
    "import os\n",
    "import gdown\n",
    "if os.access('spa-eng', os.F_OK) is False:\n",
    "    if os.access('simpsons_dataset.zip', os.F_OK) is False:\n",
    "        url = 'http://storage.googleapis.com/download.tensorflow.org/data/spa-eng.zip'\n",
    "        output = 'spa-eng.zip'\n",
    "        gdown.download(url, output, quiet=False)\n",
    "    !unzip -q spa-eng.zip   \n",
    "else:\n",
    "    print(\"El dataset ya se encuentra descargado\")"
   ]
  },
  {
   "cell_type": "code",
   "execution_count": 27,
   "metadata": {
    "colab": {
     "base_uri": "https://localhost:8080/"
    },
    "executionInfo": {
     "elapsed": 318,
     "status": "ok",
     "timestamp": 1655153154355,
     "user": {
      "displayName": "Hernán Contigiani",
      "userId": "01142101934719343059"
     },
     "user_tz": 180
    },
    "id": "-9aNLZBDtA5J",
    "outputId": "68de3ded-aa96-40fe-fab5-8083525e8c67"
   },
   "outputs": [
    {
     "name": "stdout",
     "output_type": "stream",
     "text": [
      "Cantidad de rows disponibles: 118964\n",
      "Cantidad de rows utilizadas: 118964\n"
     ]
    }
   ],
   "source": [
    "# dataset_file\n",
    "\n",
    "text_file = \"./spa-eng/spa.txt\"\n",
    "with open(text_file) as f:\n",
    "    lines = f.read().split(\"\\n\")[:-1]\n",
    "\n",
    "# Por limitaciones de RAM no se leen todas las filas\n",
    "MAX_NUM_SENTENCES = 118964\n",
    "\n",
    "# Mezclar el dataset, forzar semilla siempre igual\n",
    "np.random.seed([40])\n",
    "np.random.shuffle(lines)\n",
    "\n",
    "input_sentences = []\n",
    "output_sentences = []\n",
    "output_sentences_inputs = []\n",
    "count = 0\n",
    "\n",
    "for line in lines:\n",
    "    count += 1\n",
    "    if count > MAX_NUM_SENTENCES:\n",
    "        break\n",
    "\n",
    "    if '\\t' not in line:\n",
    "        continue\n",
    "\n",
    "    # Input sentence --> eng\n",
    "    # output --> spa\n",
    "    input_sentence, output = line.rstrip().split('\\t')\n",
    "\n",
    "    # output sentence (decoder_output) tiene <eos>\n",
    "    output_sentence = output + ' <eos>'\n",
    "    # output sentence input (decoder_input) tiene <sos>\n",
    "    output_sentence_input = '<sos> ' + output\n",
    "\n",
    "    input_sentences.append(input_sentence)\n",
    "    output_sentences.append(output_sentence)\n",
    "    output_sentences_inputs.append(output_sentence_input)\n",
    "\n",
    "print(\"Cantidad de rows disponibles:\", len(lines))\n",
    "print(\"Cantidad de rows utilizadas:\", len(input_sentences))"
   ]
  },
  {
   "cell_type": "code",
   "execution_count": 28,
   "metadata": {
    "colab": {
     "base_uri": "https://localhost:8080/"
    },
    "executionInfo": {
     "elapsed": 13,
     "status": "ok",
     "timestamp": 1655153154355,
     "user": {
      "displayName": "Hernán Contigiani",
      "userId": "01142101934719343059"
     },
     "user_tz": 180
    },
    "id": "93IGMKFb73q7",
    "outputId": "a86baec0-a710-4da5-e2fd-478c60c769bc"
   },
   "outputs": [
    {
     "data": {
      "text/plain": [
       "('A deal is a deal.',\n",
       " 'Un trato es un trato. <eos>',\n",
       " '<sos> Un trato es un trato.')"
      ]
     },
     "execution_count": 28,
     "metadata": {},
     "output_type": "execute_result"
    }
   ],
   "source": [
    "input_sentences[0], output_sentences[0], output_sentences_inputs[0]"
   ]
  },
  {
   "cell_type": "markdown",
   "metadata": {
    "id": "8P-ynUNP5xp6"
   },
   "source": [
    "### 2 - Preprocesamiento"
   ]
  },
  {
   "cell_type": "code",
   "execution_count": 46,
   "metadata": {
    "id": "5WAZGOTfGyha"
   },
   "outputs": [],
   "source": [
    "# Definir el tamaño máximo del vocabulario\n",
    "MAX_VOCAB_SIZE = 10000"
   ]
  },
  {
   "cell_type": "code",
   "execution_count": 47,
   "metadata": {
    "colab": {
     "base_uri": "https://localhost:8080/"
    },
    "executionInfo": {
     "elapsed": 8,
     "status": "ok",
     "timestamp": 1655153154356,
     "user": {
      "displayName": "Hernán Contigiani",
      "userId": "01142101934719343059"
     },
     "user_tz": 180
    },
    "id": "eF1W6peoFGXA",
    "outputId": "e748ad10-0c8d-4bca-ab4c-76f1974e12cc"
   },
   "outputs": [
    {
     "name": "stdout",
     "output_type": "stream",
     "text": [
      "Palabras en el vocabulario: 13524\n",
      "Sentencia de entrada más larga: 45\n"
     ]
    }
   ],
   "source": [
    "# Tokenizar las palabras con el Tokenizer de Keras\n",
    "# Definir una máxima cantidad de palabras a utilizar:\n",
    "# - num_words --> the maximum number of words to keep, based on word frequency.\n",
    "# - Only the most common num_words-1 words will be kept.\n",
    "from torch_helpers import Tokenizer\n",
    "input_tokenizer = Tokenizer(num_words=MAX_VOCAB_SIZE)\n",
    "input_tokenizer.fit_on_texts(input_sentences)\n",
    "input_integer_seq = input_tokenizer.texts_to_sequences(input_sentences)\n",
    "\n",
    "word2idx_inputs = input_tokenizer.word_index\n",
    "print(\"Palabras en el vocabulario:\", len(word2idx_inputs))\n",
    "\n",
    "max_input_len = max(len(sen) for sen in input_integer_seq)\n",
    "print(\"Sentencia de entrada más larga:\", max_input_len)"
   ]
  },
  {
   "cell_type": "code",
   "execution_count": 48,
   "metadata": {
    "colab": {
     "base_uri": "https://localhost:8080/"
    },
    "executionInfo": {
     "elapsed": 584,
     "status": "ok",
     "timestamp": 1655153154936,
     "user": {
      "displayName": "Hernán Contigiani",
      "userId": "01142101934719343059"
     },
     "user_tz": 180
    },
    "id": "zBzdKiTVIBYY",
    "outputId": "f313cf87-642e-4671-b88d-90ecd0e80c28"
   },
   "outputs": [
    {
     "name": "stdout",
     "output_type": "stream",
     "text": [
      "Palabras en el vocabulario: 26341\n",
      "Sentencia de salida más larga: 48\n"
     ]
    }
   ],
   "source": [
    "# A los filtros de símbolos del Tokenizer agregamos el \"¿\",\n",
    "# sacamos los \"<>\" para que no afectar nuestros tokens\n",
    "output_tokenizer = Tokenizer(num_words=MAX_VOCAB_SIZE, filters='!\"#$%&()*+,-./:;=¿?@[\\\\]^_`{|}~\\t\\n')\n",
    "output_tokenizer.fit_on_texts([\"<sos>\", \"<eos>\"] + output_sentences)\n",
    "output_integer_seq = output_tokenizer.texts_to_sequences(output_sentences)\n",
    "output_input_integer_seq = output_tokenizer.texts_to_sequences(output_sentences_inputs)\n",
    "\n",
    "word2idx_outputs = output_tokenizer.word_index\n",
    "print(\"Palabras en el vocabulario:\", len(word2idx_outputs))\n",
    "\n",
    "num_words_output = min(len(word2idx_outputs) + 1, MAX_VOCAB_SIZE) # Se suma 1 por el primer <sos>\n",
    "max_out_len = max(len(sen) for sen in output_integer_seq)\n",
    "print(\"Sentencia de salida más larga:\", max_out_len)"
   ]
  },
  {
   "cell_type": "markdown",
   "metadata": {
    "id": "Xqb8ZJ4sJHgv"
   },
   "source": [
    "Como era de esperarse, las sentencias en castellano son más largas que en inglés, y lo mismo sucede con su vocabulario."
   ]
  },
  {
   "cell_type": "code",
   "execution_count": 49,
   "metadata": {
    "id": "pgLC706EQx3p"
   },
   "outputs": [],
   "source": [
    "# Por una cuestion de que no explote la RAM se limitará el tamaño de las sentencias de entrada\n",
    "# a la mitad:\n",
    "max_input_len = 45\n",
    "max_out_len = 48"
   ]
  },
  {
   "cell_type": "markdown",
   "metadata": {
    "id": "hGOn9N57IuYz"
   },
   "source": [
    "A la hora de realiza padding es importante teneer en cuenta que en el encoder los ceros se agregan al comienoz y en el decoder al final. Esto es porque la salida del encoder está basado en las últimas palabras de la sentencia (son las más importantes), mientras que en el decoder está basado en el comienzo de la secuencia de salida ya que es la realimentación del sistema y termina con fin de sentencia."
   ]
  },
  {
   "cell_type": "code",
   "execution_count": 50,
   "metadata": {
    "colab": {
     "base_uri": "https://localhost:8080/"
    },
    "executionInfo": {
     "elapsed": 23,
     "status": "ok",
     "timestamp": 1655153154937,
     "user": {
      "displayName": "Hernán Contigiani",
      "userId": "01142101934719343059"
     },
     "user_tz": 180
    },
    "id": "q0Ob4hAWJkcv",
    "outputId": "9152d151-b863-49c9-e527-940d37a85385"
   },
   "outputs": [
    {
     "name": "stdout",
     "output_type": "stream",
     "text": [
      "1.26.4\n",
      "Cantidad de rows del dataset: 118964\n",
      "encoder_input_sequences shape: (118964, 45)\n",
      "decoder_input_sequences shape: (118964, 48)\n"
     ]
    }
   ],
   "source": [
    "from torch_helpers import pad_sequences\n",
    "print(np.version.full_version)\n",
    "print(\"Cantidad de rows del dataset:\", len(input_integer_seq))\n",
    "\n",
    "encoder_input_sequences = pad_sequences(input_integer_seq, maxlen=max_input_len)\n",
    "print(\"encoder_input_sequences shape:\", encoder_input_sequences.shape)\n",
    "\n",
    "decoder_input_sequences = pad_sequences(output_input_integer_seq, maxlen=max_out_len, padding='post')\n",
    "print(\"decoder_input_sequences shape:\", decoder_input_sequences.shape)"
   ]
  },
  {
   "cell_type": "code",
   "execution_count": 51,
   "metadata": {
    "colab": {
     "base_uri": "https://localhost:8080/"
    },
    "executionInfo": {
     "elapsed": 16,
     "status": "ok",
     "timestamp": 1655153154937,
     "user": {
      "displayName": "Hernán Contigiani",
      "userId": "01142101934719343059"
     },
     "user_tz": 180
    },
    "id": "3VySR1pzx9UG",
    "outputId": "3dfeac8e-beed-4069-ffe9-1420bd7bfaa2"
   },
   "outputs": [
    {
     "name": "stdout",
     "output_type": "stream",
     "text": [
      "decoder_output_sequences shape: (118964, 48)\n"
     ]
    }
   ],
   "source": [
    "decoder_output_sequences = pad_sequences(output_integer_seq, maxlen=max_out_len, padding='post')\n",
    "print(\"decoder_output_sequences shape:\", decoder_output_sequences.shape)"
   ]
  },
  {
   "cell_type": "markdown",
   "metadata": {
    "id": "wK4blEEsRQv3"
   },
   "source": [
    "La última capa del modelo (softmax) necesita que los valores de salida\n",
    "del decoder (decoder_sequences) estén en formato oneHotEncoder.\\\n",
    "Se utiliza \"decoder_output_sequences\" con la misma estrategía que se transformó la entrada del decoder."
   ]
  },
  {
   "cell_type": "code",
   "execution_count": 52,
   "metadata": {
    "colab": {
     "base_uri": "https://localhost:8080/"
    },
    "executionInfo": {
     "elapsed": 11,
     "status": "ok",
     "timestamp": 1655153154938,
     "user": {
      "displayName": "Hernán Contigiani",
      "userId": "01142101934719343059"
     },
     "user_tz": 180
    },
    "id": "ANTOqJ0WWw-q",
    "outputId": "eba76a92-1e3c-4380-8e60-761ee7e43746"
   },
   "outputs": [
    {
     "data": {
      "text/plain": [
       "torch.Size([118964, 48])"
      ]
     },
     "execution_count": 52,
     "metadata": {},
     "output_type": "execute_result"
    }
   ],
   "source": [
    "torch.from_numpy(decoder_output_sequences).shape"
   ]
  },
  {
   "cell_type": "code",
   "execution_count": 53,
   "metadata": {
    "colab": {
     "base_uri": "https://localhost:8080/"
    },
    "executionInfo": {
     "elapsed": 4345,
     "status": "ok",
     "timestamp": 1655153159276,
     "user": {
      "displayName": "Hernán Contigiani",
      "userId": "01142101934719343059"
     },
     "user_tz": 180
    },
    "id": "SD0bpM32yWfB",
    "outputId": "f7b48899-43d3-4b7b-fd59-0bdbae7bc2bd"
   },
   "outputs": [
    {
     "name": "stdout",
     "output_type": "stream",
     "text": [
      "encoder_input_size: 45\n",
      "decoder_input_size: 48\n"
     ]
    }
   ],
   "source": [
    "class Data(Dataset):\n",
    "    def __init__(self, encoder_input, decoder_input, decoder_output):\n",
    "        # Convertir los arrays de numpy a tensores\n",
    "        self.encoder_inputs = torch.from_numpy(encoder_input.astype(np.int32))\n",
    "        self.decoder_inputs = torch.from_numpy(decoder_input.astype(np.int32))\n",
    "        # Store as integer tensors with dtype int64 (long)\n",
    "        self.decoder_outputs = torch.from_numpy(decoder_output.astype(np.int64))  # Change to int64\n",
    "        self.len = self.decoder_outputs.shape[0]\n",
    "\n",
    "    def __getitem__(self, index):\n",
    "        return self.encoder_inputs[index], self.decoder_inputs[index], self.decoder_outputs[index]\n",
    "\n",
    "    def __len__(self):\n",
    "        return self.len\n",
    "\n",
    "data_set = Data(encoder_input_sequences, decoder_input_sequences, decoder_output_sequences)\n",
    "\n",
    "encoder_input_size = data_set.encoder_inputs.shape[1]\n",
    "print(\"encoder_input_size:\", encoder_input_size)\n",
    "\n",
    "decoder_input_size = data_set.decoder_inputs.shape[1]\n",
    "print(\"decoder_input_size:\", decoder_input_size)\n"
   ]
  },
  {
   "cell_type": "code",
   "execution_count": 54,
   "metadata": {
    "colab": {
     "base_uri": "https://localhost:8080/"
    },
    "executionInfo": {
     "elapsed": 268,
     "status": "ok",
     "timestamp": 1655153159536,
     "user": {
      "displayName": "Hernán Contigiani",
      "userId": "01142101934719343059"
     },
     "user_tz": 180
    },
    "id": "sUDPZeuAU1RI",
    "outputId": "f19e0632-7cfd-4671-dddc-edbcf715788f"
   },
   "outputs": [
    {
     "name": "stdout",
     "output_type": "stream",
     "text": [
      "Tamaño del conjunto de entrenamiento: 95172\n",
      "Tamaño del conjunto de validacion: 23792\n"
     ]
    }
   ],
   "source": [
    "torch.manual_seed(42)\n",
    "valid_set_size = int(data_set.len * 0.2)\n",
    "train_set_size = data_set.len - valid_set_size\n",
    "\n",
    "train_set = torch.utils.data.Subset(data_set, range(train_set_size))\n",
    "valid_set = torch.utils.data.Subset(data_set, range(train_set_size, data_set.len))\n",
    "\n",
    "print(\"Tamaño del conjunto de entrenamiento:\", len(train_set))\n",
    "print(\"Tamaño del conjunto de validacion:\", len(valid_set))\n",
    "\n",
    "train_loader = torch.utils.data.DataLoader(train_set, batch_size=32, shuffle=True)\n",
    "valid_loader = torch.utils.data.DataLoader(valid_set, batch_size=32, shuffle=False)"
   ]
  },
  {
   "cell_type": "markdown",
   "metadata": {
    "id": "_CJIsLBbj6rg"
   },
   "source": [
    "### 3 - Preparar los embeddings"
   ]
  },
  {
   "cell_type": "code",
   "execution_count": 55,
   "metadata": {
    "colab": {
     "base_uri": "https://localhost:8080/"
    },
    "executionInfo": {
     "elapsed": 22,
     "status": "ok",
     "timestamp": 1655153159537,
     "user": {
      "displayName": "Hernán Contigiani",
      "userId": "01142101934719343059"
     },
     "user_tz": 180
    },
    "id": "9OcT-DLzkHS8",
    "outputId": "ffac352c-8ad7-4906-a86a-921999921442"
   },
   "outputs": [
    {
     "name": "stdout",
     "output_type": "stream",
     "text": [
      "Los embeddings gloveembedding.pkl ya están descargados\n"
     ]
    }
   ],
   "source": [
    "# Descargar los embeddings desde un gogle drive (es la forma más rápida)\n",
    "# NOTA: No hay garantía de que estos links perduren, en caso de que no estén\n",
    "# disponibles descargar de la página oficial como se explica en el siguiente bloque\n",
    "import os\n",
    "import gdown\n",
    "if os.access('gloveembedding.pkl', os.F_OK) is False:\n",
    "    url = 'https://drive.google.com/uc?id=1wlDBOrxPq2-3htQ6ryVo7K1XnzLcfh4r&export=download'\n",
    "    output = 'gloveembedding.pkl'\n",
    "    gdown.download(url, output, quiet=False)\n",
    "else:\n",
    "    print(\"Los embeddings gloveembedding.pkl ya están descargados\")"
   ]
  },
  {
   "cell_type": "code",
   "execution_count": 56,
   "metadata": {
    "id": "ZgqtV8GpkSc8"
   },
   "outputs": [],
   "source": [
    "import logging\n",
    "import os\n",
    "from pathlib import Path\n",
    "from io import StringIO\n",
    "import pickle\n",
    "\n",
    "class WordsEmbeddings(object):\n",
    "    logger = logging.getLogger(__name__)\n",
    "\n",
    "    def __init__(self):\n",
    "        # load the embeddings\n",
    "        words_embedding_pkl = Path(self.PKL_PATH)\n",
    "        if not words_embedding_pkl.is_file():\n",
    "            words_embedding_txt = Path(self.WORD_TO_VEC_MODEL_TXT_PATH)\n",
    "            assert words_embedding_txt.is_file(), 'Words embedding not available'\n",
    "            embeddings = self.convert_model_to_pickle()\n",
    "        else:\n",
    "            embeddings = self.load_model_from_pickle()\n",
    "        self.embeddings = embeddings\n",
    "        # build the vocabulary hashmap\n",
    "        index = np.arange(self.embeddings.shape[0])\n",
    "        # Dicctionarios para traducir de embedding a IDX de la palabra\n",
    "        self.word2idx = dict(zip(self.embeddings['word'], index))\n",
    "        self.idx2word = dict(zip(index, self.embeddings['word']))\n",
    "\n",
    "    def get_words_embeddings(self, words):\n",
    "        words_idxs = self.words2idxs(words)\n",
    "        return self.embeddings[words_idxs]['embedding']\n",
    "\n",
    "    def words2idxs(self, words):\n",
    "        return np.array([self.word2idx.get(word, -1) for word in words])\n",
    "\n",
    "    def idxs2words(self, idxs):\n",
    "        return np.array([self.idx2word.get(idx, '-1') for idx in idxs])\n",
    "\n",
    "    def load_model_from_pickle(self):\n",
    "        self.logger.debug(\n",
    "            'loading words embeddings from pickle {}'.format(\n",
    "                self.PKL_PATH\n",
    "            )\n",
    "        )\n",
    "        max_bytes = 2**28 - 1 # 256MB\n",
    "        bytes_in = bytearray(0)\n",
    "        input_size = os.path.getsize(self.PKL_PATH)\n",
    "        with open(self.PKL_PATH, 'rb') as f_in:\n",
    "            for _ in range(0, input_size, max_bytes):\n",
    "                bytes_in += f_in.read(max_bytes)\n",
    "        embeddings = pickle.loads(bytes_in)\n",
    "        self.logger.debug('words embeddings loaded')\n",
    "        return embeddings\n",
    "\n",
    "    def convert_model_to_pickle(self):\n",
    "        # create a numpy strctured array:\n",
    "        # word     embedding\n",
    "        # U50      np.float32[]\n",
    "        # word_1   a, b, c\n",
    "        # word_2   d, e, f\n",
    "        # ...\n",
    "        # word_n   g, h, i\n",
    "        self.logger.debug(\n",
    "            'converting and loading words embeddings from text file {}'.format(\n",
    "                self.WORD_TO_VEC_MODEL_TXT_PATH\n",
    "            )\n",
    "        )\n",
    "        structure = [('word', np.dtype('U' + str(self.WORD_MAX_SIZE))),\n",
    "                     ('embedding', np.float32, (self.N_FEATURES,))]\n",
    "        structure = np.dtype(structure)\n",
    "        # load numpy array from disk using a generator\n",
    "        with open(self.WORD_TO_VEC_MODEL_TXT_PATH, encoding=\"utf8\") as words_embeddings_txt:\n",
    "            embeddings_gen = (\n",
    "                (line.split()[0], line.split()[1:]) for line in words_embeddings_txt\n",
    "                if len(line.split()[1:]) == self.N_FEATURES\n",
    "            )\n",
    "            embeddings = np.fromiter(embeddings_gen, structure)\n",
    "        # add a null embedding\n",
    "        null_embedding = np.array(\n",
    "            [('null_embedding', np.zeros((self.N_FEATURES,), dtype=np.float32))],\n",
    "            dtype=structure\n",
    "        )\n",
    "        embeddings = np.concatenate([embeddings, null_embedding])\n",
    "        # dump numpy array to disk using pickle\n",
    "        max_bytes = 2**28 - 1 # # 256MB\n",
    "        bytes_out = pickle.dumps(embeddings, protocol=pickle.HIGHEST_PROTOCOL)\n",
    "        with open(self.PKL_PATH, 'wb') as f_out:\n",
    "            for idx in range(0, len(bytes_out), max_bytes):\n",
    "                f_out.write(bytes_out[idx:idx+max_bytes])\n",
    "        self.logger.debug('words embeddings loaded')\n",
    "        return embeddings\n",
    "\n",
    "\n",
    "class GloveEmbeddings(WordsEmbeddings):\n",
    "    WORD_TO_VEC_MODEL_TXT_PATH = 'glove.twitter.27B.50d.txt'\n",
    "    PKL_PATH = 'gloveembedding.pkl'\n",
    "    N_FEATURES = 50\n",
    "    WORD_MAX_SIZE = 60\n",
    "\n",
    "class FasttextEmbeddings(WordsEmbeddings):\n",
    "    WORD_TO_VEC_MODEL_TXT_PATH = 'cc.en.300.vec'\n",
    "    PKL_PATH = 'fasttext.pkl'\n",
    "    N_FEATURES = 300\n",
    "    WORD_MAX_SIZE = 60"
   ]
  },
  {
   "cell_type": "code",
   "execution_count": 57,
   "metadata": {
    "id": "Mosj2-x-kXBK"
   },
   "outputs": [],
   "source": [
    "# Por una cuestion de RAM se utilizará los embeddings de Glove de dimension 50\n",
    "model_embeddings = GloveEmbeddings()"
   ]
  },
  {
   "cell_type": "code",
   "execution_count": 58,
   "metadata": {
    "colab": {
     "base_uri": "https://localhost:8080/"
    },
    "executionInfo": {
     "elapsed": 46,
     "status": "ok",
     "timestamp": 1655153166401,
     "user": {
      "displayName": "Hernán Contigiani",
      "userId": "01142101934719343059"
     },
     "user_tz": 180
    },
    "id": "b9FS8ca1ke_B",
    "outputId": "b5ef8b04-2fff-489e-e786-1472d2c41fbe"
   },
   "outputs": [
    {
     "name": "stdout",
     "output_type": "stream",
     "text": [
      "preparing embedding matrix...\n",
      "number of null word embeddings: 126\n"
     ]
    }
   ],
   "source": [
    "# Crear la Embedding matrix de las secuencias\n",
    "# en ingles\n",
    "\n",
    "print('preparing embedding matrix...')\n",
    "embed_dim = model_embeddings.N_FEATURES\n",
    "words_not_found = []\n",
    "\n",
    "# word_index provieen del tokenizer\n",
    "\n",
    "nb_words = min(MAX_VOCAB_SIZE, len(word2idx_inputs)) # vocab_size\n",
    "embedding_matrix = np.zeros((nb_words, embed_dim))\n",
    "for word, i in word2idx_inputs.items():\n",
    "    if i >= nb_words:\n",
    "        continue\n",
    "    embedding_vector = model_embeddings.get_words_embeddings(word)[0]\n",
    "    if (embedding_vector is not None) and len(embedding_vector) > 0:\n",
    "        \n",
    "        embedding_matrix[i] = embedding_vector\n",
    "    else:\n",
    "        # words not found in embedding index will be all-zeros.\n",
    "        words_not_found.append(word)\n",
    "\n",
    "print('number of null word embeddings:', np.sum(np.sum(embedding_matrix, axis=1) == 0))"
   ]
  },
  {
   "cell_type": "code",
   "execution_count": 59,
   "metadata": {
    "colab": {
     "base_uri": "https://localhost:8080/"
    },
    "executionInfo": {
     "elapsed": 42,
     "status": "ok",
     "timestamp": 1655153166402,
     "user": {
      "displayName": "Hernán Contigiani",
      "userId": "01142101934719343059"
     },
     "user_tz": 180
    },
    "id": "4q3U_WmEYRdH",
    "outputId": "e47190cf-275f-49c8-b63f-ed1aa245872a"
   },
   "outputs": [
    {
     "data": {
      "text/plain": [
       "10000"
      ]
     },
     "execution_count": 59,
     "metadata": {},
     "output_type": "execute_result"
    }
   ],
   "source": [
    "nb_words"
   ]
  },
  {
   "cell_type": "code",
   "execution_count": 60,
   "metadata": {
    "colab": {
     "base_uri": "https://localhost:8080/"
    },
    "executionInfo": {
     "elapsed": 33,
     "status": "ok",
     "timestamp": 1655153166402,
     "user": {
      "displayName": "Hernán Contigiani",
      "userId": "01142101934719343059"
     },
     "user_tz": 180
    },
    "id": "FpzJODHBlAtE",
    "outputId": "d879d7dc-81a3-4cdc-bf1f-f5ba51aeea80"
   },
   "outputs": [
    {
     "data": {
      "text/plain": [
       "(10000, 50)"
      ]
     },
     "execution_count": 60,
     "metadata": {},
     "output_type": "execute_result"
    }
   ],
   "source": [
    "# Dimensión de los embeddings de la secuencia en ingles\n",
    "embedding_matrix.shape"
   ]
  },
  {
   "cell_type": "markdown",
   "metadata": {
    "id": "3vKbhjtIwPgM"
   },
   "source": [
    "### 4 - Entrenar el modelo"
   ]
  },
  {
   "cell_type": "code",
   "execution_count": 61,
   "metadata": {
    "colab": {
     "base_uri": "https://localhost:8080/"
    },
    "executionInfo": {
     "elapsed": 14732,
     "status": "ok",
     "timestamp": 1655153181107,
     "user": {
      "displayName": "Hernán Contigiani",
      "userId": "01142101934719343059"
     },
     "user_tz": 180
    },
    "id": "3fm3HCLMPSG-",
    "outputId": "39be3183-0a69-49a5-8aa1-9f24026edf32"
   },
   "outputs": [
    {
     "data": {
      "text/plain": [
       "==========================================================================================\n",
       "Layer (type:depth-idx)                   Output Shape              Param #\n",
       "==========================================================================================\n",
       "Seq2Seq                                  [1, 48, 10000]            --\n",
       "├─Encoder: 1-1                           [1, 1, 128]               --\n",
       "│    └─Embedding: 2-1                    [1, 45, 50]               (500,000)\n",
       "│    └─LSTM: 2-2                         [1, 45, 128]              92,160\n",
       "├─Decoder: 1-2                           [1, 10000]                --\n",
       "│    └─Embedding: 2-3                    [1, 1, 50]                500,000\n",
       "│    └─LSTM: 2-4                         [1, 1, 128]               92,160\n",
       "│    └─Linear: 2-5                       [1, 10000]                1,290,000\n",
       "├─Decoder: 1-3                           [1, 10000]                (recursive)\n",
       "│    └─Embedding: 2-6                    [1, 1, 50]                (recursive)\n",
       "│    └─LSTM: 2-7                         [1, 1, 128]               (recursive)\n",
       "│    └─Linear: 2-8                       [1, 10000]                (recursive)\n",
       "├─Decoder: 1-4                           [1, 10000]                (recursive)\n",
       "│    └─Embedding: 2-9                    [1, 1, 50]                (recursive)\n",
       "│    └─LSTM: 2-10                        [1, 1, 128]               (recursive)\n",
       "│    └─Linear: 2-11                      [1, 10000]                (recursive)\n",
       "├─Decoder: 1-5                           [1, 10000]                (recursive)\n",
       "│    └─Embedding: 2-12                   [1, 1, 50]                (recursive)\n",
       "│    └─LSTM: 2-13                        [1, 1, 128]               (recursive)\n",
       "│    └─Linear: 2-14                      [1, 10000]                (recursive)\n",
       "├─Decoder: 1-6                           [1, 10000]                (recursive)\n",
       "│    └─Embedding: 2-15                   [1, 1, 50]                (recursive)\n",
       "│    └─LSTM: 2-16                        [1, 1, 128]               (recursive)\n",
       "│    └─Linear: 2-17                      [1, 10000]                (recursive)\n",
       "├─Decoder: 1-7                           [1, 10000]                (recursive)\n",
       "│    └─Embedding: 2-18                   [1, 1, 50]                (recursive)\n",
       "│    └─LSTM: 2-19                        [1, 1, 128]               (recursive)\n",
       "│    └─Linear: 2-20                      [1, 10000]                (recursive)\n",
       "├─Decoder: 1-8                           [1, 10000]                (recursive)\n",
       "│    └─Embedding: 2-21                   [1, 1, 50]                (recursive)\n",
       "│    └─LSTM: 2-22                        [1, 1, 128]               (recursive)\n",
       "│    └─Linear: 2-23                      [1, 10000]                (recursive)\n",
       "├─Decoder: 1-9                           [1, 10000]                (recursive)\n",
       "│    └─Embedding: 2-24                   [1, 1, 50]                (recursive)\n",
       "│    └─LSTM: 2-25                        [1, 1, 128]               (recursive)\n",
       "│    └─Linear: 2-26                      [1, 10000]                (recursive)\n",
       "├─Decoder: 1-10                          [1, 10000]                (recursive)\n",
       "│    └─Embedding: 2-27                   [1, 1, 50]                (recursive)\n",
       "│    └─LSTM: 2-28                        [1, 1, 128]               (recursive)\n",
       "│    └─Linear: 2-29                      [1, 10000]                (recursive)\n",
       "├─Decoder: 1-11                          [1, 10000]                (recursive)\n",
       "│    └─Embedding: 2-30                   [1, 1, 50]                (recursive)\n",
       "│    └─LSTM: 2-31                        [1, 1, 128]               (recursive)\n",
       "│    └─Linear: 2-32                      [1, 10000]                (recursive)\n",
       "├─Decoder: 1-12                          [1, 10000]                (recursive)\n",
       "│    └─Embedding: 2-33                   [1, 1, 50]                (recursive)\n",
       "│    └─LSTM: 2-34                        [1, 1, 128]               (recursive)\n",
       "│    └─Linear: 2-35                      [1, 10000]                (recursive)\n",
       "├─Decoder: 1-13                          [1, 10000]                (recursive)\n",
       "│    └─Embedding: 2-36                   [1, 1, 50]                (recursive)\n",
       "│    └─LSTM: 2-37                        [1, 1, 128]               (recursive)\n",
       "│    └─Linear: 2-38                      [1, 10000]                (recursive)\n",
       "├─Decoder: 1-14                          [1, 10000]                (recursive)\n",
       "│    └─Embedding: 2-39                   [1, 1, 50]                (recursive)\n",
       "│    └─LSTM: 2-40                        [1, 1, 128]               (recursive)\n",
       "│    └─Linear: 2-41                      [1, 10000]                (recursive)\n",
       "├─Decoder: 1-15                          [1, 10000]                (recursive)\n",
       "│    └─Embedding: 2-42                   [1, 1, 50]                (recursive)\n",
       "│    └─LSTM: 2-43                        [1, 1, 128]               (recursive)\n",
       "│    └─Linear: 2-44                      [1, 10000]                (recursive)\n",
       "├─Decoder: 1-16                          [1, 10000]                (recursive)\n",
       "│    └─Embedding: 2-45                   [1, 1, 50]                (recursive)\n",
       "│    └─LSTM: 2-46                        [1, 1, 128]               (recursive)\n",
       "│    └─Linear: 2-47                      [1, 10000]                (recursive)\n",
       "├─Decoder: 1-17                          [1, 10000]                (recursive)\n",
       "│    └─Embedding: 2-48                   [1, 1, 50]                (recursive)\n",
       "│    └─LSTM: 2-49                        [1, 1, 128]               (recursive)\n",
       "│    └─Linear: 2-50                      [1, 10000]                (recursive)\n",
       "├─Decoder: 1-18                          [1, 10000]                (recursive)\n",
       "│    └─Embedding: 2-51                   [1, 1, 50]                (recursive)\n",
       "│    └─LSTM: 2-52                        [1, 1, 128]               (recursive)\n",
       "│    └─Linear: 2-53                      [1, 10000]                (recursive)\n",
       "├─Decoder: 1-19                          [1, 10000]                (recursive)\n",
       "│    └─Embedding: 2-54                   [1, 1, 50]                (recursive)\n",
       "│    └─LSTM: 2-55                        [1, 1, 128]               (recursive)\n",
       "│    └─Linear: 2-56                      [1, 10000]                (recursive)\n",
       "├─Decoder: 1-20                          [1, 10000]                (recursive)\n",
       "│    └─Embedding: 2-57                   [1, 1, 50]                (recursive)\n",
       "│    └─LSTM: 2-58                        [1, 1, 128]               (recursive)\n",
       "│    └─Linear: 2-59                      [1, 10000]                (recursive)\n",
       "├─Decoder: 1-21                          [1, 10000]                (recursive)\n",
       "│    └─Embedding: 2-60                   [1, 1, 50]                (recursive)\n",
       "│    └─LSTM: 2-61                        [1, 1, 128]               (recursive)\n",
       "│    └─Linear: 2-62                      [1, 10000]                (recursive)\n",
       "├─Decoder: 1-22                          [1, 10000]                (recursive)\n",
       "│    └─Embedding: 2-63                   [1, 1, 50]                (recursive)\n",
       "│    └─LSTM: 2-64                        [1, 1, 128]               (recursive)\n",
       "│    └─Linear: 2-65                      [1, 10000]                (recursive)\n",
       "├─Decoder: 1-23                          [1, 10000]                (recursive)\n",
       "│    └─Embedding: 2-66                   [1, 1, 50]                (recursive)\n",
       "│    └─LSTM: 2-67                        [1, 1, 128]               (recursive)\n",
       "│    └─Linear: 2-68                      [1, 10000]                (recursive)\n",
       "├─Decoder: 1-24                          [1, 10000]                (recursive)\n",
       "│    └─Embedding: 2-69                   [1, 1, 50]                (recursive)\n",
       "│    └─LSTM: 2-70                        [1, 1, 128]               (recursive)\n",
       "│    └─Linear: 2-71                      [1, 10000]                (recursive)\n",
       "├─Decoder: 1-25                          [1, 10000]                (recursive)\n",
       "│    └─Embedding: 2-72                   [1, 1, 50]                (recursive)\n",
       "│    └─LSTM: 2-73                        [1, 1, 128]               (recursive)\n",
       "│    └─Linear: 2-74                      [1, 10000]                (recursive)\n",
       "├─Decoder: 1-26                          [1, 10000]                (recursive)\n",
       "│    └─Embedding: 2-75                   [1, 1, 50]                (recursive)\n",
       "│    └─LSTM: 2-76                        [1, 1, 128]               (recursive)\n",
       "│    └─Linear: 2-77                      [1, 10000]                (recursive)\n",
       "├─Decoder: 1-27                          [1, 10000]                (recursive)\n",
       "│    └─Embedding: 2-78                   [1, 1, 50]                (recursive)\n",
       "│    └─LSTM: 2-79                        [1, 1, 128]               (recursive)\n",
       "│    └─Linear: 2-80                      [1, 10000]                (recursive)\n",
       "├─Decoder: 1-28                          [1, 10000]                (recursive)\n",
       "│    └─Embedding: 2-81                   [1, 1, 50]                (recursive)\n",
       "│    └─LSTM: 2-82                        [1, 1, 128]               (recursive)\n",
       "│    └─Linear: 2-83                      [1, 10000]                (recursive)\n",
       "├─Decoder: 1-29                          [1, 10000]                (recursive)\n",
       "│    └─Embedding: 2-84                   [1, 1, 50]                (recursive)\n",
       "│    └─LSTM: 2-85                        [1, 1, 128]               (recursive)\n",
       "│    └─Linear: 2-86                      [1, 10000]                (recursive)\n",
       "├─Decoder: 1-30                          [1, 10000]                (recursive)\n",
       "│    └─Embedding: 2-87                   [1, 1, 50]                (recursive)\n",
       "│    └─LSTM: 2-88                        [1, 1, 128]               (recursive)\n",
       "│    └─Linear: 2-89                      [1, 10000]                (recursive)\n",
       "├─Decoder: 1-31                          [1, 10000]                (recursive)\n",
       "│    └─Embedding: 2-90                   [1, 1, 50]                (recursive)\n",
       "│    └─LSTM: 2-91                        [1, 1, 128]               (recursive)\n",
       "│    └─Linear: 2-92                      [1, 10000]                (recursive)\n",
       "├─Decoder: 1-32                          [1, 10000]                (recursive)\n",
       "│    └─Embedding: 2-93                   [1, 1, 50]                (recursive)\n",
       "│    └─LSTM: 2-94                        [1, 1, 128]               (recursive)\n",
       "│    └─Linear: 2-95                      [1, 10000]                (recursive)\n",
       "├─Decoder: 1-33                          [1, 10000]                (recursive)\n",
       "│    └─Embedding: 2-96                   [1, 1, 50]                (recursive)\n",
       "│    └─LSTM: 2-97                        [1, 1, 128]               (recursive)\n",
       "│    └─Linear: 2-98                      [1, 10000]                (recursive)\n",
       "├─Decoder: 1-34                          [1, 10000]                (recursive)\n",
       "│    └─Embedding: 2-99                   [1, 1, 50]                (recursive)\n",
       "│    └─LSTM: 2-100                       [1, 1, 128]               (recursive)\n",
       "│    └─Linear: 2-101                     [1, 10000]                (recursive)\n",
       "├─Decoder: 1-35                          [1, 10000]                (recursive)\n",
       "│    └─Embedding: 2-102                  [1, 1, 50]                (recursive)\n",
       "│    └─LSTM: 2-103                       [1, 1, 128]               (recursive)\n",
       "│    └─Linear: 2-104                     [1, 10000]                (recursive)\n",
       "├─Decoder: 1-36                          [1, 10000]                (recursive)\n",
       "│    └─Embedding: 2-105                  [1, 1, 50]                (recursive)\n",
       "│    └─LSTM: 2-106                       [1, 1, 128]               (recursive)\n",
       "│    └─Linear: 2-107                     [1, 10000]                (recursive)\n",
       "├─Decoder: 1-37                          [1, 10000]                (recursive)\n",
       "│    └─Embedding: 2-108                  [1, 1, 50]                (recursive)\n",
       "│    └─LSTM: 2-109                       [1, 1, 128]               (recursive)\n",
       "│    └─Linear: 2-110                     [1, 10000]                (recursive)\n",
       "├─Decoder: 1-38                          [1, 10000]                (recursive)\n",
       "│    └─Embedding: 2-111                  [1, 1, 50]                (recursive)\n",
       "│    └─LSTM: 2-112                       [1, 1, 128]               (recursive)\n",
       "│    └─Linear: 2-113                     [1, 10000]                (recursive)\n",
       "├─Decoder: 1-39                          [1, 10000]                (recursive)\n",
       "│    └─Embedding: 2-114                  [1, 1, 50]                (recursive)\n",
       "│    └─LSTM: 2-115                       [1, 1, 128]               (recursive)\n",
       "│    └─Linear: 2-116                     [1, 10000]                (recursive)\n",
       "├─Decoder: 1-40                          [1, 10000]                (recursive)\n",
       "│    └─Embedding: 2-117                  [1, 1, 50]                (recursive)\n",
       "│    └─LSTM: 2-118                       [1, 1, 128]               (recursive)\n",
       "│    └─Linear: 2-119                     [1, 10000]                (recursive)\n",
       "├─Decoder: 1-41                          [1, 10000]                (recursive)\n",
       "│    └─Embedding: 2-120                  [1, 1, 50]                (recursive)\n",
       "│    └─LSTM: 2-121                       [1, 1, 128]               (recursive)\n",
       "│    └─Linear: 2-122                     [1, 10000]                (recursive)\n",
       "├─Decoder: 1-42                          [1, 10000]                (recursive)\n",
       "│    └─Embedding: 2-123                  [1, 1, 50]                (recursive)\n",
       "│    └─LSTM: 2-124                       [1, 1, 128]               (recursive)\n",
       "│    └─Linear: 2-125                     [1, 10000]                (recursive)\n",
       "├─Decoder: 1-43                          [1, 10000]                (recursive)\n",
       "│    └─Embedding: 2-126                  [1, 1, 50]                (recursive)\n",
       "│    └─LSTM: 2-127                       [1, 1, 128]               (recursive)\n",
       "│    └─Linear: 2-128                     [1, 10000]                (recursive)\n",
       "├─Decoder: 1-44                          [1, 10000]                (recursive)\n",
       "│    └─Embedding: 2-129                  [1, 1, 50]                (recursive)\n",
       "│    └─LSTM: 2-130                       [1, 1, 128]               (recursive)\n",
       "│    └─Linear: 2-131                     [1, 10000]                (recursive)\n",
       "├─Decoder: 1-45                          [1, 10000]                (recursive)\n",
       "│    └─Embedding: 2-132                  [1, 1, 50]                (recursive)\n",
       "│    └─LSTM: 2-133                       [1, 1, 128]               (recursive)\n",
       "│    └─Linear: 2-134                     [1, 10000]                (recursive)\n",
       "├─Decoder: 1-46                          [1, 10000]                (recursive)\n",
       "│    └─Embedding: 2-135                  [1, 1, 50]                (recursive)\n",
       "│    └─LSTM: 2-136                       [1, 1, 128]               (recursive)\n",
       "│    └─Linear: 2-137                     [1, 10000]                (recursive)\n",
       "├─Decoder: 1-47                          [1, 10000]                (recursive)\n",
       "│    └─Embedding: 2-138                  [1, 1, 50]                (recursive)\n",
       "│    └─LSTM: 2-139                       [1, 1, 128]               (recursive)\n",
       "│    └─Linear: 2-140                     [1, 10000]                (recursive)\n",
       "├─Decoder: 1-48                          [1, 10000]                (recursive)\n",
       "│    └─Embedding: 2-141                  [1, 1, 50]                (recursive)\n",
       "│    └─LSTM: 2-142                       [1, 1, 128]               (recursive)\n",
       "│    └─Linear: 2-143                     [1, 10000]                (recursive)\n",
       "├─Decoder: 1-49                          [1, 10000]                (recursive)\n",
       "│    └─Embedding: 2-144                  [1, 1, 50]                (recursive)\n",
       "│    └─LSTM: 2-145                       [1, 1, 128]               (recursive)\n",
       "│    └─Linear: 2-146                     [1, 10000]                (recursive)\n",
       "==========================================================================================\n",
       "Total params: 2,474,320\n",
       "Trainable params: 1,974,320\n",
       "Non-trainable params: 500,000\n",
       "Total mult-adds (M): 94.99\n",
       "==========================================================================================\n",
       "Input size (MB): 44.25\n",
       "Forward/backward pass size (MB): 3.97\n",
       "Params size (MB): 9.90\n",
       "Estimated Total Size (MB): 58.12\n",
       "=========================================================================================="
      ]
     },
     "execution_count": 61,
     "metadata": {},
     "output_type": "execute_result"
    }
   ],
   "source": [
    "class Encoder(nn.Module):\n",
    "    def __init__(self, vocab_size):\n",
    "        super().__init__()\n",
    "        # num_embeddings = vocab_size, definido por le Tokenizador\n",
    "        # embedding_dim = 50 --> dimensión de los embeddings utilizados\n",
    "        self.lstm_size = 128\n",
    "        self.num_layers = 1\n",
    "        self.embedding_dim = embed_dim\n",
    "        self.embedding = nn.Embedding(num_embeddings=vocab_size, embedding_dim=self.embedding_dim, padding_idx=0)\n",
    "        self.embedding.weight.data.copy_(torch.from_numpy(embedding_matrix))\n",
    "        self.embedding.weight.requires_grad = False  # marcar como layer no entrenable (freeze)\n",
    "        self.lstm = nn.LSTM(input_size=self.embedding_dim, hidden_size=self.lstm_size, batch_first=True,\n",
    "                            num_layers=self.num_layers) # LSTM layer\n",
    "\n",
    "    def forward(self, x):\n",
    "        out = self.embedding(x)\n",
    "        lstm_output, (ht, ct) = self.lstm(out)\n",
    "        return (ht, ct)\n",
    "\n",
    "class Decoder(nn.Module):\n",
    "    def __init__(self, vocab_size, output_dim):\n",
    "        super().__init__()\n",
    "        # num_embeddings = vocab_size, definido por le Tokenizador\n",
    "        # embedding_dim = 50 --> dimensión de los embeddings utilizados\n",
    "        self.lstm_size = 128\n",
    "        self.num_layers = 1\n",
    "        self.embedding_dim = embed_dim\n",
    "        self.output_dim = output_dim\n",
    "\n",
    "        self.embedding = nn.Embedding(num_embeddings=vocab_size, embedding_dim=self.embedding_dim, padding_idx=0)\n",
    "        self.lstm = nn.LSTM(input_size=self.embedding_dim, hidden_size=self.lstm_size, batch_first=True,\n",
    "                            num_layers=self.num_layers) # LSTM layer\n",
    "        self.fc1 = nn.Linear(in_features=self.lstm_size, out_features=self.output_dim) # Fully connected layer\n",
    "\n",
    "        # self.softmax = nn.Softmax(dim=1) # normalize in dim 1\n",
    "\n",
    "    def forward(self, x, prev_state):\n",
    "        out = self.embedding(x)\n",
    "        lstm_output, (ht, ct) = self.lstm(out, prev_state)\n",
    "        out = self.fc1(lstm_output[:, -1, :]) \n",
    "        return out, (ht, ct)\n",
    "\n",
    "class Seq2Seq(nn.Module):\n",
    "    def __init__(self, encoder, decoder):\n",
    "        super().__init__()\n",
    "        \n",
    "        self.encoder = encoder\n",
    "        self.decoder = decoder\n",
    "        \n",
    "        assert encoder.lstm_size == decoder.lstm_size, \\\n",
    "            \"Hidden dimensions of encoder and decoder must be equal!\"\n",
    "        assert encoder.num_layers == decoder.num_layers, \\\n",
    "            \"Encoder and decoder must have equal number of layers!\"\n",
    "        \n",
    "    def forward(self, encoder_input, decoder_input):\n",
    "        batch_size = decoder_input.shape[0]\n",
    "        decoder_input_len = decoder_input.shape[1]\n",
    "        vocab_size = self.decoder.output_dim\n",
    "        \n",
    "        # tensor para almacenar la salida\n",
    "        # (batch_size, sentence_len, one_hot_size)\n",
    "        outputs = torch.zeros(batch_size, decoder_input_len, vocab_size)\n",
    "        \n",
    "        # ultimo hidden state del encoder, primer estado oculto del decoder\n",
    "        prev_state = self.encoder(encoder_input)\n",
    "      \n",
    "        # En la primera iteracion se toma el primer token de target (<sos>)\n",
    "        input = decoder_input[:, 0:1]\n",
    "\n",
    "        for t in range(decoder_input_len):\n",
    "            # t --> token index\n",
    "\n",
    "            # utilizamos método \"teacher forcing\", es decir que durante\n",
    "            # el entrenamiento no realimentamos la salida del decoder\n",
    "            # sino el token correcto que sigue en target\n",
    "            input = decoder_input[:, t:t+1]\n",
    "\n",
    "            # ingresar cada token embedding, uno por uno junto al hidden state\n",
    "            # recibir el output del decoder (softmax)\n",
    "            output, prev_state = self.decoder(input, prev_state)\n",
    "            top1 = output.argmax(1).view(-1, 1)\n",
    "\n",
    "            # Sino se usará \"teacher forcing\" habría que descomentar\n",
    "            # esta linea.\n",
    "            # Hay ejemplos dandos vuelta en donde se utilza un random \n",
    "            # para ver en cada vuelta que técnica se aplica\n",
    "            #input = top1            \n",
    "\n",
    "            # guardar cada salida (softmax)\n",
    "            outputs[:, t, :] = output\n",
    "\n",
    "        return outputs\n",
    "\n",
    "encoder = Encoder(vocab_size=nb_words)\n",
    "if cuda: encoder.cuda()\n",
    "# decoder --> vocab_size == output_dim --> porque recibe y devuelve palabras en el mismo vocabulario\n",
    "decoder = Decoder(vocab_size=num_words_output, output_dim=num_words_output)\n",
    "if cuda: decoder.cuda()\n",
    "\n",
    "model = Seq2Seq(encoder, decoder)\n",
    "if cuda: model.to(device)\n",
    "\n",
    "optimizer = torch.optim.Adam(model.parameters(), lr=0.001)\n",
    "criterion = torch.nn.CrossEntropyLoss()\n",
    "if cuda:\n",
    "    criterion = criterion.to(device)\n",
    "encoder_input_data, decoder_input_data, decoder_output_data = data_set[0:1]\n",
    "summary(model, input_data=(encoder_input_data.to(device), decoder_input_data.to(device)))"
   ]
  },
  {
   "cell_type": "code",
   "execution_count": null,
   "metadata": {
    "colab": {
     "base_uri": "https://localhost:8080/"
    },
    "executionInfo": {
     "elapsed": 597334,
     "status": "ok",
     "timestamp": 1655153778405,
     "user": {
      "displayName": "Hernán Contigiani",
      "userId": "01142101934719343059"
     },
     "user_tz": 180
    },
    "id": "VDB0KWIegt8s",
    "outputId": "d1e002a8-fa8e-4dfc-f144-a95732026f94"
   },
   "outputs": [],
   "source": [
    "history1 = train(model,\n",
    "                train_loader,\n",
    "                valid_loader,\n",
    "                optimizer,\n",
    "                criterion,\n",
    "                epochs=10\n",
    "                )"
   ]
  },
  {
   "cell_type": "code",
   "execution_count": null,
   "metadata": {
    "colab": {
     "base_uri": "https://localhost:8080/",
     "height": 265
    },
    "executionInfo": {
     "elapsed": 800,
     "status": "ok",
     "timestamp": 1655154657801,
     "user": {
      "displayName": "Hernán Contigiani",
      "userId": "01142101934719343059"
     },
     "user_tz": 180
    },
    "id": "pZzm3tx059Zv",
    "outputId": "b7a08ad6-392e-4e40-8491-fb707d23254c"
   },
   "outputs": [],
   "source": [
    "epoch_count = range(1, len(history1['accuracy']) + 1)\n",
    "sns.lineplot(x=epoch_count,  y=history1['accuracy'], label='train')\n",
    "sns.lineplot(x=epoch_count,  y=history1['val_accuracy'], label='valid')\n",
    "plt.show()"
   ]
  },
  {
   "cell_type": "markdown",
   "metadata": {
    "id": "Zbwn0ekDy_s2"
   },
   "source": [
    "### 5 - Inferencia"
   ]
  },
  {
   "cell_type": "code",
   "execution_count": null,
   "metadata": {
    "id": "jnkl3mSpsU_7"
   },
   "outputs": [],
   "source": [
    "'''\n",
    "Step 1:\n",
    "A deal is a deal -> Encoder -> enc(h1,c1)\n",
    "\n",
    "enc(h1,c1) + <sos> -> Decoder -> Un + dec(h1,c1)\n",
    "\n",
    "step 2:\n",
    "dec(h1,c1) + Un -> Decoder -> trato + dec(h2,c2)\n",
    "\n",
    "step 3:\n",
    "dec(h2,c2) + trato -> Decoder -> es + dec(h3,c3)\n",
    "\n",
    "step 4:\n",
    "dec(h3,c3) + es -> Decoder -> un + dec(h4,c4)\n",
    "\n",
    "step 5:\n",
    "dec(h4,c4) + un -> Decoder -> trato + dec(h5,c5)\n",
    "\n",
    "step 6:\n",
    "dec(h5,c5) + trato. -> Decoder -> <eos> + dec(h6,c6)\n",
    "'''"
   ]
  },
  {
   "cell_type": "code",
   "execution_count": null,
   "metadata": {
    "id": "71XeCtfYmOFx"
   },
   "outputs": [],
   "source": [
    "# Armar lo conversores de indice a palabra:\n",
    "idx2word_input = {v:k for k, v in word2idx_inputs.items()}\n",
    "idx2word_target = {v:k for k, v in word2idx_outputs.items()}"
   ]
  },
  {
   "cell_type": "code",
   "execution_count": null,
   "metadata": {
    "colab": {
     "base_uri": "https://localhost:8080/"
    },
    "executionInfo": {
     "elapsed": 7,
     "status": "ok",
     "timestamp": 1655078819199,
     "user": {
      "displayName": "Hernán Contigiani",
      "userId": "01142101934719343059"
     },
     "user_tz": 180
    },
    "id": "-YOZFX8WkHsQ",
    "outputId": "edf89192-e845-445d-853f-453766be4683"
   },
   "outputs": [],
   "source": [
    "input_test = \"My mother say hi.\"\n",
    "print('Input:', input_test)\n",
    "integer_seq_test = input_tokenizer.texts_to_sequences([input_test])[0]\n",
    "print(\"Representacion en vector de tokens de ids\", integer_seq_test)\n",
    "encoder_sequence_test = pad_sequences([integer_seq_test], maxlen=max_input_len)\n",
    "print(\"Padding del vector:\", encoder_sequence_test)\n",
    "encoder_sequence_test_tensor = torch.from_numpy(encoder_sequence_test.astype(np.int32))\n",
    "\n",
    "# Se obtiene la salida del encoder (el estado oculto para el decoder)\n",
    "prev_state = model.encoder(encoder_sequence_test_tensor.to(device))\n",
    "\n",
    "# Se inicializa la secuencia de entrada al decoder como \"<sos>\"\n",
    "target_seq = np.zeros((1, 1))\n",
    "target_seq[0, 0] = word2idx_outputs['<sos>']\n",
    "target_seq_tensor = torch.from_numpy(target_seq.astype(np.int32))\n",
    "\n",
    "# Se obtiene la primera palabra de la secuencia de salida del decoder\n",
    "output, prev_state = model.decoder(target_seq_tensor.to(device), prev_state)\n",
    "\n",
    "top1 = output.argmax(1).view(-1, 1)\n",
    "idx = int(top1.cpu())\n",
    "print(\"Index/token de salida:\", idx)\n",
    "\n",
    "word = idx2word_target[idx]\n",
    "print(\"Palabra de salida:\", word)"
   ]
  },
  {
   "cell_type": "code",
   "execution_count": null,
   "metadata": {
    "id": "MlUyp9M6ua2V"
   },
   "outputs": [],
   "source": [
    "def translate_sentence(input_seq):\n",
    "    # Se transforma la sequencia de entrada a los stados \"h\" y \"c\" de la LSTM\n",
    "    # para enviar la primera vez al decoder\"\n",
    "    prev_state = model.encoder(encoder_sequence_test_tensor.to(device))\n",
    "\n",
    "    # Se inicializa la secuencia de entrada al decoder como \"<sos>\"\n",
    "    target_seq = np.zeros((1, 1))\n",
    "    target_seq[0, 0] = word2idx_outputs['<sos>']\n",
    "    target_seq_tensor = torch.from_numpy(target_seq.astype(np.int32))\n",
    "\n",
    "    # Se obtiene el indice que finaliza la inferencia\n",
    "    eos = word2idx_outputs['<eos>']\n",
    "    \n",
    "    output_sentence = []\n",
    "    for _ in range(max_out_len):\n",
    "        # Predicción del próximo elemento\n",
    "        output, new_prev_state = model.decoder(target_seq_tensor.to(device), prev_state)\n",
    "        top1 = output.argmax(1).view(-1, 1)\n",
    "        idx = int(top1.cpu())\n",
    "\n",
    "        # Si es \"end of sentece <eos>\" se acaba\n",
    "        if eos == idx:\n",
    "            break\n",
    "\n",
    "        # Transformar ídx a palabra\n",
    "        word = ''        \n",
    "        if idx > 0:\n",
    "            word = idx2word_target[idx]\n",
    "            output_sentence.append(word)\n",
    "\n",
    "        # Actualizar los estados dado la ultimo prediccion\n",
    "        prev_state = new_prev_state\n",
    "\n",
    "        # Actualizar secuencia de entrada con la salida (re-alimentacion)\n",
    "        target_seq_tensor = top1\n",
    "\n",
    "    return ' '.join(output_sentence)"
   ]
  },
  {
   "cell_type": "code",
   "execution_count": null,
   "metadata": {
    "colab": {
     "base_uri": "https://localhost:8080/"
    },
    "executionInfo": {
     "elapsed": 313,
     "status": "ok",
     "timestamp": 1655078833393,
     "user": {
      "displayName": "Hernán Contigiani",
      "userId": "01142101934719343059"
     },
     "user_tz": 180
    },
    "id": "Fd6VJcZb9It_",
    "outputId": "34ba4041-04ca-4632-e69e-eaa3c9b813e2"
   },
   "outputs": [],
   "source": [
    "input_test = \"My mother say hi.\"\n",
    "print('Input:', input_test)\n",
    "integer_seq_test = input_tokenizer.texts_to_sequences([input_test])[0]\n",
    "print(\"Representacion en vector de tokens de ids\", integer_seq_test)\n",
    "encoder_sequence_test = pad_sequences([integer_seq_test], maxlen=max_input_len)\n",
    "print(\"Padding del vector:\", encoder_sequence_test)\n",
    "encoder_sequence_test_tensor = torch.from_numpy(encoder_sequence_test.astype(np.int32))\n",
    "\n",
    "translation = translate_sentence(encoder_sequence_test)\n",
    "print('Response:', translation)"
   ]
  },
  {
   "cell_type": "code",
   "execution_count": null,
   "metadata": {
    "colab": {
     "base_uri": "https://localhost:8080/"
    },
    "executionInfo": {
     "elapsed": 306,
     "status": "ok",
     "timestamp": 1655078869839,
     "user": {
      "displayName": "Hernán Contigiani",
      "userId": "01142101934719343059"
     },
     "user_tz": 180
    },
    "id": "ZhGVjLKcunxW",
    "outputId": "3485ea42-1dd1-4563-e655-2672203e1977"
   },
   "outputs": [],
   "source": [
    "i = np.random.choice(len(input_sentences))\n",
    "input_seq = encoder_input_sequences[i:i+1]\n",
    "encoder_sequence_test_tensor = torch.from_numpy(input_seq.astype(np.int32))\n",
    "translation = translate_sentence(encoder_sequence_test_tensor)\n",
    "print('-')\n",
    "print('Input:', input_sentences[i])\n",
    "print('Response:', translation)"
   ]
  },
  {
   "cell_type": "markdown",
   "metadata": {
    "id": "pkOjSJweqdF8"
   },
   "source": [
    "### 6 - Conclusión\n",
    "A primera vista parece que el modelo tendría que funcionar muy bien por el accuracy alcanzado. La realidad es que las respuesta no tienen que ver demasiado con la pregunta/traducción pero la respuesta en si tiene bastante coherencia.\\\n",
    "Para poder mejorar el modelo haría falta poder consumir todo el dataset y todo el vocabulario, pero la cantidad de RAM no es suficiente.\\"
   ]
  }
 ],
 "metadata": {
  "accelerator": "GPU",
  "colab": {
   "authorship_tag": "ABX9TyMniDMuqoKT0lLVAJWxpRSt",
   "collapsed_sections": [],
   "name": "6c - traductor.ipynb",
   "provenance": []
  },
  "kernelspec": {
   "display_name": "Python 3 (ipykernel)",
   "language": "python",
   "name": "python3"
  },
  "language_info": {
   "codemirror_mode": {
    "name": "ipython",
    "version": 3
   },
   "file_extension": ".py",
   "mimetype": "text/x-python",
   "name": "python",
   "nbconvert_exporter": "python",
   "pygments_lexer": "ipython3",
   "version": "3.10.12"
  }
 },
 "nbformat": 4,
 "nbformat_minor": 4
}
