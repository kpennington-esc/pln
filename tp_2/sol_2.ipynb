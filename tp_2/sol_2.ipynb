{
 "cells": [
  {
   "cell_type": "code",
   "execution_count": 29,
   "id": "8f3cc3db-7ffe-435e-a8a6-5e760e22685e",
   "metadata": {},
   "outputs": [
    {
     "name": "stdout",
     "output_type": "stream",
     "text": [
      "Defaulting to user installation because normal site-packages is not writeable\n",
      "Requirement already satisfied: plotly in /home/kpennington/.local/lib/python3.10/site-packages (6.3.1)\n",
      "Requirement already satisfied: narwhals>=1.15.1 in /home/kpennington/.local/lib/python3.10/site-packages (from plotly) (2.8.0)\n",
      "Requirement already satisfied: packaging in /home/kpennington/.local/lib/python3.10/site-packages (from plotly) (24.1)\n",
      "Note: you may need to restart the kernel to use updated packages.\n"
     ]
    }
   ],
   "source": [
    "import pandas as pd\n",
    "import matplotlib.pyplot as plt\n",
    "import seaborn as sns\n",
    "\n",
    "import multiprocessing\n",
    "from gensim.models import Word2Vec\n",
    "from tensorflow.keras.preprocessing.text import text_to_word_sequence\n",
    "\n",
    "from sklearn.decomposition import IncrementalPCA    \n",
    "from sklearn.manifold import TSNE                   \n",
    "import numpy as np    \n",
    "%pip install plotly\n",
    "import plotly.graph_objects as go\n",
    "import plotly.express as px"
   ]
  },
  {
   "cell_type": "code",
   "execution_count": 30,
   "id": "4433f372-51ee-4177-99d6-524413a9aa4a",
   "metadata": {},
   "outputs": [
    {
     "name": "stdout",
     "output_type": "stream",
     "text": [
      "El dataset ya se encuentra descargado\n"
     ]
    }
   ],
   "source": [
    "# Descargar la carpeta de dataset\n",
    "import os\n",
    "import platform\n",
    "if os.access('./songs_dataset', os.F_OK) is False:\n",
    "    if os.access('songs_dataset.zip', os.F_OK) is False:\n",
    "        if platform.system() == 'Windows':\n",
    "            !curl https://raw.githubusercontent.com/FIUBA-Posgrado-Inteligencia-Artificial/procesamiento_lenguaje_natural/main/datasets/songs_dataset.zip -o songs_dataset.zip\n",
    "        else:\n",
    "            !wget songs_dataset.zip https://github.com/FIUBA-Posgrado-Inteligencia-Artificial/procesamiento_lenguaje_natural/raw/main/datasets/songs_dataset.zip\n",
    "    !unzip -q songs_dataset.zip   \n",
    "else:\n",
    "    print(\"El dataset ya se encuentra descargado\")"
   ]
  },
  {
   "cell_type": "code",
   "execution_count": 31,
   "id": "9e05da4f-6a9e-433e-9b20-f4e087155074",
   "metadata": {},
   "outputs": [
    {
     "data": {
      "text/plain": [
       "['drake.txt',\n",
       " 'lil-wayne.txt',\n",
       " 'paul-simon.txt',\n",
       " 'patti-smith.txt',\n",
       " 'rihanna.txt',\n",
       " 'britney-spears.txt',\n",
       " 'lady-gaga.txt',\n",
       " 'dr-seuss.txt',\n",
       " 'notorious_big.txt',\n",
       " 'lin-manuel-miranda.txt',\n",
       " 'cake.txt',\n",
       " 'jimi-hendrix.txt',\n",
       " 'nursery_rhymes.txt',\n",
       " 'bieber.txt',\n",
       " 'blink-182.txt',\n",
       " 'bjork.txt',\n",
       " 'johnny-cash.txt',\n",
       " 'beatles.txt',\n",
       " 'joni-mitchell.txt',\n",
       " 'kanye-west.txt',\n",
       " 'dolly-parton.txt',\n",
       " 'amy-winehouse.txt',\n",
       " 'adele.txt',\n",
       " 'al-green.txt',\n",
       " 'notorious-big.txt',\n",
       " 'eminem.txt',\n",
       " 'r-kelly.txt',\n",
       " 'Kanye_West.txt',\n",
       " 'kanye.txt',\n",
       " 'radiohead.txt',\n",
       " 'dj-khaled.txt',\n",
       " 'bob-dylan.txt',\n",
       " 'ludacris.txt',\n",
       " 'alicia-keys.txt',\n",
       " 'dickinson.txt',\n",
       " 'bruce-springsteen.txt',\n",
       " 'nicki-minaj.txt',\n",
       " 'missy-elliott.txt',\n",
       " 'lorde.txt',\n",
       " 'bob-marley.txt',\n",
       " 'nickelback.txt',\n",
       " 'prince.txt',\n",
       " 'disney.txt',\n",
       " 'leonard-cohen.txt',\n",
       " 'Lil_Wayne.txt',\n",
       " 'bruno-mars.txt',\n",
       " 'michael-jackson.txt',\n",
       " 'janisjoplin.txt',\n",
       " 'nirvana.txt']"
      ]
     },
     "execution_count": 31,
     "metadata": {},
     "output_type": "execute_result"
    }
   ],
   "source": [
    "os.listdir(\"./songs_dataset/\")"
   ]
  },
  {
   "cell_type": "code",
   "execution_count": 32,
   "id": "87f3377e-c00d-4f4f-a1fb-42d6be9bd06e",
   "metadata": {},
   "outputs": [
    {
     "name": "stderr",
     "output_type": "stream",
     "text": [
      "/tmp/ipykernel_9456/699152611.py:3: ParserWarning:\n",
      "\n",
      "Falling back to the 'python' engine because the 'c' engine does not support regex separators (separators > 1 char and different from '\\s+' are interpreted as regex); you can avoid this warning by specifying engine='python'.\n",
      "\n"
     ]
    },
    {
     "data": {
      "text/html": [
       "<div>\n",
       "<style scoped>\n",
       "    .dataframe tbody tr th:only-of-type {\n",
       "        vertical-align: middle;\n",
       "    }\n",
       "\n",
       "    .dataframe tbody tr th {\n",
       "        vertical-align: top;\n",
       "    }\n",
       "\n",
       "    .dataframe thead th {\n",
       "        text-align: right;\n",
       "    }\n",
       "</style>\n",
       "<table border=\"1\" class=\"dataframe\">\n",
       "  <thead>\n",
       "    <tr style=\"text-align: right;\">\n",
       "      <th></th>\n",
       "      <th>0</th>\n",
       "    </tr>\n",
       "  </thead>\n",
       "  <tbody>\n",
       "    <tr>\n",
       "      <th>0</th>\n",
       "      <td>I'll undress you, 'cause you're tired</td>\n",
       "    </tr>\n",
       "    <tr>\n",
       "      <th>1</th>\n",
       "      <td>Cover you as you desire</td>\n",
       "    </tr>\n",
       "    <tr>\n",
       "      <th>2</th>\n",
       "      <td>When you fall asleep inside my arms</td>\n",
       "    </tr>\n",
       "    <tr>\n",
       "      <th>3</th>\n",
       "      <td>May not have the fancy things</td>\n",
       "    </tr>\n",
       "    <tr>\n",
       "      <th>4</th>\n",
       "      <td>But I'll give you everything</td>\n",
       "    </tr>\n",
       "  </tbody>\n",
       "</table>\n",
       "</div>"
      ],
      "text/plain": [
       "                                       0\n",
       "0  I'll undress you, 'cause you're tired\n",
       "1                Cover you as you desire\n",
       "2    When you fall asleep inside my arms\n",
       "3          May not have the fancy things\n",
       "4           But I'll give you everything"
      ]
     },
     "execution_count": 32,
     "metadata": {},
     "output_type": "execute_result"
    }
   ],
   "source": [
    "# Armar el dataset utilizando salto de línea para separar las oraciones/docs\n",
    "\n",
    "df = pd.read_csv('songs_dataset/lady-gaga.txt', sep='/n', header=None)\n",
    "df.head()"
   ]
  },
  {
   "cell_type": "code",
   "execution_count": 33,
   "id": "c5088b83-ddd9-494d-bce3-f5cf8e307e3d",
   "metadata": {},
   "outputs": [
    {
     "name": "stdout",
     "output_type": "stream",
     "text": [
      "Cantidad de documentos: 3807\n"
     ]
    }
   ],
   "source": [
    "print(\"Cantidad de documentos:\", df.shape[0])"
   ]
  },
  {
   "cell_type": "code",
   "execution_count": 44,
   "id": "7e515330-5aae-42f7-a70a-08ccb58f8c45",
   "metadata": {},
   "outputs": [
    {
     "data": {
      "text/plain": [
       "[[\"i'll\", 'undress', 'you', \"'cause\", \"you're\", 'tired'],\n",
       " ['cover', 'you', 'as', 'you', 'desire'],\n",
       " ['when', 'you', 'fall', 'asleep', 'inside', 'my', 'arms'],\n",
       " ['may', 'not', 'have', 'the', 'fancy', 'things'],\n",
       " ['but', \"i'll\", 'give', 'you', 'everything']]"
      ]
     },
     "execution_count": 44,
     "metadata": {},
     "output_type": "execute_result"
    }
   ],
   "source": [
    "sentence_tokens = [text_to_word_sequence(row[0]) for _, row in df.iterrows()]\n",
    "sentence_tokens[:5]"
   ]
  },
  {
   "cell_type": "code",
   "execution_count": 45,
   "id": "c8f3d187-f025-4191-8506-ca4ee327ff86",
   "metadata": {},
   "outputs": [],
   "source": [
    "from gensim.models.callbacks import CallbackAny2Vec\n",
    "class callback(CallbackAny2Vec):\n",
    "    \"\"\"\n",
    "    Callback to print loss after each epoch\n",
    "    \"\"\"\n",
    "    def __init__(self):\n",
    "        self.epoch = 0\n",
    "\n",
    "    def on_epoch_end(self, model):\n",
    "        loss = model.get_latest_training_loss()\n",
    "        if self.epoch == 0:\n",
    "            print('Loss after epoch {}: {}'.format(self.epoch, loss))\n",
    "        else:\n",
    "            print('Loss after epoch {}: {}'.format(self.epoch, loss- self.loss_previous_step))\n",
    "        self.epoch += 1\n",
    "        self.loss_previous_step = loss"
   ]
  },
  {
   "cell_type": "code",
   "execution_count": 46,
   "id": "bc28c078-b836-4311-b772-88e55b8f1a26",
   "metadata": {},
   "outputs": [],
   "source": [
    "w2v_model = Word2Vec(min_count=5,    \n",
    "                     window=2,      \n",
    "                     vector_size=300,      \n",
    "                     negative=20,    \n",
    "                     workers=4,     \n",
    "                     sg=1)       "
   ]
  },
  {
   "cell_type": "code",
   "execution_count": 47,
   "id": "1aded33e-8be7-46e2-86a1-d8dca40c3cef",
   "metadata": {},
   "outputs": [],
   "source": [
    "w2v_model.build_vocab(sentence_tokens)"
   ]
  },
  {
   "cell_type": "code",
   "execution_count": 48,
   "id": "54f3dfcb-ac6a-4203-a7c0-cd813d858f06",
   "metadata": {},
   "outputs": [
    {
     "name": "stdout",
     "output_type": "stream",
     "text": [
      "Loss after epoch 0: 74187.5\n",
      "Loss after epoch 1: 52773.9609375\n",
      "Loss after epoch 2: 50647.5703125\n",
      "Loss after epoch 3: 50293.140625\n",
      "Loss after epoch 4: 46611.640625\n",
      "Loss after epoch 5: 43146.40625\n",
      "Loss after epoch 6: 41910.65625\n",
      "Loss after epoch 7: 39971.4375\n",
      "Loss after epoch 8: 39264.6875\n",
      "Loss after epoch 9: 37628.125\n",
      "Loss after epoch 10: 36760.46875\n",
      "Loss after epoch 11: 35257.65625\n",
      "Loss after epoch 12: 34917.875\n",
      "Loss after epoch 13: 33738.625\n",
      "Loss after epoch 14: 33278.1875\n",
      "Loss after epoch 15: 32882.0\n",
      "Loss after epoch 16: 32333.25\n",
      "Loss after epoch 17: 32615.6875\n",
      "Loss after epoch 18: 32320.8125\n",
      "Loss after epoch 19: 32560.5\n"
     ]
    },
    {
     "data": {
      "text/plain": [
       "(372246, 606000)"
      ]
     },
     "execution_count": 48,
     "metadata": {},
     "output_type": "execute_result"
    }
   ],
   "source": [
    "w2v_model.train(sentence_tokens,\n",
    "                 total_examples=w2v_model.corpus_count,\n",
    "                 epochs=20,\n",
    "                 compute_loss = True,\n",
    "                 callbacks=[callback()]\n",
    "                 )"
   ]
  },
  {
   "cell_type": "code",
   "execution_count": 49,
   "id": "b99a7a2c-d008-4e69-aa7d-d7ad7f30e56b",
   "metadata": {},
   "outputs": [
    {
     "name": "stdout",
     "output_type": "stream",
     "text": [
      "\n",
      "Word: romance\n",
      "[('caught', 0.8802815079689026), ('rah', 0.8627752661705017), ('meat', 0.8253868818283081), ('bad', 0.821631669998169), ('write', 0.8208560943603516), ('gun', 0.786299467086792), ('mi', 0.7794185280799866), ('may', 0.7461862564086914), ('revenge', 0.7277004718780518), ('king', 0.7212547063827515)]\n",
      "\n",
      "Word: poker\n",
      "[('paint', 0.915030837059021), ('p', 0.8641749620437622), ('read', 0.8626042008399963), ('1', 0.7997334599494934), ('face', 0.7838186621665955), ('l', 0.7651543617248535), ('wait', 0.7590113282203674), ('nobody', 0.7589481472969055), ('buy', 0.7516364455223083), ('hand', 0.7512826323509216)]\n",
      "\n",
      "Word: monster\n",
      "[('m', 0.9085986018180847), ('er', 0.9014573097229004), ('delicious', 0.8826960325241089), ('tree', 0.8587431311607361), ('christmas', 0.8301619291305542), ('has', 0.7958980202674866), ('marry', 0.7938559055328369), ('s', 0.7653913497924805), ('beating', 0.7539275288581848), ('telephone', 0.7498085498809814)]\n",
      "\n",
      "Word: heart\n",
      "[('ate', 0.7008843421936035), ('diamond', 0.6897608637809753), ('break', 0.6853910684585571), ('wants', 0.6448656916618347), ('hear', 0.6102296710014343), ('christmas', 0.5905981659889221), ('clothes', 0.589206874370575), ('head', 0.586469829082489), ('fight', 0.583578884601593), ('fire', 0.5747796297073364)]\n",
      "\n",
      "Word: party\n",
      "[('stop', 0.8651116490364075), (\"callin'\", 0.8640415072441101), ('voice', 0.8304209113121033), ('making', 0.7432419061660767), ('hide', 0.7227275371551514), ('white', 0.7193200588226318), ('stones', 0.7186765670776367), ('bikini', 0.7113645672798157), ('buy', 0.7077466249465942), ('dreams', 0.7071707844734192)]\n",
      "\n",
      "Word: love\n",
      "[(\"doin'\", 0.739562451839447), ('game', 0.708716094493866), ('white', 0.668350100517273), ('mistaken', 0.6683331727981567), ('goddess', 0.667707085609436), ('play', 0.6646777987480164), ('denim', 0.6621317863464355), ('whoa', 0.65436190366745), ('yourself', 0.6534456610679626), ('fix', 0.6525769233703613)]\n"
     ]
    }
   ],
   "source": [
    "test_words = [\"romance\", \"poker\", \"monster\", \"heart\",\"party\", \"love\"]\n",
    "\n",
    "for w in test_words:\n",
    "    print(\"\\nWord:\", w)\n",
    "    print(w2v_model.wv.most_similar( w, topn=10))"
   ]
  },
  {
   "cell_type": "code",
   "execution_count": 50,
   "id": "040a3f44-dd5d-4b1c-8ab7-c7b124567b11",
   "metadata": {},
   "outputs": [
    {
     "name": "stdout",
     "output_type": "stream",
     "text": [
      "\n",
      "Cosine similarity:\n",
      "          romance     poker   monster     heart     party      love\n",
      "romance  1.000000  0.356595  0.489128  0.313297  0.531116  0.488307\n",
      "poker    0.356595  1.000000  0.484859  0.435140  0.572117  0.327225\n",
      "monster  0.489128  0.484859  1.000000  0.423176  0.509471  0.394195\n",
      "heart    0.313297  0.435140  0.423176  1.000000  0.450289  0.221596\n",
      "party    0.531116  0.572117  0.509471  0.450289  1.000000  0.463782\n",
      "love     0.488307  0.327225  0.394195  0.221596  0.463782  1.000000\n"
     ]
    }
   ],
   "source": [
    "existing = [w for w in test_words if w in w2v_model.wv.key_to_index]\n",
    "vecs = np.array([w2v_model.wv[w] for w in existing])\n",
    "from sklearn.metrics.pairwise import cosine_similarity\n",
    "sim = cosine_similarity(vecs, vecs)\n",
    "print(\"\\nCosine similarity:\")\n",
    "print(pd.DataFrame(sim, index=existing, columns=existing))"
   ]
  },
  {
   "cell_type": "code",
   "execution_count": 51,
   "id": "f08db666-a102-47c3-9e48-4ab58bde0abb",
   "metadata": {},
   "outputs": [],
   "source": [
    "def reduce_dimensions(model, num_dimensions = 2):\n",
    "     \n",
    "    vectors = np.asarray(model.wv.vectors)\n",
    "    labels = np.asarray(model.wv.index_to_key)  \n",
    "\n",
    "    tsne = TSNE(n_components=num_dimensions, random_state=0)\n",
    "    vectors = tsne.fit_transform(vectors)\n",
    "\n",
    "    return vectors, labels"
   ]
  },
  {
   "cell_type": "code",
   "execution_count": 52,
   "id": "044162c5-ae4a-49cc-8bad-c9915eb79cbe",
   "metadata": {},
   "outputs": [
    {
     "data": {
      "application/vnd.plotly.v1+json": {
       "config": {
        "plotlyServerURL": "https://plot.ly"
       },
       "data": [
        {
         "hovertemplate": "color=blue<br>x=%{x}<br>y=%{y}<br>text=%{text}<extra></extra>",
         "legendgroup": "blue",
         "marker": {
          "color": "blue",
          "symbol": "circle"
         },
         "mode": "markers+text",
         "name": "blue",
         "orientation": "v",
         "showlegend": true,
         "text": [
          "i",
          "you",
          "the",
          "a",
          "me",
          "my",
          "to",
          "and",
          "oh",
          "i'm",
          "your",
          "that",
          "be",
          "in",
          "on",
          "it",
          "don't",
          "want",
          "just",
          "eh",
          "with",
          "baby",
          "of",
          "but",
          "we",
          "what",
          "wanna",
          "like",
          "do",
          "know",
          "so",
          "is",
          "this",
          "i'll",
          "can",
          "you're",
          "can't",
          "not",
          "could",
          "p",
          "up",
          "one",
          "good",
          "no",
          "as",
          "got",
          "m",
          "for",
          "if",
          "million",
          "way",
          "it's",
          "reasons",
          "all",
          "when",
          "dance",
          "hair",
          "gonna",
          "out",
          "'cause",
          "la",
          "girl",
          "ah",
          "show",
          "face",
          "boys",
          "need",
          "muh",
          "yeah",
          "touch",
          "he",
          "body",
          "was",
          "come",
          "ha",
          "down",
          "make",
          "give",
          "tell",
          "i've",
          "take",
          "were",
          "she",
          "read",
          "won't",
          "see",
          "night",
          "doo",
          "na",
          "say",
          "man",
          "bad",
          "how",
          "boy",
          "at",
          "am",
          "call",
          "something",
          "get",
          "feel",
          "time",
          "teeth",
          "now",
          "tonight",
          "da",
          "let",
          "have",
          "let's",
          "name",
          "go",
          "or",
          "put",
          "are",
          "ooh",
          "gaga",
          "hey",
          "game",
          "about",
          "her",
          "stop",
          "she's",
          "think",
          "there's",
          "edge",
          "yo",
          "babe",
          "'em",
          "chorus",
          "him",
          "u",
          "ale",
          "g",
          "around",
          "hands",
          "marry",
          "will",
          "enough",
          "right",
          "alejandro",
          "juda",
          "cry",
          "hot",
          "uh",
          "dreams",
          "walk",
          "without",
          "y",
          "nothing",
          "there",
          "away",
          "video",
          "where",
          "die",
          "eyes",
          "back",
          "keep",
          "more",
          "through",
          "stay",
          "cause",
          "artpop",
          "real",
          "born",
          "thing",
          "play",
          "beat",
          "other",
          "had",
          "still",
          "aura",
          "wish",
          "off",
          "never",
          "than",
          "free",
          "gypsy",
          "sex",
          "everything",
          "our",
          "who's",
          "who",
          "bang",
          "long",
          "perfect",
          "planet",
          "chick",
          "try",
          "fix",
          "myself",
          "his",
          "s",
          "us",
          "from",
          "fashion",
          "you'll",
          "left",
          "cure",
          "always",
          "behind",
          "giving",
          "givin'",
          "head",
          "even",
          "alright",
          "life",
          "help",
          "phone",
          "ate",
          "leave",
          "together",
          "we're",
          "applause",
          "paper",
          "guy",
          "illusion",
          "really",
          "gotta",
          "find",
          "track",
          "them",
          "turn",
          "nobody",
          "he's",
          "dark",
          "scheiße",
          "gangsta",
          "run",
          "promise",
          "look",
          "some",
          "makes",
          "last",
          "else",
          "under",
          "here",
          "alone",
          "before",
          "things",
          "after",
          "then",
          "goin'",
          "been",
          "watch",
          "meet",
          "forever",
          "inside",
          "better",
          "too",
          "world",
          "jandro",
          "hear",
          "clair",
          "brown",
          "until",
          "speak",
          "little",
          "summer",
          "aus",
          "kiss",
          "said",
          "speechless",
          "friends",
          "cut",
          "new",
          "feels",
          "happy",
          "someone",
          "its",
          "greatest",
          "yes",
          "lady",
          "home",
          "live",
          "belong",
          "wonder",
          "both",
          "ma",
          "those",
          "feeling",
          "leather",
          "wrong",
          "while",
          "whoa",
          "would",
          "mah",
          "wear",
          "talk",
          "pray",
          "believe",
          "disco",
          "work",
          "each",
          "seem",
          "high",
          "huh",
          "place",
          "fall",
          "over",
          "damn",
          "follow",
          "handle",
          "kind",
          "okay",
          "they",
          "fun",
          "blow",
          "swine",
          "hundred",
          "why",
          "judas",
          "mine",
          "club",
          "mean",
          "mind",
          "loves",
          "control",
          "er",
          "venus",
          "christmas",
          "top",
          "light",
          "care",
          "record",
          "prayer",
          "apart",
          "hard",
          "cherry",
          "only",
          "worn",
          "bow",
          "lord",
          "might",
          "worst",
          "glory",
          "lay",
          "own",
          "e",
          "two",
          "loud",
          "strong",
          "by",
          "hold",
          "callin'",
          "mama",
          "you've",
          "red",
          "telephone",
          "another",
          "should",
          "second",
          "crazy",
          "hell",
          "again",
          "cured",
          "catch",
          "these",
          "starstruck",
          "thought",
          "living",
          "boots",
          "full",
          "happens",
          "into",
          "smokin'",
          "mirror",
          "an",
          "fool",
          "caught",
          "day",
          "sick",
          "may",
          "verse",
          "downtown",
          "smoke",
          "ain't",
          "maybe",
          "looked",
          "making",
          "'til",
          "aha",
          "ye",
          "we'll",
          "ro",
          "sure",
          "rah",
          "heard",
          "duh",
          "dum",
          "lonely",
          "act",
          "nasty",
          "floor",
          "funk",
          "tap"
         ],
         "type": "scatter",
         "x": {
          "bdata": "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",
          "dtype": "f4"
         },
         "xaxis": "x",
         "y": {
          "bdata": "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",
          "dtype": "f4"
         },
         "yaxis": "y"
        },
        {
         "hovertemplate": "color=red<br>x=%{x}<br>y=%{y}<br>text=%{text}<extra></extra>",
         "legendgroup": "red",
         "marker": {
          "color": "red",
          "line": {
           "color": "DarkSlateGrey",
           "width": 2
          },
          "size": 12,
          "symbol": "circle"
         },
         "mode": "markers+text",
         "name": "red",
         "orientation": "v",
         "showlegend": true,
         "text": [
          "love",
          "heart",
          "poker",
          "monster",
          "romance",
          "party"
         ],
         "type": "scatter",
         "x": {
          "bdata": "P4g8wbGpFUE1cqTB6TT1QFlG+kH9ksBA",
          "dtype": "f4"
         },
         "xaxis": "x",
         "y": {
          "bdata": "7xBnQcDGakFk3J3Bzwu5wXVr5z/6M85B",
          "dtype": "f4"
         },
         "yaxis": "y"
        }
       ],
       "layout": {
        "autosize": false,
        "height": 800,
        "legend": {
         "title": {
          "text": "color"
         },
         "tracegroupgap": 0
        },
        "margin": {
         "t": 60
        },
        "showlegend": false,
        "template": {
         "data": {
          "bar": [
           {
            "error_x": {
             "color": "#2a3f5f"
            },
            "error_y": {
             "color": "#2a3f5f"
            },
            "marker": {
             "line": {
              "color": "#E5ECF6",
              "width": 0.5
             },
             "pattern": {
              "fillmode": "overlay",
              "size": 10,
              "solidity": 0.2
             }
            },
            "type": "bar"
           }
          ],
          "barpolar": [
           {
            "marker": {
             "line": {
              "color": "#E5ECF6",
              "width": 0.5
             },
             "pattern": {
              "fillmode": "overlay",
              "size": 10,
              "solidity": 0.2
             }
            },
            "type": "barpolar"
           }
          ],
          "carpet": [
           {
            "aaxis": {
             "endlinecolor": "#2a3f5f",
             "gridcolor": "white",
             "linecolor": "white",
             "minorgridcolor": "white",
             "startlinecolor": "#2a3f5f"
            },
            "baxis": {
             "endlinecolor": "#2a3f5f",
             "gridcolor": "white",
             "linecolor": "white",
             "minorgridcolor": "white",
             "startlinecolor": "#2a3f5f"
            },
            "type": "carpet"
           }
          ],
          "choropleth": [
           {
            "colorbar": {
             "outlinewidth": 0,
             "ticks": ""
            },
            "type": "choropleth"
           }
          ],
          "contour": [
           {
            "colorbar": {
             "outlinewidth": 0,
             "ticks": ""
            },
            "colorscale": [
             [
              0,
              "#0d0887"
             ],
             [
              0.1111111111111111,
              "#46039f"
             ],
             [
              0.2222222222222222,
              "#7201a8"
             ],
             [
              0.3333333333333333,
              "#9c179e"
             ],
             [
              0.4444444444444444,
              "#bd3786"
             ],
             [
              0.5555555555555556,
              "#d8576b"
             ],
             [
              0.6666666666666666,
              "#ed7953"
             ],
             [
              0.7777777777777778,
              "#fb9f3a"
             ],
             [
              0.8888888888888888,
              "#fdca26"
             ],
             [
              1,
              "#f0f921"
             ]
            ],
            "type": "contour"
           }
          ],
          "contourcarpet": [
           {
            "colorbar": {
             "outlinewidth": 0,
             "ticks": ""
            },
            "type": "contourcarpet"
           }
          ],
          "heatmap": [
           {
            "colorbar": {
             "outlinewidth": 0,
             "ticks": ""
            },
            "colorscale": [
             [
              0,
              "#0d0887"
             ],
             [
              0.1111111111111111,
              "#46039f"
             ],
             [
              0.2222222222222222,
              "#7201a8"
             ],
             [
              0.3333333333333333,
              "#9c179e"
             ],
             [
              0.4444444444444444,
              "#bd3786"
             ],
             [
              0.5555555555555556,
              "#d8576b"
             ],
             [
              0.6666666666666666,
              "#ed7953"
             ],
             [
              0.7777777777777778,
              "#fb9f3a"
             ],
             [
              0.8888888888888888,
              "#fdca26"
             ],
             [
              1,
              "#f0f921"
             ]
            ],
            "type": "heatmap"
           }
          ],
          "histogram": [
           {
            "marker": {
             "pattern": {
              "fillmode": "overlay",
              "size": 10,
              "solidity": 0.2
             }
            },
            "type": "histogram"
           }
          ],
          "histogram2d": [
           {
            "colorbar": {
             "outlinewidth": 0,
             "ticks": ""
            },
            "colorscale": [
             [
              0,
              "#0d0887"
             ],
             [
              0.1111111111111111,
              "#46039f"
             ],
             [
              0.2222222222222222,
              "#7201a8"
             ],
             [
              0.3333333333333333,
              "#9c179e"
             ],
             [
              0.4444444444444444,
              "#bd3786"
             ],
             [
              0.5555555555555556,
              "#d8576b"
             ],
             [
              0.6666666666666666,
              "#ed7953"
             ],
             [
              0.7777777777777778,
              "#fb9f3a"
             ],
             [
              0.8888888888888888,
              "#fdca26"
             ],
             [
              1,
              "#f0f921"
             ]
            ],
            "type": "histogram2d"
           }
          ],
          "histogram2dcontour": [
           {
            "colorbar": {
             "outlinewidth": 0,
             "ticks": ""
            },
            "colorscale": [
             [
              0,
              "#0d0887"
             ],
             [
              0.1111111111111111,
              "#46039f"
             ],
             [
              0.2222222222222222,
              "#7201a8"
             ],
             [
              0.3333333333333333,
              "#9c179e"
             ],
             [
              0.4444444444444444,
              "#bd3786"
             ],
             [
              0.5555555555555556,
              "#d8576b"
             ],
             [
              0.6666666666666666,
              "#ed7953"
             ],
             [
              0.7777777777777778,
              "#fb9f3a"
             ],
             [
              0.8888888888888888,
              "#fdca26"
             ],
             [
              1,
              "#f0f921"
             ]
            ],
            "type": "histogram2dcontour"
           }
          ],
          "mesh3d": [
           {
            "colorbar": {
             "outlinewidth": 0,
             "ticks": ""
            },
            "type": "mesh3d"
           }
          ],
          "parcoords": [
           {
            "line": {
             "colorbar": {
              "outlinewidth": 0,
              "ticks": ""
             }
            },
            "type": "parcoords"
           }
          ],
          "pie": [
           {
            "automargin": true,
            "type": "pie"
           }
          ],
          "scatter": [
           {
            "fillpattern": {
             "fillmode": "overlay",
             "size": 10,
             "solidity": 0.2
            },
            "type": "scatter"
           }
          ],
          "scatter3d": [
           {
            "line": {
             "colorbar": {
              "outlinewidth": 0,
              "ticks": ""
             }
            },
            "marker": {
             "colorbar": {
              "outlinewidth": 0,
              "ticks": ""
             }
            },
            "type": "scatter3d"
           }
          ],
          "scattercarpet": [
           {
            "marker": {
             "colorbar": {
              "outlinewidth": 0,
              "ticks": ""
             }
            },
            "type": "scattercarpet"
           }
          ],
          "scattergeo": [
           {
            "marker": {
             "colorbar": {
              "outlinewidth": 0,
              "ticks": ""
             }
            },
            "type": "scattergeo"
           }
          ],
          "scattergl": [
           {
            "marker": {
             "colorbar": {
              "outlinewidth": 0,
              "ticks": ""
             }
            },
            "type": "scattergl"
           }
          ],
          "scattermap": [
           {
            "marker": {
             "colorbar": {
              "outlinewidth": 0,
              "ticks": ""
             }
            },
            "type": "scattermap"
           }
          ],
          "scattermapbox": [
           {
            "marker": {
             "colorbar": {
              "outlinewidth": 0,
              "ticks": ""
             }
            },
            "type": "scattermapbox"
           }
          ],
          "scatterpolar": [
           {
            "marker": {
             "colorbar": {
              "outlinewidth": 0,
              "ticks": ""
             }
            },
            "type": "scatterpolar"
           }
          ],
          "scatterpolargl": [
           {
            "marker": {
             "colorbar": {
              "outlinewidth": 0,
              "ticks": ""
             }
            },
            "type": "scatterpolargl"
           }
          ],
          "scatterternary": [
           {
            "marker": {
             "colorbar": {
              "outlinewidth": 0,
              "ticks": ""
             }
            },
            "type": "scatterternary"
           }
          ],
          "surface": [
           {
            "colorbar": {
             "outlinewidth": 0,
             "ticks": ""
            },
            "colorscale": [
             [
              0,
              "#0d0887"
             ],
             [
              0.1111111111111111,
              "#46039f"
             ],
             [
              0.2222222222222222,
              "#7201a8"
             ],
             [
              0.3333333333333333,
              "#9c179e"
             ],
             [
              0.4444444444444444,
              "#bd3786"
             ],
             [
              0.5555555555555556,
              "#d8576b"
             ],
             [
              0.6666666666666666,
              "#ed7953"
             ],
             [
              0.7777777777777778,
              "#fb9f3a"
             ],
             [
              0.8888888888888888,
              "#fdca26"
             ],
             [
              1,
              "#f0f921"
             ]
            ],
            "type": "surface"
           }
          ],
          "table": [
           {
            "cells": {
             "fill": {
              "color": "#EBF0F8"
             },
             "line": {
              "color": "white"
             }
            },
            "header": {
             "fill": {
              "color": "#C8D4E3"
             },
             "line": {
              "color": "white"
             }
            },
            "type": "table"
           }
          ]
         },
         "layout": {
          "annotationdefaults": {
           "arrowcolor": "#2a3f5f",
           "arrowhead": 0,
           "arrowwidth": 1
          },
          "autotypenumbers": "strict",
          "coloraxis": {
           "colorbar": {
            "outlinewidth": 0,
            "ticks": ""
           }
          },
          "colorscale": {
           "diverging": [
            [
             0,
             "#8e0152"
            ],
            [
             0.1,
             "#c51b7d"
            ],
            [
             0.2,
             "#de77ae"
            ],
            [
             0.3,
             "#f1b6da"
            ],
            [
             0.4,
             "#fde0ef"
            ],
            [
             0.5,
             "#f7f7f7"
            ],
            [
             0.6,
             "#e6f5d0"
            ],
            [
             0.7,
             "#b8e186"
            ],
            [
             0.8,
             "#7fbc41"
            ],
            [
             0.9,
             "#4d9221"
            ],
            [
             1,
             "#276419"
            ]
           ],
           "sequential": [
            [
             0,
             "#0d0887"
            ],
            [
             0.1111111111111111,
             "#46039f"
            ],
            [
             0.2222222222222222,
             "#7201a8"
            ],
            [
             0.3333333333333333,
             "#9c179e"
            ],
            [
             0.4444444444444444,
             "#bd3786"
            ],
            [
             0.5555555555555556,
             "#d8576b"
            ],
            [
             0.6666666666666666,
             "#ed7953"
            ],
            [
             0.7777777777777778,
             "#fb9f3a"
            ],
            [
             0.8888888888888888,
             "#fdca26"
            ],
            [
             1,
             "#f0f921"
            ]
           ],
           "sequentialminus": [
            [
             0,
             "#0d0887"
            ],
            [
             0.1111111111111111,
             "#46039f"
            ],
            [
             0.2222222222222222,
             "#7201a8"
            ],
            [
             0.3333333333333333,
             "#9c179e"
            ],
            [
             0.4444444444444444,
             "#bd3786"
            ],
            [
             0.5555555555555556,
             "#d8576b"
            ],
            [
             0.6666666666666666,
             "#ed7953"
            ],
            [
             0.7777777777777778,
             "#fb9f3a"
            ],
            [
             0.8888888888888888,
             "#fdca26"
            ],
            [
             1,
             "#f0f921"
            ]
           ]
          },
          "colorway": [
           "#636efa",
           "#EF553B",
           "#00cc96",
           "#ab63fa",
           "#FFA15A",
           "#19d3f3",
           "#FF6692",
           "#B6E880",
           "#FF97FF",
           "#FECB52"
          ],
          "font": {
           "color": "#2a3f5f"
          },
          "geo": {
           "bgcolor": "white",
           "lakecolor": "white",
           "landcolor": "#E5ECF6",
           "showlakes": true,
           "showland": true,
           "subunitcolor": "white"
          },
          "hoverlabel": {
           "align": "left"
          },
          "hovermode": "closest",
          "mapbox": {
           "style": "light"
          },
          "paper_bgcolor": "white",
          "plot_bgcolor": "#E5ECF6",
          "polar": {
           "angularaxis": {
            "gridcolor": "white",
            "linecolor": "white",
            "ticks": ""
           },
           "bgcolor": "#E5ECF6",
           "radialaxis": {
            "gridcolor": "white",
            "linecolor": "white",
            "ticks": ""
           }
          },
          "scene": {
           "xaxis": {
            "backgroundcolor": "#E5ECF6",
            "gridcolor": "white",
            "gridwidth": 2,
            "linecolor": "white",
            "showbackground": true,
            "ticks": "",
            "zerolinecolor": "white"
           },
           "yaxis": {
            "backgroundcolor": "#E5ECF6",
            "gridcolor": "white",
            "gridwidth": 2,
            "linecolor": "white",
            "showbackground": true,
            "ticks": "",
            "zerolinecolor": "white"
           },
           "zaxis": {
            "backgroundcolor": "#E5ECF6",
            "gridcolor": "white",
            "gridwidth": 2,
            "linecolor": "white",
            "showbackground": true,
            "ticks": "",
            "zerolinecolor": "white"
           }
          },
          "shapedefaults": {
           "line": {
            "color": "#2a3f5f"
           }
          },
          "ternary": {
           "aaxis": {
            "gridcolor": "white",
            "linecolor": "white",
            "ticks": ""
           },
           "baxis": {
            "gridcolor": "white",
            "linecolor": "white",
            "ticks": ""
           },
           "bgcolor": "#E5ECF6",
           "caxis": {
            "gridcolor": "white",
            "linecolor": "white",
            "ticks": ""
           }
          },
          "title": {
           "x": 0.05
          },
          "xaxis": {
           "automargin": true,
           "gridcolor": "white",
           "linecolor": "white",
           "ticks": "",
           "title": {
            "standoff": 15
           },
           "zerolinecolor": "white",
           "zerolinewidth": 2
          },
          "yaxis": {
           "automargin": true,
           "gridcolor": "white",
           "linecolor": "white",
           "ticks": "",
           "title": {
            "standoff": 15
           },
           "zerolinecolor": "white",
           "zerolinewidth": 2
          }
         }
        },
        "title": {
         "text": "Word Embeddings Visualization - Lady Gaga Lyrics"
        },
        "width": 1200,
        "xaxis": {
         "anchor": "y",
         "domain": [
          0,
          1
         ],
         "title": {
          "text": "x"
         }
        },
        "yaxis": {
         "anchor": "x",
         "domain": [
          0,
          1
         ],
         "title": {
          "text": "y"
         }
        }
       }
      },
      "image/png": "[encoded data removed]"
     },
     "metadata": {},
     "output_type": "display_data"
    }
   ],
   "source": [
    "vecs, labels = reduce_dimensions(w2v_model)\n",
    "\n",
    "MAX_WORDS=400\n",
    "colors = ['blue'] * MAX_WORDS\n",
    "\n",
    "highlight_words = test_words\n",
    "\n",
    "for i, word in enumerate(labels[:MAX_WORDS]):\n",
    "    if word in highlight_words:\n",
    "        colors[i] = 'red'\n",
    "\n",
    "fig = px.scatter(\n",
    "    x=vecs[:MAX_WORDS, 0], \n",
    "    y=vecs[:MAX_WORDS, 1], \n",
    "    text=labels[:MAX_WORDS],\n",
    "    color=colors,\n",
    "    color_discrete_map={'red': 'red', 'blue': 'blue'}\n",
    ")\n",
    "\n",
    "fig.update_layout(\n",
    "    autosize=False,\n",
    "    width=1200,\n",
    "    height=800,\n",
    "    title=\"Word Embeddings Visualization - Lady Gaga Lyrics\",\n",
    "    showlegend=False \n",
    ")\n",
    "\n",
    "fig.update_traces(\n",
    "    marker=dict(size=12, line=dict(width=2, color='DarkSlateGrey')),\n",
    "    selector=dict(marker_color='red')\n",
    ")\n",
    "\n",
    "fig.show()"
   ]
  },
  {
   "cell_type": "code",
   "execution_count": 43,
   "id": "bb920ea7-8e1f-4dff-8212-fa444b2db2b6",
   "metadata": {},
   "outputs": [
    {
     "data": {
      "text/html": [
       "<html>\n",
       "<head><meta charset=\"utf-8\" /></head>\n",
       "<body>\n",
       "    <div>            <script src=\"https://cdnjs.cloudflare.com/ajax/libs/mathjax/2.7.5/MathJax.js?config=TeX-AMS-MML_SVG\"></script><script type=\"text/javascript\">if (window.MathJax && window.MathJax.Hub && window.MathJax.Hub.Config) {window.MathJax.Hub.Config({SVG: {font: \"STIX-Web\"}});}</script>                <script type=\"text/javascript\">window.PlotlyConfig = {MathJaxConfig: 'local'};</script>\n",
       "        <script charset=\"utf-8\" src=\"https://cdn.plot.ly/plotly-3.1.1.min.js\" integrity=\"sha256-HUEFyfiTnZJxCxur99FjbKYTvKSzwDaD3/x5TqHpFu4=\" crossorigin=\"anonymous\"></script>                <div id=\"02d0bf28-5ab7-4f90-8f11-92ad52c2bba6\" class=\"plotly-graph-div\" style=\"height:800px; width:1200px;\"></div>            <script type=\"text/javascript\">                window.PLOTLYENV=window.PLOTLYENV || {};                                if (document.getElementById(\"02d0bf28-5ab7-4f90-8f11-92ad52c2bba6\")) {                    Plotly.newPlot(                        \"02d0bf28-5ab7-4f90-8f11-92ad52c2bba6\",                        [{\"hovertemplate\":\"color=lightblue\\u003cbr\\u003ex=%{x}\\u003cbr\\u003ey=%{y}\\u003cbr\\u003ez=%{z}\\u003cbr\\u003esize=%{marker.size}\\u003cbr\\u003etext=%{text}\\u003cextra\\u003e\\u003c\\u002fextra\\u003e\",\"legendgroup\":\"lightblue\",\"marker\":{\"color\":\"lightblue\",\"size\":{\"dtype\":\"i1\",\"bdata\":\"AgICAgICAgICAgICAgICAgICAgICAgICAgICAgICAgICAgICAgICAgICAgICAgICAgICAgICAgICAgICAgICAgICAgICAgICAgICAgICAgICAgICAgICAgICAgICAgICAgICAgICAgICAgICAgICAgICAgICAgICAgICAgICAgICAgICAgICAgICAgICAgICAgICAgICAgICAgICAgICAgICAgICAgICAgICAgICAgICAgICAgICAgICAgICAgICAgICAgICAgICAgICAgICAgICAgICAgICAgICAgICAgICAgICAgICAgICAgICAgICAgICAgICAgICAgICAgICAgICAgICAgICAgICAgICAgICAgICAgICAgICAgICAgICAgICAgICAgICAgICAgICAgICAgICAgICAgICAgICAgICAgICAgICAgICAgICAgICAgICAgICAgICAgICAgICAgICAgICAgICAgICAgICAgICAgICAgICAgICAgICAgICAgICAgICAgICAg==\"},\"sizemode\":\"area\",\"sizeref\":0.02,\"symbol\":\"circle\"},\"mode\":\"markers+text\",\"name\":\"lightblue\",\"scene\":\"scene\",\"showlegend\":true,\"text\":[\"i\",\"you\",\"the\",\"a\",\"me\",\"my\",\"to\",\"and\",\"oh\",\"i'm\",\"your\",\"that\",\"be\",\"in\",\"on\",\"it\",\"don't\",\"want\",\"just\",\"eh\",\"with\",\"baby\",\"of\",\"but\",\"we\",\"what\",\"wanna\",\"like\",\"do\",\"know\",\"so\",\"is\",\"this\",\"i'll\",\"can\",\"you're\",\"can't\",\"not\",\"could\",\"p\",\"up\",\"one\",\"good\",\"no\",\"as\",\"got\",\"m\",\"for\",\"if\",\"million\",\"way\",\"it's\",\"reasons\",\"all\",\"when\",\"dance\",\"hair\",\"gonna\",\"out\",\"'cause\",\"la\",\"girl\",\"ah\",\"show\",\"face\",\"boys\",\"need\",\"muh\",\"yeah\",\"touch\",\"he\",\"body\",\"was\",\"come\",\"ha\",\"down\",\"make\",\"give\",\"tell\",\"i've\",\"take\",\"were\",\"she\",\"read\",\"won't\",\"see\",\"night\",\"doo\",\"na\",\"say\",\"man\",\"bad\",\"how\",\"boy\",\"at\",\"am\",\"call\",\"something\",\"get\",\"feel\",\"time\",\"teeth\",\"now\",\"tonight\",\"da\",\"let\",\"have\",\"let's\",\"name\",\"go\",\"or\",\"put\",\"are\",\"ooh\",\"gaga\",\"hey\",\"game\",\"about\",\"her\",\"stop\",\"she's\",\"think\",\"there's\",\"edge\",\"yo\",\"babe\",\"'em\",\"chorus\",\"him\",\"u\",\"ale\",\"g\",\"around\",\"hands\",\"marry\",\"will\",\"enough\",\"right\",\"alejandro\",\"juda\",\"cry\",\"hot\",\"uh\",\"dreams\",\"walk\",\"without\",\"y\",\"nothing\",\"there\",\"away\",\"video\",\"where\",\"die\",\"eyes\",\"back\",\"keep\",\"more\",\"through\",\"stay\",\"cause\",\"artpop\",\"real\",\"born\",\"thing\",\"play\",\"beat\",\"other\",\"had\",\"still\",\"aura\",\"wish\",\"off\",\"never\",\"than\",\"free\",\"gypsy\",\"sex\",\"everything\",\"our\",\"who's\",\"who\",\"bang\",\"long\",\"perfect\",\"planet\",\"chick\",\"try\",\"fix\",\"myself\",\"his\",\"s\",\"us\",\"from\",\"fashion\",\"you'll\",\"left\",\"cure\",\"always\",\"behind\",\"giving\",\"givin'\",\"head\",\"even\",\"alright\",\"life\",\"help\",\"phone\",\"ate\",\"leave\",\"together\",\"we're\",\"applause\",\"paper\",\"guy\",\"illusion\",\"really\",\"gotta\",\"find\",\"track\",\"them\",\"turn\",\"nobody\",\"he's\",\"dark\",\"schei\\u00dfe\",\"gangsta\",\"run\",\"promise\",\"look\",\"some\",\"makes\",\"last\",\"else\",\"under\",\"here\",\"alone\",\"before\",\"things\",\"after\",\"then\",\"goin'\",\"been\",\"watch\",\"meet\",\"forever\",\"inside\",\"better\",\"too\",\"world\",\"jandro\",\"hear\",\"clair\",\"brown\",\"until\",\"speak\",\"little\",\"summer\",\"aus\",\"kiss\",\"said\",\"speechless\",\"friends\",\"cut\",\"new\",\"feels\",\"happy\",\"someone\",\"its\",\"greatest\",\"yes\",\"lady\",\"home\",\"live\",\"belong\",\"wonder\",\"both\",\"ma\",\"those\",\"feeling\",\"leather\",\"wrong\",\"while\",\"whoa\",\"would\",\"mah\",\"wear\",\"talk\",\"pray\",\"believe\",\"disco\",\"work\",\"each\",\"seem\",\"high\",\"huh\",\"place\",\"fall\",\"over\",\"damn\",\"follow\",\"handle\",\"kind\",\"okay\",\"they\",\"fun\",\"blow\",\"swine\",\"hundred\",\"why\",\"judas\",\"mine\",\"club\",\"mean\",\"mind\",\"loves\",\"control\",\"er\",\"venus\",\"christmas\",\"top\",\"light\",\"care\",\"record\",\"prayer\",\"apart\",\"hard\",\"cherry\",\"only\",\"worn\",\"bow\",\"lord\",\"might\",\"worst\",\"glory\",\"lay\",\"own\",\"e\",\"two\",\"loud\",\"strong\",\"by\",\"hold\",\"callin'\",\"mama\",\"you've\",\"red\",\"telephone\",\"another\",\"should\",\"second\",\"crazy\",\"hell\",\"again\",\"cured\",\"catch\",\"these\",\"starstruck\",\"thought\",\"living\",\"boots\",\"full\",\"happens\",\"into\",\"smokin'\",\"mirror\",\"an\",\"fool\",\"caught\",\"day\",\"sick\",\"may\",\"verse\",\"downtown\",\"smoke\",\"ain't\",\"maybe\",\"looked\",\"making\",\"'til\",\"aha\",\"ye\",\"we'll\",\"ro\",\"sure\",\"rah\",\"heard\",\"duh\",\"dum\",\"lonely\",\"act\",\"nasty\",\"floor\",\"funk\",\"tap\"],\"x\":{\"dtype\":\"f4\",\"bdata\":\"aizSP2T\\u002f7sCRQOBB93UuwcLN3T8qp33AdWy4QahUEsGu+7PBqK9EwUXbnL+mOgdCISMjwhJ+x8E2uctBpiq0wVZuIUBf7a\\u002fBZuvPQQWHu724uyRBa5IzQbF\\u002fJ0LJvSnClSb+wXVDkMHuxQNBh4WfQbGElcHqT2fBEiOmwZv+KMDeiR7CC8a7wVwlzcDdChHBT3sMQPgybsGY6u\\u002fB0RxowBDl+T0J9+E\\u002f9NqEwFiGTUFBvQRAdsesQOFTgEGwf8JAdR0CwuLaz0GalXfB+yFKwR+Rt0GCxtVBTFZmwaBGvr8GOCPA+kWOQQFrEkIKghbBIE\\u002fpv+h6i8E5u1PBOVcnwNCnTTup0evB4duJQbPwCcFQGbzB8Senv6HFOkEJ3LfBiXS4wV5c90FyfwTAr+x6wHh3QEHB0QPC1SClwXx2UEF+pItBqYERworExMFaSEzASIR\\u002fQdDiL7+gFqxBCCD\\u002fwJ8C2UF+kBu\\u002f6lsBQlShbsFgDPvAQLMcwbOsAEK3nJu\\u002ff34OQcmuJcG14RVBDHHUwFw1WMGAusLA2jDWwN5G4sGwyDnBv9\\u002fqPxIbmkH0iYVBbjJCQVYLWUETkdbBeBEfwfgxNz8aHExBHXOiwcPWOcEZR31BvNIewU+HfUHtC95BzwKgQUIDD8I+WQ1BOK8RQrlIrEF+ycFACc42wMXYJ8Ew+1dACXlewT4fU8Cq833BD9CVwdRVH8H4dplBfeICwgFKVEBHAg1CL1i0QGjji8HJJuVAXwpGQcJXwcFbNRLCesKJQPLV3cEVAjjBMXsMQYOVlUEm8wFB9k9GQR0z7cHpFq7BbEE4waFst0HJx8FBfD6DQez1CEK5efpA\\u002fzrrQVmTAsJPLp0\\u002fN2udwVq8BMEkTURBPkSUwZscuEEUsgdBaPqDwTXYqsFccqTBfUkUQalNRsHW0D9BBW09wLh5e0GZPP7B2QzawageDcEv+gJC2Hi7wVnnHkFNjdXAZbnnwdstTEGdxQhC6UFQQdZ\\u002fK0HxuIrA10oUQmaaccGDj5vBQXhsQRUMN8DxbobBY6aKwX84K0LEa7fByDSuwVWG0EGYBLtBa05owM8s4cCO3GHBHnSGQbLrDEKqXQpBQOqHQZA2+EBBBw7Ch0joQT1Dg0Dl\\u002fSVBUk1twUxj4sEc+yzCS1muQbklHcJlwR1CRUjawZh8skFVX2LA+nV1wb2HHED0wtnB3mFPQcWxyEFlTipCjgnWQTy9yUFTKLVBnY29QeCipkA03ZPBZ0v\\u002fQYFdBcKkkYFAcT8ewgjCd0DfWCFBnIsCwsgWVMBNru1AAY0SQv7EFcKSx5bB6xiQQWQdPEEemsZBM6amvwZGq74g9BjCSXpJwX6iIcFNKuY\\u002fFxRRQbhjML\\u002fXYxHCDlRGQBM9B0ADz5\\u002fBEzLDQWbPC0LAcqW\\u002fRpW2wOfUq8Gp7JFARu2\\u002fwFFursDKFILBrq+EwdDwoUHS1x9BcXoGwuwR\\u002f8FsRtXBo2OxwdRx+MBpqzZAf8QVQvqgq8HV92nB\\u002f16FwQkZl0F5hQDCBh5KQYlZFD+HUQrA6t4\\u002fwJYRTUFwwLRBIia\\u002fQSU8o0FOl05B5uCnwdchqkCCc\\u002fxB2vVqwd9uA8LnAZJBv8ymwIdPfEESdqFBZTG5wc8VAkIeVAFCsjWrQTb8mEFzizjBpZViwd5YqcGhCdJBGr22wZx3lUG3+oQ\\u002fKHMWQvKYBUF+a8NAPhNZwdNSp0FpxKjAfZuJQAWATsH9xDhAP8+kwfxMwUHZjPnB2hoMwX+hHUJ1IEbAHL+3vkaTOMEaZYVBM6IYQsjHx8CLkh9BT3mRwQjOp0C6qZ8+CKbQwRVnA0L6yvDAu2LBQVnQ2UGtdW3BuHqNQNXPgUEHu9hBS\\u002f6wQKaCj8GoC4VBBXP7QJ4p6sDnyOdBAQ8GQZDnoUGgnKTBEQXMwcF91sCeeDfB9RUJQgy8YcFPdU5BkWTKwOu52kG5+atAZ4WKQRDdkME5Y9hBlsqlQP6Ho8DZ+n\\u002fACn8oQaa9Y8F2m29BPh9FwMeudcG7TfbBbpgrwaV9BEBvDFi\\u002fKwOewe9uBsLtS1XBvFJHwd39ikDmHGTAzj0Uwdn+7cC2o5pB2+okwt3DtUGxXktBkDXRwA==\"},\"y\":{\"dtype\":\"f4\",\"bdata\":\"fhwLwvED0cGSeCLBqfigQVQFWkESh0HBCAZ5Qd05KUG98YTB3Nc2QTFu7EDWsGdBYIVtwQQTV0FMUcc+izIOQSUczsGHlgzCg0TPQfGGhsFdcybB0GdwQRQtyD8qX55Ba+i9P0g2s8FMTxHCTcz\\u002fQcR3tMHAZ97Be7O9v2Dmj8GjJ4bAoONoQfgiAsK63ZFBTkmRwc\\u002fEjEDn7+3AjOF4wZ3eikH2lKNB70O8QQwT+cEr3zNBIb+bQdc4RMHmtTxCiK\\u002fKPvNYmEHoUm3Bl7aVwEizkkGz9DjAt9y3Qa\\u002fXGkJAuc5ARM6Owfoi9MAxlsZB\\u002fbEtwgVDD8KibDrCOzCPQHP7YcEXshtBZoC3wH1wEMKsAW\\u002fBsdISwivLZ8EmGtvBCgO2wd08NUC8XerA0dcUQiU+z8Ebd0ZBDdqXwRCEgEHoHA9BgLl3QIyi2EGkV0TB21XpweWa38GDazrBA9ceQtpJzj9dRMjB+XXHP9vcJMKxaLDBU2cBwAbXDcF\\u002f8hRAc4CawecBbsGV7b1BAgj5wbijG0FAFB5AVHQyQRpEgMENRRdCIz+KwHTqvMCwbMpBJRnNwX8KhcBQq9bBNeaTQbxh8EHhfy\\u002fCbm66wQ3FAMJ4sPtBY6S+wWPkQUH0+OfBnCHFQXYdncD1NL3BcN3RQJvbMUDyGQnCzj7MQVlqqcEXkuxBWqS+weLm7sFYB9DBhSNMQan3VkGivjjBIIQwQa5s\\u002fkDRYMlAUJLAwQ+lL8JBQtHBjPXeQavBAkLgqwBBWGgfQpXUj8Fd5djBguvPwSu7H8KjBSFCz1+nPxfTJsAKRC5B6g7WQYG6F0Kiy3VBH51Swa5alcGkuKhBw+yewcBbbsF5zsrBQwqcwaMaHkLrhuhBjWgeQrly7cEWsxVBB\\u002f2+wCnqpUHeCRzBCYl0QeOVRcGW5FfBzIgxQQ5AVb+EFCFBdGIuQLD2nkGVr8hBpIPbQaMr9EFboUVAzaXRwacUMUEP4s5BBeqewV3aGkICWBLCOONiwdSwhcGgQEdBJtFvwU38uUEvoxJBV787QMuXWMAMUOhAzerDQRlXP0EETGVBOeC\\u002fQYRI3sAHrvy9Dk1xwepyhUEfB\\u002fs\\u002fSPpMwRxrnMGE7V3BiKowQeOiM0L3LhHC+l\\u002fAwRKC1cHrj5BAO26fwZ7f+D8eWfFA7c+GQDbOu0EC3vDA30T7QXCUB0LEImrBQsMPwtE4w0GtB8jALF0vwTBwt8Boti9AbmM5wUZ92sFEvK7B2UVzQSWK58BbDLpBpRcAQe22NcIGWbPAV4ZrwNoUmz7xLUo\\u002fx++eQa7J\\u002fMB72KhBtL3NwQnQ7EHGIFbBU\\u002f7YwT3\\u002fj8HHP4bBaxrEQe5J6UEOsyDCQAS5PcjvLMJS6sPBlJkBwk5fzcGxHyy\\u002fjHweQbHFkMFWtJBB7tbYQVHU+EDro53AZEdeQCAHFkLEWJDBUsq2waE5ScEj0zRC4BNkwcfRG8DS6ZM\\u002fJIyOQcpoI0Ij3tBBCKv+wJmoI8DrbidCGAoewtPA+EDmFKxBEm\\u002fJwb3UgcFj7hhCm1KewUi8f0EC5QpCM2\\u002fWwXJuyMFFFOpBdLb6QVI\\u002fGMFSMkNA00quP4WRwUAHHe\\u002fAlVvpwbuerMCEEojBnxYPwBw37cBOKaPB\\u002fTzUQeTWgEFWza7Be68kwsa1XcF4sRbB\\u002fXXePr15osHffwZCF8v4v4T4V8EsXiZBT8AKwTC1lUH\\u002fSYNBCNwNwm5LE0LGcmXBYF+9QaDLxL8CzrBBI8iZwCbRHsG\\u002faCBC17GZQFJIQ8BTNMrBV5EbQIc1vUGbfnzBX7l8wVhbpkEqJ7HBezNCwH6zDUH+nIlBwNfiweKLqUBEl6E\\u002fWODsQZ5l+8A8gcBAd4FmwUL2M0Ex3INBfDgyQBR3VsEd9YBA3VWKwaYrvT+mGXlAX0jvwNfhZkF8fxtCBFkzQHP\\u002f4MEwSaFBkEbUQVHY\\u002f0CLTaU\\u002ffbnYQCvHEsIDOSpAiNwPwZtjd0BnxIjBJmC+QYEzFEFc4CHCMQj\\u002fv795XcGC1DNBERLXwWQUWsFyRDHBrOvEwDwSk0Ec1WHAyIMqwvfiwEGoVhBCi6gYQhnbCUJRxdZB48+MQGaDtD63jqtBa4sUQg==\"},\"z\":{\"dtype\":\"f4\",\"bdata\":\"l\\u002fyNwUZtq0CVhKJB8L\\u002f+P45EF0KPxwdBoNftPzwEW0E5qppBKGi9wTmZ6UFmIpvBVckEQWE8rEES+MNBYv0bwPO6\\u002fkCsaK+\\u002fpISlwBoAIcK0NqZBtN4YwojwDUH3+d9Ac31gwFEYhkBlkVhAK81YwbJYbsDCoBbBeAAEwupTUEHXcZvBPZxOwUpt0cBXFcDBcFG3wQYBj8H3pILBAaADQgxN3UG4TC7C71UdwsdinsFELQ3CsprQwRDuCULAizDAzJHFwYSe48H7QQLBK50CwtrOA8KHMuA\\u002fvlfUwNVJr0EbvSTCQ5sDQaA9Y0Dt3n\\u002fBcP8BwSbAjEET9IXAonQtQiBh60Ff5LtAVqIYwiBz2sGMG3dA1lEZQf6Ly8HyitdAUG2WwasBBELyUyjCtFOhv7+M9kEitgvB7+LywRrgwcHlJP9BuV+OQVD1zMEa1SRC+TDZwNcINsBZTtpBT7TlQce2FkJHf+nBm0VUwUwgIkE5o4zBmEjoQVEV8sBHfR7CYDGHQR3yB8JnarZBv\\u002fx\\u002fwejTEsLyCx5C1bIdQgvOycDnQPxBYXALQnKSncHOIAVCuEh9QcPX1UGNLXW\\u002fMcXgQYp8WUFiBpLAKaKRQZKHWUH0FFZBpRv2wVc\\u002fC8F+C++\\u002f2ImpwQiFyEBh68fBXruLQewF6sHoKIdBSyYVQvhaekH3IUfBs+PlQT8qukH0QgNCgv4CwhCR+EGpXP1B8OuIwcly08EJHBHAXeefQW2gDcHxMh3AqWmVwepz1EDa475BEHuQwVVwwUCDRftBy+D4wZcaAcFLZZfBTnELQma+MEFXDqTBt\\u002f5pQZq9mb\\u002f6Mt\\u002fAVkkXwiA\\u002fYEFLnSrCWWAmwQPs0cEvUwlC8HhKwXAEFUH5+XBB5JSHwPjlg8EP6t3B14Q1wbtk8UFXmpbBUKqKQeN9n8HcnBLCLikcwjki3sFNHMRBI2eMwXddSEGIqXrBFDa3QZUeFr5+cPrBBEt\\u002fwcwUGUIduknBLHvRQboXlUED1npA88s4Qerl60HpvGZBvodlwVZLykA7Fw3B2iIPQg1x6sDBsirCE7P2QQPD88H\\u002fqO\\u002fBVdmsQVH3z8Gk8h3CC28vwIRZuMAGUgxCPevGwbmJKMAst73BUEnYQJ0yr0DLMbnBQ58RQn+1msFd\\u002fmpAvjrjwQhkT8H5s\\u002f6\\u002fU2lwQBFReEHR9QhCEdS3wQzc6EGMeAdBqyilwbqbs0BuxhrBWtiMwJT+jsGREVvBr\\u002fG6QXAT\\u002fMHyMxZCxcFLwGTOZMDk7jvBubQ4QRN\\u002fdkE+9NfB0EQJQaqi68FS4uxBio\\u002foQHiC0cCYdxZBiTP2QVqRx8G0hpVAqiSuQZf5DkAqmZ5BinaKQWoZNECBJzTBs0KzwWJDm0GunjFBW2kIQT+Ed8HFZhBCZSCtwGZ1I0ElnpfBSoX1wTaExsHVdv\\u002fBES+rwZGuHEHYuuLBkQ2KQcSuP8FaBkJAeq+hwUKfo8EV1YLAclTCvD8OisC+BxjCeqcdQVMmnsHCFmfAmp1iwef8ocGQoGA+wERfQF1QSsEr3vPAkwWNwbpb00HRX2VAB7GawQGl3EHQeclB+wflQNFJdL7068LBEmvXwHefp0HhM6RAtnsnwe7J+MCHmm9BZFjSPyhVn8FflATBJjIIwR9X3sEAPLfAh6AwwZ4JF0GITgBB7SM4wcKUoMC2DsxBugYXQWOUGUKkPvpByoDTQTV76UEH4ORBDzPRwO5CnEHVixdBn1eQwSmOycAh6E1BY2cYwYMdVUFX\\u002fTjBPREZQtjpssFbxtBB+C6mQXpLp8Bze3FAVXXTQSq\\u002fFkFG6AJCzYqTwSUez8CJXKVBPHAlP8zK\\u002f0Fi9QVCMPDqQL46J0Lf8Ki9EDO4wcTcFMKdFX\\u002fBBUANwn+Ai8HIC0DBairZQa1tpEBCFPDB5Yq7wfCyAsJjipHAteUQQVlWcsHz3EBBFLUKQs4NukGYf83BgfgiwpTOA0ECURJAl3T\\u002fQCKZVMGGTK9Bl\\u002f3\\u002fQSC2uEHetQDB6byAwXPli8FyyJdBx1xtwTwZGsJbQCTCYyABwZRHWj6GW9u\\u002fw9gNP\\u002fDQn8E08sFB5+AIQp6wbMFPUT7BxRMgQbKOOkH4UwZCw3XawA==\"},\"type\":\"scatter3d\"},{\"hovertemplate\":\"color=red\\u003cbr\\u003ex=%{x}\\u003cbr\\u003ey=%{y}\\u003cbr\\u003ez=%{z}\\u003cbr\\u003esize=%{marker.size}\\u003cbr\\u003etext=%{text}\\u003cextra\\u003e\\u003c\\u002fextra\\u003e\",\"legendgroup\":\"red\",\"marker\":{\"color\":\"red\",\"size\":{\"dtype\":\"i1\",\"bdata\":\"CAgICAgI\"},\"sizemode\":\"area\",\"sizeref\":0.02,\"symbol\":\"circle\",\"line\":{\"color\":\"DarkSlateGrey\",\"width\":1}},\"mode\":\"markers+text\",\"name\":\"red\",\"scene\":\"scene\",\"showlegend\":true,\"text\":[\"love\",\"heart\",\"poker\",\"monster\",\"romance\",\"party\"],\"x\":{\"dtype\":\"f4\",\"bdata\":\"V60gQTZBw0GgpDHASZsrQQUwa8GjNdJB\"},\"y\":{\"dtype\":\"f4\",\"bdata\":\"aqYTQiVPM8E4kGnBd4JEwVW4IsIuTbrB\"},\"z\":{\"dtype\":\"f4\",\"bdata\":\"pHQfQR+X18EjGRhCMiYOQmngpEAO+rM+\"},\"type\":\"scatter3d\"}],                        {\"template\":{\"data\":{\"histogram2dcontour\":[{\"type\":\"histogram2dcontour\",\"colorbar\":{\"outlinewidth\":0,\"ticks\":\"\"},\"colorscale\":[[0.0,\"#0d0887\"],[0.1111111111111111,\"#46039f\"],[0.2222222222222222,\"#7201a8\"],[0.3333333333333333,\"#9c179e\"],[0.4444444444444444,\"#bd3786\"],[0.5555555555555556,\"#d8576b\"],[0.6666666666666666,\"#ed7953\"],[0.7777777777777778,\"#fb9f3a\"],[0.8888888888888888,\"#fdca26\"],[1.0,\"#f0f921\"]]}],\"choropleth\":[{\"type\":\"choropleth\",\"colorbar\":{\"outlinewidth\":0,\"ticks\":\"\"}}],\"histogram2d\":[{\"type\":\"histogram2d\",\"colorbar\":{\"outlinewidth\":0,\"ticks\":\"\"},\"colorscale\":[[0.0,\"#0d0887\"],[0.1111111111111111,\"#46039f\"],[0.2222222222222222,\"#7201a8\"],[0.3333333333333333,\"#9c179e\"],[0.4444444444444444,\"#bd3786\"],[0.5555555555555556,\"#d8576b\"],[0.6666666666666666,\"#ed7953\"],[0.7777777777777778,\"#fb9f3a\"],[0.8888888888888888,\"#fdca26\"],[1.0,\"#f0f921\"]]}],\"heatmap\":[{\"type\":\"heatmap\",\"colorbar\":{\"outlinewidth\":0,\"ticks\":\"\"},\"colorscale\":[[0.0,\"#0d0887\"],[0.1111111111111111,\"#46039f\"],[0.2222222222222222,\"#7201a8\"],[0.3333333333333333,\"#9c179e\"],[0.4444444444444444,\"#bd3786\"],[0.5555555555555556,\"#d8576b\"],[0.6666666666666666,\"#ed7953\"],[0.7777777777777778,\"#fb9f3a\"],[0.8888888888888888,\"#fdca26\"],[1.0,\"#f0f921\"]]}],\"contourcarpet\":[{\"type\":\"contourcarpet\",\"colorbar\":{\"outlinewidth\":0,\"ticks\":\"\"}}],\"contour\":[{\"type\":\"contour\",\"colorbar\":{\"outlinewidth\":0,\"ticks\":\"\"},\"colorscale\":[[0.0,\"#0d0887\"],[0.1111111111111111,\"#46039f\"],[0.2222222222222222,\"#7201a8\"],[0.3333333333333333,\"#9c179e\"],[0.4444444444444444,\"#bd3786\"],[0.5555555555555556,\"#d8576b\"],[0.6666666666666666,\"#ed7953\"],[0.7777777777777778,\"#fb9f3a\"],[0.8888888888888888,\"#fdca26\"],[1.0,\"#f0f921\"]]}],\"surface\":[{\"type\":\"surface\",\"colorbar\":{\"outlinewidth\":0,\"ticks\":\"\"},\"colorscale\":[[0.0,\"#0d0887\"],[0.1111111111111111,\"#46039f\"],[0.2222222222222222,\"#7201a8\"],[0.3333333333333333,\"#9c179e\"],[0.4444444444444444,\"#bd3786\"],[0.5555555555555556,\"#d8576b\"],[0.6666666666666666,\"#ed7953\"],[0.7777777777777778,\"#fb9f3a\"],[0.8888888888888888,\"#fdca26\"],[1.0,\"#f0f921\"]]}],\"mesh3d\":[{\"type\":\"mesh3d\",\"colorbar\":{\"outlinewidth\":0,\"ticks\":\"\"}}],\"scatter\":[{\"fillpattern\":{\"fillmode\":\"overlay\",\"size\":10,\"solidity\":0.2},\"type\":\"scatter\"}],\"parcoords\":[{\"type\":\"parcoords\",\"line\":{\"colorbar\":{\"outlinewidth\":0,\"ticks\":\"\"}}}],\"scatterpolargl\":[{\"type\":\"scatterpolargl\",\"marker\":{\"colorbar\":{\"outlinewidth\":0,\"ticks\":\"\"}}}],\"bar\":[{\"error_x\":{\"color\":\"#2a3f5f\"},\"error_y\":{\"color\":\"#2a3f5f\"},\"marker\":{\"line\":{\"color\":\"#E5ECF6\",\"width\":0.5},\"pattern\":{\"fillmode\":\"overlay\",\"size\":10,\"solidity\":0.2}},\"type\":\"bar\"}],\"scattergeo\":[{\"type\":\"scattergeo\",\"marker\":{\"colorbar\":{\"outlinewidth\":0,\"ticks\":\"\"}}}],\"scatterpolar\":[{\"type\":\"scatterpolar\",\"marker\":{\"colorbar\":{\"outlinewidth\":0,\"ticks\":\"\"}}}],\"histogram\":[{\"marker\":{\"pattern\":{\"fillmode\":\"overlay\",\"size\":10,\"solidity\":0.2}},\"type\":\"histogram\"}],\"scattergl\":[{\"type\":\"scattergl\",\"marker\":{\"colorbar\":{\"outlinewidth\":0,\"ticks\":\"\"}}}],\"scatter3d\":[{\"type\":\"scatter3d\",\"line\":{\"colorbar\":{\"outlinewidth\":0,\"ticks\":\"\"}},\"marker\":{\"colorbar\":{\"outlinewidth\":0,\"ticks\":\"\"}}}],\"scattermap\":[{\"type\":\"scattermap\",\"marker\":{\"colorbar\":{\"outlinewidth\":0,\"ticks\":\"\"}}}],\"scattermapbox\":[{\"type\":\"scattermapbox\",\"marker\":{\"colorbar\":{\"outlinewidth\":0,\"ticks\":\"\"}}}],\"scatterternary\":[{\"type\":\"scatterternary\",\"marker\":{\"colorbar\":{\"outlinewidth\":0,\"ticks\":\"\"}}}],\"scattercarpet\":[{\"type\":\"scattercarpet\",\"marker\":{\"colorbar\":{\"outlinewidth\":0,\"ticks\":\"\"}}}],\"carpet\":[{\"aaxis\":{\"endlinecolor\":\"#2a3f5f\",\"gridcolor\":\"white\",\"linecolor\":\"white\",\"minorgridcolor\":\"white\",\"startlinecolor\":\"#2a3f5f\"},\"baxis\":{\"endlinecolor\":\"#2a3f5f\",\"gridcolor\":\"white\",\"linecolor\":\"white\",\"minorgridcolor\":\"white\",\"startlinecolor\":\"#2a3f5f\"},\"type\":\"carpet\"}],\"table\":[{\"cells\":{\"fill\":{\"color\":\"#EBF0F8\"},\"line\":{\"color\":\"white\"}},\"header\":{\"fill\":{\"color\":\"#C8D4E3\"},\"line\":{\"color\":\"white\"}},\"type\":\"table\"}],\"barpolar\":[{\"marker\":{\"line\":{\"color\":\"#E5ECF6\",\"width\":0.5},\"pattern\":{\"fillmode\":\"overlay\",\"size\":10,\"solidity\":0.2}},\"type\":\"barpolar\"}],\"pie\":[{\"automargin\":true,\"type\":\"pie\"}]},\"layout\":{\"autotypenumbers\":\"strict\",\"colorway\":[\"#636efa\",\"#EF553B\",\"#00cc96\",\"#ab63fa\",\"#FFA15A\",\"#19d3f3\",\"#FF6692\",\"#B6E880\",\"#FF97FF\",\"#FECB52\"],\"font\":{\"color\":\"#2a3f5f\"},\"hovermode\":\"closest\",\"hoverlabel\":{\"align\":\"left\"},\"paper_bgcolor\":\"white\",\"plot_bgcolor\":\"#E5ECF6\",\"polar\":{\"bgcolor\":\"#E5ECF6\",\"angularaxis\":{\"gridcolor\":\"white\",\"linecolor\":\"white\",\"ticks\":\"\"},\"radialaxis\":{\"gridcolor\":\"white\",\"linecolor\":\"white\",\"ticks\":\"\"}},\"ternary\":{\"bgcolor\":\"#E5ECF6\",\"aaxis\":{\"gridcolor\":\"white\",\"linecolor\":\"white\",\"ticks\":\"\"},\"baxis\":{\"gridcolor\":\"white\",\"linecolor\":\"white\",\"ticks\":\"\"},\"caxis\":{\"gridcolor\":\"white\",\"linecolor\":\"white\",\"ticks\":\"\"}},\"coloraxis\":{\"colorbar\":{\"outlinewidth\":0,\"ticks\":\"\"}},\"colorscale\":{\"sequential\":[[0.0,\"#0d0887\"],[0.1111111111111111,\"#46039f\"],[0.2222222222222222,\"#7201a8\"],[0.3333333333333333,\"#9c179e\"],[0.4444444444444444,\"#bd3786\"],[0.5555555555555556,\"#d8576b\"],[0.6666666666666666,\"#ed7953\"],[0.7777777777777778,\"#fb9f3a\"],[0.8888888888888888,\"#fdca26\"],[1.0,\"#f0f921\"]],\"sequentialminus\":[[0.0,\"#0d0887\"],[0.1111111111111111,\"#46039f\"],[0.2222222222222222,\"#7201a8\"],[0.3333333333333333,\"#9c179e\"],[0.4444444444444444,\"#bd3786\"],[0.5555555555555556,\"#d8576b\"],[0.6666666666666666,\"#ed7953\"],[0.7777777777777778,\"#fb9f3a\"],[0.8888888888888888,\"#fdca26\"],[1.0,\"#f0f921\"]],\"diverging\":[[0,\"#8e0152\"],[0.1,\"#c51b7d\"],[0.2,\"#de77ae\"],[0.3,\"#f1b6da\"],[0.4,\"#fde0ef\"],[0.5,\"#f7f7f7\"],[0.6,\"#e6f5d0\"],[0.7,\"#b8e186\"],[0.8,\"#7fbc41\"],[0.9,\"#4d9221\"],[1,\"#276419\"]]},\"xaxis\":{\"gridcolor\":\"white\",\"linecolor\":\"white\",\"ticks\":\"\",\"title\":{\"standoff\":15},\"zerolinecolor\":\"white\",\"automargin\":true,\"zerolinewidth\":2},\"yaxis\":{\"gridcolor\":\"white\",\"linecolor\":\"white\",\"ticks\":\"\",\"title\":{\"standoff\":15},\"zerolinecolor\":\"white\",\"automargin\":true,\"zerolinewidth\":2},\"scene\":{\"xaxis\":{\"backgroundcolor\":\"#E5ECF6\",\"gridcolor\":\"white\",\"linecolor\":\"white\",\"showbackground\":true,\"ticks\":\"\",\"zerolinecolor\":\"white\",\"gridwidth\":2},\"yaxis\":{\"backgroundcolor\":\"#E5ECF6\",\"gridcolor\":\"white\",\"linecolor\":\"white\",\"showbackground\":true,\"ticks\":\"\",\"zerolinecolor\":\"white\",\"gridwidth\":2},\"zaxis\":{\"backgroundcolor\":\"#E5ECF6\",\"gridcolor\":\"white\",\"linecolor\":\"white\",\"showbackground\":true,\"ticks\":\"\",\"zerolinecolor\":\"white\",\"gridwidth\":2}},\"shapedefaults\":{\"line\":{\"color\":\"#2a3f5f\"}},\"annotationdefaults\":{\"arrowcolor\":\"#2a3f5f\",\"arrowhead\":0,\"arrowwidth\":1},\"geo\":{\"bgcolor\":\"white\",\"landcolor\":\"#E5ECF6\",\"subunitcolor\":\"white\",\"showland\":true,\"showlakes\":true,\"lakecolor\":\"white\"},\"title\":{\"x\":0.05},\"mapbox\":{\"style\":\"light\"}}},\"scene\":{\"domain\":{\"x\":[0.0,1.0],\"y\":[0.0,1.0]},\"xaxis\":{\"title\":{\"text\":\"x\"}},\"yaxis\":{\"title\":{\"text\":\"y\"}},\"zaxis\":{\"title\":{\"text\":\"z\"}}},\"legend\":{\"title\":{\"text\":\"color\"},\"tracegroupgap\":0,\"itemsizing\":\"constant\"},\"margin\":{\"t\":60},\"autosize\":false,\"width\":1200,\"height\":800,\"title\":{\"text\":\"3D Word Embeddings Visualization - Lady Gaga Lyrics\"},\"showlegend\":false},                        {\"responsive\": true}                    ).then(function(){\n",
       "                            \n",
       "var gd = document.getElementById('02d0bf28-5ab7-4f90-8f11-92ad52c2bba6');\n",
       "var x = new MutationObserver(function (mutations, observer) {{\n",
       "        var display = window.getComputedStyle(gd).display;\n",
       "        if (!display || display === 'none') {{\n",
       "            console.log([gd, 'removed!']);\n",
       "            Plotly.purge(gd);\n",
       "            observer.disconnect();\n",
       "        }}\n",
       "}});\n",
       "\n",
       "// Listen for the removal of the full notebook cells\n",
       "var notebookContainer = gd.closest('#notebook-container');\n",
       "if (notebookContainer) {{\n",
       "    x.observe(notebookContainer, {childList: true});\n",
       "}}\n",
       "\n",
       "// Listen for the clearing of the current output cell\n",
       "var outputEl = gd.closest('.output');\n",
       "if (outputEl) {{\n",
       "    x.observe(outputEl, {childList: true});\n",
       "}}\n",
       "\n",
       "                        })                };            </script>        </div>\n",
       "</body>\n",
       "</html>"
      ]
     },
     "metadata": {},
     "output_type": "display_data"
    }
   ],
   "source": [
    "vecs, labels = reduce_dimensions(w2v_model, 3)\n",
    "\n",
    "MAX_WORDS=400\n",
    "colors = ['lightblue'] * MAX_WORDS\n",
    "sizes = [2] * MAX_WORDS \n",
    "\n",
    "highlight_words = test_words\n",
    "\n",
    "for i, word in enumerate(labels[:MAX_WORDS]):\n",
    "    if word in highlight_words:\n",
    "        colors[i] = 'red'\n",
    "        sizes[i] = 8 \n",
    "fig = px.scatter_3d(\n",
    "    x=vecs[:MAX_WORDS, 0], \n",
    "    y=vecs[:MAX_WORDS, 1], \n",
    "    z=vecs[:MAX_WORDS, 2],\n",
    "    text=labels[:MAX_WORDS],\n",
    "    color=colors,\n",
    "    size=sizes,\n",
    "    color_discrete_map={'red': 'red', 'lightblue': 'lightblue'}\n",
    ")\n",
    "\n",
    "fig.update_layout(\n",
    "    autosize=False,\n",
    "    width=1200,\n",
    "    height=800,\n",
    "    title=\"3D Word Embeddings Visualization - Lady Gaga Lyrics\",\n",
    "    showlegend=False\n",
    ")\n",
    "\n",
    "fig.update_traces(\n",
    "    marker=dict(line=dict(width=1, color='DarkSlateGrey')),\n",
    "    selector=dict(marker_color='red')\n",
    ")\n",
    "\n",
    "fig.show(renderer=\"colab\")"
   ]
  },
  {
   "cell_type": "markdown",
   "id": "ee983967-efce-4924-b00f-01e898881063",
   "metadata": {},
   "source": [
    "El modelo Word2Vec entrenado sobre letras de Lady Gaga logra capturar relaciones \n",
    "semánticas coherentes con el universo tematico de la artista.\n",
    "\n",
    "Al ordenar por similitud puede se puede ver como se captura una relacion tematica entre los terminos.\n",
    "\n",
    "Por ejemplo, las palabras mas relacionadas con \"romance\", no son palabras *semanticamente* similares sino que son\n",
    "'caught','rah' y 'bad', debido al tema 'bad romance'\n",
    "\n",
    "En el espacio de embeddings reducido a dos dimensiones,\n",
    "los nombres propios y términos específicos de canciones tienden a ubicarse en la periferia, rodeados por palabras mas bien relacionads a esos temas. \n",
    "Por ejemplo, cerca del termino 'alejandro' se encuentran las palabras \"dont't\", \"call\" y \"name\" (ver imagen abajo)\n",
    "\n",
    "Otro aspecto de la visualizacion es que al redcir a dos dimensiones, ciertas relaciones semanticas, menos relevantes que las tematicas, se pierden,\n",
    "por ejemplo 'romance' y 'love' que semanticamente son similares (en la similaridad coseno, 0.5) en el plano se encuentran en extremos casi opuestos.\n",
    "\n",
    "Esta relacion se recupera al pasar al grafico 3d, donde las dos palabras se ubican relativamente cercanas entre si "
   ]
  },
  {
   "attachments": {
    "f3e041e6-a9ed-434a-b09f-77977b5e85ae.png": {
     "image/png": "[encoded data removed]"
    }
   },
   "cell_type": "markdown",
   "id": "eaa94feb-e68e-456f-9eb8-1f8832913993",
   "metadata": {},
   "source": [
    "![zoom_1.png](attachment:f3e041e6-a9ed-434a-b09f-77977b5e85ae.png)"
   ]
  }
 ],
 "metadata": {
  "kernelspec": {
   "display_name": "Python 3 (ipykernel)",
   "language": "python",
   "name": "python3"
  },
  "language_info": {
   "codemirror_mode": {
    "name": "ipython",
    "version": 3
   },
   "file_extension": ".py",
   "mimetype": "text/x-python",
   "name": "python",
   "nbconvert_exporter": "python",
   "pygments_lexer": "ipython3",
   "version": "3.10.12"
  }
 },
 "nbformat": 4,
 "nbformat_minor": 5
}
