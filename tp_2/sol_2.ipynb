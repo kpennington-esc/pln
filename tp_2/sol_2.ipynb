{
 "cells": [
  {
   "cell_type": "code",
   "execution_count": 1,
   "id": "8f3cc3db-7ffe-435e-a8a6-5e760e22685e",
   "metadata": {},
   "outputs": [
    {
     "name": "stderr",
     "output_type": "stream",
     "text": [
      "2025-10-16 09:48:06.720443: I tensorflow/core/util/port.cc:153] oneDNN custom operations are on. You may see slightly different numerical results due to floating-point round-off errors from different computation orders. To turn them off, set the environment variable `TF_ENABLE_ONEDNN_OPTS=0`.\n",
      "2025-10-16 09:48:07.186993: I tensorflow/core/platform/cpu_feature_guard.cc:210] This TensorFlow binary is optimized to use available CPU instructions in performance-critical operations.\n",
      "To enable the following instructions: AVX2 AVX_VNNI FMA, in other operations, rebuild TensorFlow with the appropriate compiler flags.\n",
      "2025-10-16 09:48:08.716895: I tensorflow/core/util/port.cc:153] oneDNN custom operations are on. You may see slightly different numerical results due to floating-point round-off errors from different computation orders. To turn them off, set the environment variable `TF_ENABLE_ONEDNN_OPTS=0`.\n"
     ]
    },
    {
     "name": "stdout",
     "output_type": "stream",
     "text": [
      "Defaulting to user installation because normal site-packages is not writeable\n",
      "Requirement already satisfied: plotly in /home/kpennington/.local/lib/python3.10/site-packages (6.3.1)\n",
      "Requirement already satisfied: narwhals>=1.15.1 in /home/kpennington/.local/lib/python3.10/site-packages (from plotly) (2.8.0)\n",
      "Requirement already satisfied: packaging in /home/kpennington/.local/lib/python3.10/site-packages (from plotly) (24.1)\n",
      "Note: you may need to restart the kernel to use updated packages.\n"
     ]
    }
   ],
   "source": [
    "import pandas as pd\n",
    "import matplotlib.pyplot as plt\n",
    "import seaborn as sns\n",
    "\n",
    "import multiprocessing\n",
    "from gensim.models import Word2Vec\n",
    "from tensorflow.keras.preprocessing.text import text_to_word_sequence\n",
    "\n",
    "from sklearn.decomposition import IncrementalPCA    \n",
    "from sklearn.manifold import TSNE                   \n",
    "import numpy as np    \n",
    "%pip install plotly\n",
    "import plotly.graph_objects as go\n",
    "import plotly.express as px"
   ]
  },
  {
   "cell_type": "code",
   "execution_count": 2,
   "id": "4433f372-51ee-4177-99d6-524413a9aa4a",
   "metadata": {},
   "outputs": [
    {
     "name": "stdout",
     "output_type": "stream",
     "text": [
      "El dataset ya se encuentra descargado\n"
     ]
    }
   ],
   "source": [
    "# Descargar la carpeta de dataset\n",
    "import os\n",
    "import platform\n",
    "if os.access('./songs_dataset', os.F_OK) is False:\n",
    "    if os.access('songs_dataset.zip', os.F_OK) is False:\n",
    "        if platform.system() == 'Windows':\n",
    "            !curl https://raw.githubusercontent.com/FIUBA-Posgrado-Inteligencia-Artificial/procesamiento_lenguaje_natural/main/datasets/songs_dataset.zip -o songs_dataset.zip\n",
    "        else:\n",
    "            !wget songs_dataset.zip https://github.com/FIUBA-Posgrado-Inteligencia-Artificial/procesamiento_lenguaje_natural/raw/main/datasets/songs_dataset.zip\n",
    "    !unzip -q songs_dataset.zip   \n",
    "else:\n",
    "    print(\"El dataset ya se encuentra descargado\")"
   ]
  },
  {
   "cell_type": "code",
   "execution_count": 3,
   "id": "9e05da4f-6a9e-433e-9b20-f4e087155074",
   "metadata": {},
   "outputs": [
    {
     "data": {
      "text/plain": [
       "['drake.txt',\n",
       " 'lil-wayne.txt',\n",
       " 'paul-simon.txt',\n",
       " 'patti-smith.txt',\n",
       " 'rihanna.txt',\n",
       " 'britney-spears.txt',\n",
       " 'lady-gaga.txt',\n",
       " 'dr-seuss.txt',\n",
       " 'notorious_big.txt',\n",
       " 'lin-manuel-miranda.txt',\n",
       " 'cake.txt',\n",
       " 'jimi-hendrix.txt',\n",
       " 'nursery_rhymes.txt',\n",
       " 'bieber.txt',\n",
       " 'blink-182.txt',\n",
       " 'bjork.txt',\n",
       " 'johnny-cash.txt',\n",
       " 'beatles.txt',\n",
       " 'joni-mitchell.txt',\n",
       " 'kanye-west.txt',\n",
       " 'dolly-parton.txt',\n",
       " 'amy-winehouse.txt',\n",
       " 'adele.txt',\n",
       " 'al-green.txt',\n",
       " 'notorious-big.txt',\n",
       " 'eminem.txt',\n",
       " 'r-kelly.txt',\n",
       " 'Kanye_West.txt',\n",
       " 'kanye.txt',\n",
       " 'radiohead.txt',\n",
       " 'dj-khaled.txt',\n",
       " 'bob-dylan.txt',\n",
       " 'ludacris.txt',\n",
       " 'alicia-keys.txt',\n",
       " 'dickinson.txt',\n",
       " 'bruce-springsteen.txt',\n",
       " 'nicki-minaj.txt',\n",
       " 'missy-elliott.txt',\n",
       " 'lorde.txt',\n",
       " 'bob-marley.txt',\n",
       " 'nickelback.txt',\n",
       " 'prince.txt',\n",
       " 'disney.txt',\n",
       " 'leonard-cohen.txt',\n",
       " 'Lil_Wayne.txt',\n",
       " 'bruno-mars.txt',\n",
       " 'michael-jackson.txt',\n",
       " 'janisjoplin.txt',\n",
       " 'nirvana.txt']"
      ]
     },
     "execution_count": 3,
     "metadata": {},
     "output_type": "execute_result"
    }
   ],
   "source": [
    "os.listdir(\"./songs_dataset/\")"
   ]
  },
  {
   "cell_type": "code",
   "execution_count": 4,
   "id": "87f3377e-c00d-4f4f-a1fb-42d6be9bd06e",
   "metadata": {},
   "outputs": [
    {
     "name": "stderr",
     "output_type": "stream",
     "text": [
      "/tmp/ipykernel_2328661/699152611.py:3: ParserWarning: Falling back to the 'python' engine because the 'c' engine does not support regex separators (separators > 1 char and different from '\\s+' are interpreted as regex); you can avoid this warning by specifying engine='python'.\n",
      "  df = pd.read_csv('songs_dataset/lady-gaga.txt', sep='/n', header=None)\n"
     ]
    },
    {
     "data": {
      "text/html": [
       "<div>\n",
       "<style scoped>\n",
       "    .dataframe tbody tr th:only-of-type {\n",
       "        vertical-align: middle;\n",
       "    }\n",
       "\n",
       "    .dataframe tbody tr th {\n",
       "        vertical-align: top;\n",
       "    }\n",
       "\n",
       "    .dataframe thead th {\n",
       "        text-align: right;\n",
       "    }\n",
       "</style>\n",
       "<table border=\"1\" class=\"dataframe\">\n",
       "  <thead>\n",
       "    <tr style=\"text-align: right;\">\n",
       "      <th></th>\n",
       "      <th>0</th>\n",
       "    </tr>\n",
       "  </thead>\n",
       "  <tbody>\n",
       "    <tr>\n",
       "      <th>0</th>\n",
       "      <td>I'll undress you, 'cause you're tired</td>\n",
       "    </tr>\n",
       "    <tr>\n",
       "      <th>1</th>\n",
       "      <td>Cover you as you desire</td>\n",
       "    </tr>\n",
       "    <tr>\n",
       "      <th>2</th>\n",
       "      <td>When you fall asleep inside my arms</td>\n",
       "    </tr>\n",
       "    <tr>\n",
       "      <th>3</th>\n",
       "      <td>May not have the fancy things</td>\n",
       "    </tr>\n",
       "    <tr>\n",
       "      <th>4</th>\n",
       "      <td>But I'll give you everything</td>\n",
       "    </tr>\n",
       "  </tbody>\n",
       "</table>\n",
       "</div>"
      ],
      "text/plain": [
       "                                       0\n",
       "0  I'll undress you, 'cause you're tired\n",
       "1                Cover you as you desire\n",
       "2    When you fall asleep inside my arms\n",
       "3          May not have the fancy things\n",
       "4           But I'll give you everything"
      ]
     },
     "execution_count": 4,
     "metadata": {},
     "output_type": "execute_result"
    }
   ],
   "source": [
    "# Armar el dataset utilizando salto de línea para separar las oraciones/docs\n",
    "\n",
    "df = pd.read_csv('songs_dataset/lady-gaga.txt', sep='/n', header=None)\n",
    "df.head()"
   ]
  },
  {
   "cell_type": "code",
   "execution_count": 5,
   "id": "c5088b83-ddd9-494d-bce3-f5cf8e307e3d",
   "metadata": {},
   "outputs": [
    {
     "name": "stdout",
     "output_type": "stream",
     "text": [
      "Cantidad de documentos: 3807\n"
     ]
    }
   ],
   "source": [
    "print(\"Cantidad de documentos:\", df.shape[0])"
   ]
  },
  {
   "cell_type": "code",
   "execution_count": 6,
   "id": "7e515330-5aae-42f7-a70a-08ccb58f8c45",
   "metadata": {},
   "outputs": [
    {
     "data": {
      "text/plain": [
       "[[\"i'll\", 'undress', 'you', \"'cause\", \"you're\", 'tired'],\n",
       " ['cover', 'you', 'as', 'you', 'desire'],\n",
       " ['when', 'you', 'fall', 'asleep', 'inside', 'my', 'arms'],\n",
       " ['may', 'not', 'have', 'the', 'fancy', 'things'],\n",
       " ['but', \"i'll\", 'give', 'you', 'everything']]"
      ]
     },
     "execution_count": 6,
     "metadata": {},
     "output_type": "execute_result"
    }
   ],
   "source": [
    "sentence_tokens = [text_to_word_sequence(row[0]) for _, row in df.iterrows()]\n",
    "sentence_tokens[:5]"
   ]
  },
  {
   "cell_type": "code",
   "execution_count": 7,
   "id": "c8f3d187-f025-4191-8506-ca4ee327ff86",
   "metadata": {},
   "outputs": [],
   "source": [
    "from gensim.models.callbacks import CallbackAny2Vec\n",
    "class callback(CallbackAny2Vec):\n",
    "    \"\"\"\n",
    "    Callback to print loss after each epoch\n",
    "    \"\"\"\n",
    "    def __init__(self):\n",
    "        self.epoch = 0\n",
    "\n",
    "    def on_epoch_end(self, model):\n",
    "        loss = model.get_latest_training_loss()\n",
    "        if self.epoch == 0:\n",
    "            print('Loss after epoch {}: {}'.format(self.epoch, loss))\n",
    "        else:\n",
    "            print('Loss after epoch {}: {}'.format(self.epoch, loss- self.loss_previous_step))\n",
    "        self.epoch += 1\n",
    "        self.loss_previous_step = loss"
   ]
  },
  {
   "cell_type": "code",
   "execution_count": 8,
   "id": "bc28c078-b836-4311-b772-88e55b8f1a26",
   "metadata": {},
   "outputs": [],
   "source": [
    "w2v_model = Word2Vec(min_count=5,    \n",
    "                     window=2,      \n",
    "                     vector_size=300,      \n",
    "                     negative=20,    \n",
    "                     workers=4,     \n",
    "                     sg=1)       "
   ]
  },
  {
   "cell_type": "code",
   "execution_count": 9,
   "id": "1aded33e-8be7-46e2-86a1-d8dca40c3cef",
   "metadata": {},
   "outputs": [],
   "source": [
    "w2v_model.build_vocab(sentence_tokens)"
   ]
  },
  {
   "cell_type": "code",
   "execution_count": 10,
   "id": "54f3dfcb-ac6a-4203-a7c0-cd813d858f06",
   "metadata": {},
   "outputs": [
    {
     "name": "stdout",
     "output_type": "stream",
     "text": [
      "Loss after epoch 0: 80796.2734375\n",
      "Loss after epoch 1: 51789.2421875\n",
      "Loss after epoch 2: 49546.71875\n",
      "Loss after epoch 3: 49750.796875\n",
      "Loss after epoch 4: 46790.59375\n",
      "Loss after epoch 5: 43125.46875\n",
      "Loss after epoch 6: 41885.3125\n",
      "Loss after epoch 7: 40415.375\n",
      "Loss after epoch 8: 39263.9375\n",
      "Loss after epoch 9: 35877.28125\n",
      "Loss after epoch 10: 36885.28125\n",
      "Loss after epoch 11: 35087.71875\n",
      "Loss after epoch 12: 35395.0625\n",
      "Loss after epoch 13: 31136.8125\n",
      "Loss after epoch 14: 33534.875\n",
      "Loss after epoch 15: 32954.3125\n",
      "Loss after epoch 16: 32267.25\n",
      "Loss after epoch 17: 32322.375\n",
      "Loss after epoch 18: 30464.8125\n",
      "Loss after epoch 19: 32355.875\n"
     ]
    },
    {
     "data": {
      "text/plain": [
       "(372048, 606000)"
      ]
     },
     "execution_count": 10,
     "metadata": {},
     "output_type": "execute_result"
    }
   ],
   "source": [
    "w2v_model.train(sentence_tokens,\n",
    "                 total_examples=w2v_model.corpus_count,\n",
    "                 epochs=20,\n",
    "                 compute_loss = True,\n",
    "                 callbacks=[callback()]\n",
    "                 )"
   ]
  },
  {
   "cell_type": "code",
   "execution_count": 19,
   "id": "b99a7a2c-d008-4e69-aa7d-d7ad7f30e56b",
   "metadata": {},
   "outputs": [
    {
     "name": "stdout",
     "output_type": "stream",
     "text": [
      "\n",
      "Word: romance\n",
      "[('caught', 0.8998708128929138), ('rah', 0.8694641590118408), ('bad', 0.8562280535697937), ('meat', 0.8167574405670166), ('write', 0.8143492937088013), ('mi', 0.7461416125297546), ('gun', 0.7432623505592346), ('may', 0.7200149893760681), ('revenge', 0.7199631333351135), ('oh', 0.7093391418457031)]\n",
      "\n",
      "Word: poker\n",
      "[('paint', 0.9173333048820496), ('read', 0.8654322028160095), ('p', 0.8591029644012451), ('1', 0.8132041692733765), ('lipstick', 0.792675256729126), ('face', 0.7828367948532104), ('nobody', 0.7651415467262268), ('parts', 0.7635513544082642), ('l', 0.7593212127685547), ('verse', 0.7458589673042297)]\n",
      "\n",
      "Word: monster\n",
      "[('m', 0.9081074595451355), ('er', 0.9002777934074402), ('delicious', 0.8713715672492981), ('tree', 0.8390259146690369), ('marry', 0.8155810236930847), ('christmas', 0.8006235957145691), ('has', 0.793752908706665), ('s', 0.7611622214317322), ('sick', 0.7609198093414307), ('prayer', 0.7544859647750854)]\n",
      "\n",
      "Word: heart\n",
      "[('ate', 0.6940087080001831), ('diamond', 0.6762998104095459), ('break', 0.6521451473236084), ('wants', 0.6319252848625183), ('hear', 0.6099227070808411), ('blow', 0.5964497327804565), ('clothes', 0.5918880701065063), ('wait', 0.5874428153038025), ('head', 0.584134042263031), ('talk', 0.5759795308113098)]\n",
      "\n",
      "Word: party\n",
      "[(\"callin'\", 0.8627409934997559), ('stop', 0.8565547466278076), ('voice', 0.8440766334533691), ('bikini', 0.7580750584602356), ('bridge', 0.7436083555221558), ('buy', 0.7348944544792175), ('making', 0.7340261340141296), ('until', 0.7324054837226868), ('use', 0.7281367778778076), ('stones', 0.7226418852806091)]\n",
      "\n",
      "Word: love\n",
      "[(\"doin'\", 0.7027000784873962), ('game', 0.6988733410835266), ('denim', 0.6563326716423035), ('judas', 0.6530436873435974), ('white', 0.6437857151031494), ('fame', 0.6391165256500244), ('goddess', 0.6338840126991272), ('whoa', 0.6325549483299255), ('hairspray', 0.6299428343772888), (\"wasn't\", 0.6285859942436218)]\n"
     ]
    }
   ],
   "source": [
    "test_words = [\"romance\", \"poker\", \"monster\", \"heart\",\"party\", \"love\"]\n",
    "\n",
    "for w in test_words:\n",
    "    print(\"\\nWord:\", w)\n",
    "    print(w2v_model.wv.most_similar( w, topn=10))"
   ]
  },
  {
   "cell_type": "code",
   "execution_count": 32,
   "id": "040a3f44-dd5d-4b1c-8ab7-c7b124567b11",
   "metadata": {},
   "outputs": [
    {
     "name": "stdout",
     "output_type": "stream",
     "text": [
      "\n",
      "Cosine similarity:\n",
      "          romance     poker   monster     heart     party      love\n",
      "romance  1.000000  0.377056  0.487808  0.269975  0.552938  0.524667\n",
      "poker    0.377056  1.000000  0.486287  0.434541  0.638405  0.322975\n",
      "monster  0.487808  0.486287  1.000000  0.417894  0.484528  0.377912\n",
      "heart    0.269975  0.434541  0.417894  1.000000  0.430993  0.206153\n",
      "party    0.552938  0.638405  0.484528  0.430993  1.000000  0.446322\n",
      "love     0.524667  0.322975  0.377912  0.206153  0.446322  1.000000\n"
     ]
    }
   ],
   "source": [
    "existing = [w for w in test_words if w in w2v_model.wv.key_to_index]\n",
    "vecs = np.array([w2v_model.wv[w] for w in existing])\n",
    "from sklearn.metrics.pairwise import cosine_similarity\n",
    "sim = cosine_similarity(vecs, vecs)\n",
    "print(\"\\nCosine similarity:\")\n",
    "print(pd.DataFrame(sim, index=existing, columns=existing))"
   ]
  },
  {
   "cell_type": "code",
   "execution_count": 13,
   "id": "f08db666-a102-47c3-9e48-4ab58bde0abb",
   "metadata": {},
   "outputs": [],
   "source": [
    "def reduce_dimensions(model, num_dimensions = 2):\n",
    "     \n",
    "    vectors = np.asarray(model.wv.vectors)\n",
    "    labels = np.asarray(model.wv.index_to_key)  \n",
    "\n",
    "    tsne = TSNE(n_components=num_dimensions, random_state=0)\n",
    "    vectors = tsne.fit_transform(vectors)\n",
    "\n",
    "    return vectors, labels"
   ]
  },
  {
   "cell_type": "code",
   "execution_count": 36,
   "id": "044162c5-ae4a-49cc-8bad-c9915eb79cbe",
   "metadata": {},
   "outputs": [
    {
     "data": {
      "application/vnd.plotly.v1+json": {
       "config": {
        "plotlyServerURL": "https://plot.ly"
       },
       "data": [
        {
         "hovertemplate": "color=blue<br>x=%{x}<br>y=%{y}<br>text=%{text}<extra></extra>",
         "legendgroup": "blue",
         "marker": {
          "color": "blue",
          "symbol": "circle"
         },
         "mode": "markers+text",
         "name": "blue",
         "orientation": "v",
         "showlegend": true,
         "text": [
          "i",
          "you",
          "the",
          "a",
          "me",
          "my",
          "to",
          "and",
          "oh",
          "i'm",
          "your",
          "that",
          "be",
          "in",
          "on",
          "it",
          "don't",
          "want",
          "just",
          "eh",
          "with",
          "baby",
          "of",
          "but",
          "we",
          "what",
          "wanna",
          "like",
          "do",
          "know",
          "so",
          "is",
          "this",
          "i'll",
          "can",
          "you're",
          "can't",
          "not",
          "could",
          "p",
          "up",
          "one",
          "good",
          "no",
          "as",
          "got",
          "m",
          "for",
          "if",
          "million",
          "way",
          "it's",
          "reasons",
          "all",
          "when",
          "dance",
          "hair",
          "gonna",
          "out",
          "'cause",
          "la",
          "girl",
          "ah",
          "show",
          "face",
          "boys",
          "need",
          "muh",
          "yeah",
          "touch",
          "he",
          "body",
          "was",
          "come",
          "ha",
          "down",
          "make",
          "give",
          "tell",
          "i've",
          "take",
          "were",
          "she",
          "read",
          "won't",
          "see",
          "night",
          "doo",
          "na",
          "say",
          "man",
          "bad",
          "how",
          "boy",
          "at",
          "am",
          "call",
          "something",
          "get",
          "feel",
          "time",
          "teeth",
          "now",
          "tonight",
          "da",
          "let",
          "have",
          "let's",
          "name",
          "go",
          "or",
          "put",
          "are",
          "ooh",
          "gaga",
          "hey",
          "game",
          "about",
          "her",
          "stop",
          "she's",
          "think",
          "there's",
          "edge",
          "yo",
          "babe",
          "'em",
          "chorus",
          "him",
          "u",
          "ale",
          "g",
          "around",
          "hands",
          "marry",
          "will",
          "enough",
          "right",
          "alejandro",
          "juda",
          "cry",
          "hot",
          "uh",
          "dreams",
          "walk",
          "without",
          "y",
          "nothing",
          "there",
          "away",
          "video",
          "where",
          "die",
          "eyes",
          "back",
          "keep",
          "more",
          "through",
          "stay",
          "cause",
          "artpop",
          "real",
          "born",
          "thing",
          "play",
          "beat",
          "other",
          "had",
          "still",
          "aura",
          "wish",
          "off",
          "never",
          "than",
          "free",
          "gypsy",
          "sex",
          "everything",
          "our",
          "who's",
          "who",
          "bang",
          "long",
          "perfect",
          "planet",
          "chick",
          "try",
          "fix",
          "myself",
          "his",
          "s",
          "us",
          "from",
          "fashion",
          "you'll",
          "left",
          "cure",
          "always",
          "behind",
          "giving",
          "givin'",
          "head",
          "even",
          "alright",
          "life",
          "help",
          "phone",
          "ate",
          "leave",
          "together",
          "we're",
          "applause",
          "paper",
          "guy",
          "illusion",
          "really",
          "gotta",
          "find",
          "track",
          "them",
          "turn",
          "nobody",
          "he's",
          "dark",
          "scheiße",
          "gangsta",
          "run",
          "promise",
          "look",
          "some",
          "makes",
          "last",
          "else",
          "under",
          "here",
          "alone",
          "before",
          "things",
          "after",
          "then",
          "goin'",
          "been",
          "watch",
          "meet",
          "forever",
          "inside",
          "better",
          "too",
          "world",
          "jandro",
          "hear",
          "clair",
          "brown",
          "until",
          "speak",
          "little",
          "summer",
          "aus",
          "kiss",
          "said",
          "speechless",
          "friends",
          "cut",
          "new",
          "feels",
          "happy",
          "someone",
          "its",
          "greatest",
          "yes",
          "lady",
          "home",
          "live",
          "belong",
          "wonder",
          "both",
          "ma",
          "those",
          "feeling",
          "leather",
          "wrong",
          "while",
          "whoa",
          "would",
          "mah",
          "wear",
          "talk",
          "pray",
          "believe",
          "disco",
          "work",
          "each",
          "seem",
          "high",
          "huh",
          "place",
          "fall",
          "over",
          "damn",
          "follow",
          "handle",
          "kind",
          "okay",
          "they",
          "fun",
          "blow",
          "swine",
          "hundred",
          "why",
          "judas",
          "mine",
          "club",
          "mean",
          "mind",
          "loves",
          "control",
          "er",
          "venus",
          "christmas",
          "top",
          "light",
          "care",
          "record",
          "prayer",
          "apart",
          "hard",
          "cherry",
          "only",
          "worn",
          "bow",
          "lord",
          "might",
          "worst",
          "glory",
          "lay",
          "own",
          "e",
          "two",
          "loud",
          "strong",
          "by",
          "hold",
          "callin'",
          "mama",
          "you've",
          "red",
          "telephone",
          "another",
          "should",
          "second",
          "crazy",
          "hell",
          "again",
          "cured",
          "catch",
          "these",
          "starstruck",
          "thought",
          "living",
          "boots",
          "full",
          "happens",
          "into",
          "smokin'",
          "mirror",
          "an",
          "fool",
          "caught",
          "day",
          "sick",
          "may",
          "verse",
          "downtown",
          "smoke",
          "ain't",
          "maybe",
          "looked",
          "making",
          "'til",
          "aha",
          "ye",
          "we'll",
          "ro",
          "sure",
          "rah",
          "heard",
          "duh",
          "dum",
          "lonely",
          "act",
          "nasty",
          "floor",
          "funk",
          "tap"
         ],
         "type": "scatter",
         "x": {
          "bdata": "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",
          "dtype": "f4"
         },
         "xaxis": "x",
         "y": {
          "bdata": "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",
          "dtype": "f4"
         },
         "yaxis": "y"
        },
        {
         "hovertemplate": "color=red<br>x=%{x}<br>y=%{y}<br>text=%{text}<extra></extra>",
         "legendgroup": "red",
         "marker": {
          "color": "red",
          "line": {
           "color": "DarkSlateGrey",
           "width": 2
          },
          "size": 12,
          "symbol": "circle"
         },
         "mode": "markers+text",
         "name": "red",
         "orientation": "v",
         "showlegend": true,
         "text": [
          "love",
          "heart",
          "poker",
          "monster",
          "romance",
          "party"
         ],
         "type": "scatter",
         "x": {
          "bdata": "t1L4QWsIXMF9M2o+DA0zwBaHGcHoiZHB",
          "dtype": "f4"
         },
         "xaxis": "x",
         "y": {
          "bdata": "medbwI2RVcArpOlBCEiyQcS81EGzF4PB",
          "dtype": "f4"
         },
         "yaxis": "y"
        }
       ],
       "layout": {
        "autosize": false,
        "height": 800,
        "legend": {
         "title": {
          "text": "color"
         },
         "tracegroupgap": 0
        },
        "margin": {
         "t": 60
        },
        "showlegend": false,
        "template": {
         "data": {
          "bar": [
           {
            "error_x": {
             "color": "#2a3f5f"
            },
            "error_y": {
             "color": "#2a3f5f"
            },
            "marker": {
             "line": {
              "color": "#E5ECF6",
              "width": 0.5
             },
             "pattern": {
              "fillmode": "overlay",
              "size": 10,
              "solidity": 0.2
             }
            },
            "type": "bar"
           }
          ],
          "barpolar": [
           {
            "marker": {
             "line": {
              "color": "#E5ECF6",
              "width": 0.5
             },
             "pattern": {
              "fillmode": "overlay",
              "size": 10,
              "solidity": 0.2
             }
            },
            "type": "barpolar"
           }
          ],
          "carpet": [
           {
            "aaxis": {
             "endlinecolor": "#2a3f5f",
             "gridcolor": "white",
             "linecolor": "white",
             "minorgridcolor": "white",
             "startlinecolor": "#2a3f5f"
            },
            "baxis": {
             "endlinecolor": "#2a3f5f",
             "gridcolor": "white",
             "linecolor": "white",
             "minorgridcolor": "white",
             "startlinecolor": "#2a3f5f"
            },
            "type": "carpet"
           }
          ],
          "choropleth": [
           {
            "colorbar": {
             "outlinewidth": 0,
             "ticks": ""
            },
            "type": "choropleth"
           }
          ],
          "contour": [
           {
            "colorbar": {
             "outlinewidth": 0,
             "ticks": ""
            },
            "colorscale": [
             [
              0,
              "#0d0887"
             ],
             [
              0.1111111111111111,
              "#46039f"
             ],
             [
              0.2222222222222222,
              "#7201a8"
             ],
             [
              0.3333333333333333,
              "#9c179e"
             ],
             [
              0.4444444444444444,
              "#bd3786"
             ],
             [
              0.5555555555555556,
              "#d8576b"
             ],
             [
              0.6666666666666666,
              "#ed7953"
             ],
             [
              0.7777777777777778,
              "#fb9f3a"
             ],
             [
              0.8888888888888888,
              "#fdca26"
             ],
             [
              1,
              "#f0f921"
             ]
            ],
            "type": "contour"
           }
          ],
          "contourcarpet": [
           {
            "colorbar": {
             "outlinewidth": 0,
             "ticks": ""
            },
            "type": "contourcarpet"
           }
          ],
          "heatmap": [
           {
            "colorbar": {
             "outlinewidth": 0,
             "ticks": ""
            },
            "colorscale": [
             [
              0,
              "#0d0887"
             ],
             [
              0.1111111111111111,
              "#46039f"
             ],
             [
              0.2222222222222222,
              "#7201a8"
             ],
             [
              0.3333333333333333,
              "#9c179e"
             ],
             [
              0.4444444444444444,
              "#bd3786"
             ],
             [
              0.5555555555555556,
              "#d8576b"
             ],
             [
              0.6666666666666666,
              "#ed7953"
             ],
             [
              0.7777777777777778,
              "#fb9f3a"
             ],
             [
              0.8888888888888888,
              "#fdca26"
             ],
             [
              1,
              "#f0f921"
             ]
            ],
            "type": "heatmap"
           }
          ],
          "histogram": [
           {
            "marker": {
             "pattern": {
              "fillmode": "overlay",
              "size": 10,
              "solidity": 0.2
             }
            },
            "type": "histogram"
           }
          ],
          "histogram2d": [
           {
            "colorbar": {
             "outlinewidth": 0,
             "ticks": ""
            },
            "colorscale": [
             [
              0,
              "#0d0887"
             ],
             [
              0.1111111111111111,
              "#46039f"
             ],
             [
              0.2222222222222222,
              "#7201a8"
             ],
             [
              0.3333333333333333,
              "#9c179e"
             ],
             [
              0.4444444444444444,
              "#bd3786"
             ],
             [
              0.5555555555555556,
              "#d8576b"
             ],
             [
              0.6666666666666666,
              "#ed7953"
             ],
             [
              0.7777777777777778,
              "#fb9f3a"
             ],
             [
              0.8888888888888888,
              "#fdca26"
             ],
             [
              1,
              "#f0f921"
             ]
            ],
            "type": "histogram2d"
           }
          ],
          "histogram2dcontour": [
           {
            "colorbar": {
             "outlinewidth": 0,
             "ticks": ""
            },
            "colorscale": [
             [
              0,
              "#0d0887"
             ],
             [
              0.1111111111111111,
              "#46039f"
             ],
             [
              0.2222222222222222,
              "#7201a8"
             ],
             [
              0.3333333333333333,
              "#9c179e"
             ],
             [
              0.4444444444444444,
              "#bd3786"
             ],
             [
              0.5555555555555556,
              "#d8576b"
             ],
             [
              0.6666666666666666,
              "#ed7953"
             ],
             [
              0.7777777777777778,
              "#fb9f3a"
             ],
             [
              0.8888888888888888,
              "#fdca26"
             ],
             [
              1,
              "#f0f921"
             ]
            ],
            "type": "histogram2dcontour"
           }
          ],
          "mesh3d": [
           {
            "colorbar": {
             "outlinewidth": 0,
             "ticks": ""
            },
            "type": "mesh3d"
           }
          ],
          "parcoords": [
           {
            "line": {
             "colorbar": {
              "outlinewidth": 0,
              "ticks": ""
             }
            },
            "type": "parcoords"
           }
          ],
          "pie": [
           {
            "automargin": true,
            "type": "pie"
           }
          ],
          "scatter": [
           {
            "fillpattern": {
             "fillmode": "overlay",
             "size": 10,
             "solidity": 0.2
            },
            "type": "scatter"
           }
          ],
          "scatter3d": [
           {
            "line": {
             "colorbar": {
              "outlinewidth": 0,
              "ticks": ""
             }
            },
            "marker": {
             "colorbar": {
              "outlinewidth": 0,
              "ticks": ""
             }
            },
            "type": "scatter3d"
           }
          ],
          "scattercarpet": [
           {
            "marker": {
             "colorbar": {
              "outlinewidth": 0,
              "ticks": ""
             }
            },
            "type": "scattercarpet"
           }
          ],
          "scattergeo": [
           {
            "marker": {
             "colorbar": {
              "outlinewidth": 0,
              "ticks": ""
             }
            },
            "type": "scattergeo"
           }
          ],
          "scattergl": [
           {
            "marker": {
             "colorbar": {
              "outlinewidth": 0,
              "ticks": ""
             }
            },
            "type": "scattergl"
           }
          ],
          "scattermap": [
           {
            "marker": {
             "colorbar": {
              "outlinewidth": 0,
              "ticks": ""
             }
            },
            "type": "scattermap"
           }
          ],
          "scattermapbox": [
           {
            "marker": {
             "colorbar": {
              "outlinewidth": 0,
              "ticks": ""
             }
            },
            "type": "scattermapbox"
           }
          ],
          "scatterpolar": [
           {
            "marker": {
             "colorbar": {
              "outlinewidth": 0,
              "ticks": ""
             }
            },
            "type": "scatterpolar"
           }
          ],
          "scatterpolargl": [
           {
            "marker": {
             "colorbar": {
              "outlinewidth": 0,
              "ticks": ""
             }
            },
            "type": "scatterpolargl"
           }
          ],
          "scatterternary": [
           {
            "marker": {
             "colorbar": {
              "outlinewidth": 0,
              "ticks": ""
             }
            },
            "type": "scatterternary"
           }
          ],
          "surface": [
           {
            "colorbar": {
             "outlinewidth": 0,
             "ticks": ""
            },
            "colorscale": [
             [
              0,
              "#0d0887"
             ],
             [
              0.1111111111111111,
              "#46039f"
             ],
             [
              0.2222222222222222,
              "#7201a8"
             ],
             [
              0.3333333333333333,
              "#9c179e"
             ],
             [
              0.4444444444444444,
              "#bd3786"
             ],
             [
              0.5555555555555556,
              "#d8576b"
             ],
             [
              0.6666666666666666,
              "#ed7953"
             ],
             [
              0.7777777777777778,
              "#fb9f3a"
             ],
             [
              0.8888888888888888,
              "#fdca26"
             ],
             [
              1,
              "#f0f921"
             ]
            ],
            "type": "surface"
           }
          ],
          "table": [
           {
            "cells": {
             "fill": {
              "color": "#EBF0F8"
             },
             "line": {
              "color": "white"
             }
            },
            "header": {
             "fill": {
              "color": "#C8D4E3"
             },
             "line": {
              "color": "white"
             }
            },
            "type": "table"
           }
          ]
         },
         "layout": {
          "annotationdefaults": {
           "arrowcolor": "#2a3f5f",
           "arrowhead": 0,
           "arrowwidth": 1
          },
          "autotypenumbers": "strict",
          "coloraxis": {
           "colorbar": {
            "outlinewidth": 0,
            "ticks": ""
           }
          },
          "colorscale": {
           "diverging": [
            [
             0,
             "#8e0152"
            ],
            [
             0.1,
             "#c51b7d"
            ],
            [
             0.2,
             "#de77ae"
            ],
            [
             0.3,
             "#f1b6da"
            ],
            [
             0.4,
             "#fde0ef"
            ],
            [
             0.5,
             "#f7f7f7"
            ],
            [
             0.6,
             "#e6f5d0"
            ],
            [
             0.7,
             "#b8e186"
            ],
            [
             0.8,
             "#7fbc41"
            ],
            [
             0.9,
             "#4d9221"
            ],
            [
             1,
             "#276419"
            ]
           ],
           "sequential": [
            [
             0,
             "#0d0887"
            ],
            [
             0.1111111111111111,
             "#46039f"
            ],
            [
             0.2222222222222222,
             "#7201a8"
            ],
            [
             0.3333333333333333,
             "#9c179e"
            ],
            [
             0.4444444444444444,
             "#bd3786"
            ],
            [
             0.5555555555555556,
             "#d8576b"
            ],
            [
             0.6666666666666666,
             "#ed7953"
            ],
            [
             0.7777777777777778,
             "#fb9f3a"
            ],
            [
             0.8888888888888888,
             "#fdca26"
            ],
            [
             1,
             "#f0f921"
            ]
           ],
           "sequentialminus": [
            [
             0,
             "#0d0887"
            ],
            [
             0.1111111111111111,
             "#46039f"
            ],
            [
             0.2222222222222222,
             "#7201a8"
            ],
            [
             0.3333333333333333,
             "#9c179e"
            ],
            [
             0.4444444444444444,
             "#bd3786"
            ],
            [
             0.5555555555555556,
             "#d8576b"
            ],
            [
             0.6666666666666666,
             "#ed7953"
            ],
            [
             0.7777777777777778,
             "#fb9f3a"
            ],
            [
             0.8888888888888888,
             "#fdca26"
            ],
            [
             1,
             "#f0f921"
            ]
           ]
          },
          "colorway": [
           "#636efa",
           "#EF553B",
           "#00cc96",
           "#ab63fa",
           "#FFA15A",
           "#19d3f3",
           "#FF6692",
           "#B6E880",
           "#FF97FF",
           "#FECB52"
          ],
          "font": {
           "color": "#2a3f5f"
          },
          "geo": {
           "bgcolor": "white",
           "lakecolor": "white",
           "landcolor": "#E5ECF6",
           "showlakes": true,
           "showland": true,
           "subunitcolor": "white"
          },
          "hoverlabel": {
           "align": "left"
          },
          "hovermode": "closest",
          "mapbox": {
           "style": "light"
          },
          "paper_bgcolor": "white",
          "plot_bgcolor": "#E5ECF6",
          "polar": {
           "angularaxis": {
            "gridcolor": "white",
            "linecolor": "white",
            "ticks": ""
           },
           "bgcolor": "#E5ECF6",
           "radialaxis": {
            "gridcolor": "white",
            "linecolor": "white",
            "ticks": ""
           }
          },
          "scene": {
           "xaxis": {
            "backgroundcolor": "#E5ECF6",
            "gridcolor": "white",
            "gridwidth": 2,
            "linecolor": "white",
            "showbackground": true,
            "ticks": "",
            "zerolinecolor": "white"
           },
           "yaxis": {
            "backgroundcolor": "#E5ECF6",
            "gridcolor": "white",
            "gridwidth": 2,
            "linecolor": "white",
            "showbackground": true,
            "ticks": "",
            "zerolinecolor": "white"
           },
           "zaxis": {
            "backgroundcolor": "#E5ECF6",
            "gridcolor": "white",
            "gridwidth": 2,
            "linecolor": "white",
            "showbackground": true,
            "ticks": "",
            "zerolinecolor": "white"
           }
          },
          "shapedefaults": {
           "line": {
            "color": "#2a3f5f"
           }
          },
          "ternary": {
           "aaxis": {
            "gridcolor": "white",
            "linecolor": "white",
            "ticks": ""
           },
           "baxis": {
            "gridcolor": "white",
            "linecolor": "white",
            "ticks": ""
           },
           "bgcolor": "#E5ECF6",
           "caxis": {
            "gridcolor": "white",
            "linecolor": "white",
            "ticks": ""
           }
          },
          "title": {
           "x": 0.05
          },
          "xaxis": {
           "automargin": true,
           "gridcolor": "white",
           "linecolor": "white",
           "ticks": "",
           "title": {
            "standoff": 15
           },
           "zerolinecolor": "white",
           "zerolinewidth": 2
          },
          "yaxis": {
           "automargin": true,
           "gridcolor": "white",
           "linecolor": "white",
           "ticks": "",
           "title": {
            "standoff": 15
           },
           "zerolinecolor": "white",
           "zerolinewidth": 2
          }
         }
        },
        "title": {
         "text": "Word Embeddings Visualization - Lady Gaga Lyrics"
        },
        "width": 1200,
        "xaxis": {
         "anchor": "y",
         "domain": [
          0,
          1
         ],
         "title": {
          "text": "x"
         }
        },
        "yaxis": {
         "anchor": "x",
         "domain": [
          0,
          1
         ],
         "title": {
          "text": "y"
         }
        }
       }
      },
      "image/png": "[encoded data removed]"
     },
     "metadata": {},
     "output_type": "display_data"
    }
   ],
   "source": [
    "vecs, labels = reduce_dimensions(w2v_model)\n",
    "\n",
    "MAX_WORDS=400\n",
    "colors = ['blue'] * MAX_WORDS\n",
    "\n",
    "highlight_words = test_words\n",
    "\n",
    "for i, word in enumerate(labels[:MAX_WORDS]):\n",
    "    if word in highlight_words:\n",
    "        colors[i] = 'red'\n",
    "\n",
    "fig = px.scatter(\n",
    "    x=vecs[:MAX_WORDS, 0], \n",
    "    y=vecs[:MAX_WORDS, 1], \n",
    "    text=labels[:MAX_WORDS],\n",
    "    color=colors,\n",
    "    color_discrete_map={'red': 'red', 'blue': 'blue'}\n",
    ")\n",
    "\n",
    "fig.update_layout(\n",
    "    autosize=False,\n",
    "    width=1200,\n",
    "    height=800,\n",
    "    title=\"Word Embeddings Visualization - Lady Gaga Lyrics\",\n",
    "    showlegend=False \n",
    ")\n",
    "\n",
    "fig.update_traces(\n",
    "    marker=dict(size=12, line=dict(width=2, color='DarkSlateGrey')),\n",
    "    selector=dict(marker_color='red')\n",
    ")\n",
    "\n",
    "fig.show()"
   ]
  },
  {
   "cell_type": "code",
   "execution_count": 38,
   "id": "bb920ea7-8e1f-4dff-8212-fa444b2db2b6",
   "metadata": {},
   "outputs": [
    {
     "data": {
      "text/html": [
       "<html>\n",
       "<head><meta charset=\"utf-8\" /></head>\n",
       "<body>\n",
       "    <div>            <script src=\"https://cdnjs.cloudflare.com/ajax/libs/mathjax/2.7.5/MathJax.js?config=TeX-AMS-MML_SVG\"></script><script type=\"text/javascript\">if (window.MathJax && window.MathJax.Hub && window.MathJax.Hub.Config) {window.MathJax.Hub.Config({SVG: {font: \"STIX-Web\"}});}</script>                <script type=\"text/javascript\">window.PlotlyConfig = {MathJaxConfig: 'local'};</script>\n",
       "        <script charset=\"utf-8\" src=\"https://cdn.plot.ly/plotly-3.1.1.min.js\" integrity=\"sha256-HUEFyfiTnZJxCxur99FjbKYTvKSzwDaD3/x5TqHpFu4=\" crossorigin=\"anonymous\"></script>                <div id=\"452243d2-a222-4909-bb02-779ff2637d12\" class=\"plotly-graph-div\" style=\"height:800px; width:1200px;\"></div>            <script type=\"text/javascript\">                window.PLOTLYENV=window.PLOTLYENV || {};                                if (document.getElementById(\"452243d2-a222-4909-bb02-779ff2637d12\")) {                    Plotly.newPlot(                        \"452243d2-a222-4909-bb02-779ff2637d12\",                        [{\"hovertemplate\":\"color=lightblue\\u003cbr\\u003ex=%{x}\\u003cbr\\u003ey=%{y}\\u003cbr\\u003ez=%{z}\\u003cbr\\u003esize=%{marker.size}\\u003cbr\\u003etext=%{text}\\u003cextra\\u003e\\u003c\\u002fextra\\u003e\",\"legendgroup\":\"lightblue\",\"marker\":{\"color\":\"lightblue\",\"size\":{\"dtype\":\"i1\",\"bdata\":\"AgICAgICAgICAgICAgICAgICAgICAgICAgICAgICAgICAgICAgICAgICAgICAgICAgICAgICAgICAgICAgICAgICAgICAgICAgICAgICAgICAgICAgICAgICAgICAgICAgICAgICAgICAgICAgICAgICAgICAgICAgICAgICAgICAgICAgICAgICAgICAgICAgICAgICAgICAgICAgICAgICAgICAgICAgICAgICAgICAgICAgICAgICAgICAgICAgICAgICAgICAgICAgICAgICAgICAgICAgICAgICAgICAgICAgICAgICAgICAgICAgICAgICAgICAgICAgICAgICAgICAgICAgICAgICAgICAgICAgICAgICAgICAgICAgICAgICAgICAgICAgICAgICAgICAgICAgICAgICAgICAgICAgICAgICAgICAgICAgICAgICAgICAgICAgICAgICAgICAgICAgICAgICAgICAgICAgICAgICAgICAgICAgICAgICAgICAg==\"},\"sizemode\":\"area\",\"sizeref\":0.02,\"symbol\":\"circle\"},\"mode\":\"markers+text\",\"name\":\"lightblue\",\"scene\":\"scene\",\"showlegend\":true,\"text\":[\"i\",\"you\",\"the\",\"a\",\"me\",\"my\",\"to\",\"and\",\"oh\",\"i'm\",\"your\",\"that\",\"be\",\"in\",\"on\",\"it\",\"don't\",\"want\",\"just\",\"eh\",\"with\",\"baby\",\"of\",\"but\",\"we\",\"what\",\"wanna\",\"like\",\"do\",\"know\",\"so\",\"is\",\"this\",\"i'll\",\"can\",\"you're\",\"can't\",\"not\",\"could\",\"p\",\"up\",\"one\",\"good\",\"no\",\"as\",\"got\",\"m\",\"for\",\"if\",\"million\",\"way\",\"it's\",\"reasons\",\"all\",\"when\",\"dance\",\"hair\",\"gonna\",\"out\",\"'cause\",\"la\",\"girl\",\"ah\",\"show\",\"face\",\"boys\",\"need\",\"muh\",\"yeah\",\"touch\",\"he\",\"body\",\"was\",\"come\",\"ha\",\"down\",\"make\",\"give\",\"tell\",\"i've\",\"take\",\"were\",\"she\",\"read\",\"won't\",\"see\",\"night\",\"doo\",\"na\",\"say\",\"man\",\"bad\",\"how\",\"boy\",\"at\",\"am\",\"call\",\"something\",\"get\",\"feel\",\"time\",\"teeth\",\"now\",\"tonight\",\"da\",\"let\",\"have\",\"let's\",\"name\",\"go\",\"or\",\"put\",\"are\",\"ooh\",\"gaga\",\"hey\",\"game\",\"about\",\"her\",\"stop\",\"she's\",\"think\",\"there's\",\"edge\",\"yo\",\"babe\",\"'em\",\"chorus\",\"him\",\"u\",\"ale\",\"g\",\"around\",\"hands\",\"marry\",\"will\",\"enough\",\"right\",\"alejandro\",\"juda\",\"cry\",\"hot\",\"uh\",\"dreams\",\"walk\",\"without\",\"y\",\"nothing\",\"there\",\"away\",\"video\",\"where\",\"die\",\"eyes\",\"back\",\"keep\",\"more\",\"through\",\"stay\",\"cause\",\"artpop\",\"real\",\"born\",\"thing\",\"play\",\"beat\",\"other\",\"had\",\"still\",\"aura\",\"wish\",\"off\",\"never\",\"than\",\"free\",\"gypsy\",\"sex\",\"everything\",\"our\",\"who's\",\"who\",\"bang\",\"long\",\"perfect\",\"planet\",\"chick\",\"try\",\"fix\",\"myself\",\"his\",\"s\",\"us\",\"from\",\"fashion\",\"you'll\",\"left\",\"cure\",\"always\",\"behind\",\"giving\",\"givin'\",\"head\",\"even\",\"alright\",\"life\",\"help\",\"phone\",\"ate\",\"leave\",\"together\",\"we're\",\"applause\",\"paper\",\"guy\",\"illusion\",\"really\",\"gotta\",\"find\",\"track\",\"them\",\"turn\",\"nobody\",\"he's\",\"dark\",\"schei\\u00dfe\",\"gangsta\",\"run\",\"promise\",\"look\",\"some\",\"makes\",\"last\",\"else\",\"under\",\"here\",\"alone\",\"before\",\"things\",\"after\",\"then\",\"goin'\",\"been\",\"watch\",\"meet\",\"forever\",\"inside\",\"better\",\"too\",\"world\",\"jandro\",\"hear\",\"clair\",\"brown\",\"until\",\"speak\",\"little\",\"summer\",\"aus\",\"kiss\",\"said\",\"speechless\",\"friends\",\"cut\",\"new\",\"feels\",\"happy\",\"someone\",\"its\",\"greatest\",\"yes\",\"lady\",\"home\",\"live\",\"belong\",\"wonder\",\"both\",\"ma\",\"those\",\"feeling\",\"leather\",\"wrong\",\"while\",\"whoa\",\"would\",\"mah\",\"wear\",\"talk\",\"pray\",\"believe\",\"disco\",\"work\",\"each\",\"seem\",\"high\",\"huh\",\"place\",\"fall\",\"over\",\"damn\",\"follow\",\"handle\",\"kind\",\"okay\",\"they\",\"fun\",\"blow\",\"swine\",\"hundred\",\"why\",\"judas\",\"mine\",\"club\",\"mean\",\"mind\",\"loves\",\"control\",\"er\",\"venus\",\"christmas\",\"top\",\"light\",\"care\",\"record\",\"prayer\",\"apart\",\"hard\",\"cherry\",\"only\",\"worn\",\"bow\",\"lord\",\"might\",\"worst\",\"glory\",\"lay\",\"own\",\"e\",\"two\",\"loud\",\"strong\",\"by\",\"hold\",\"callin'\",\"mama\",\"you've\",\"red\",\"telephone\",\"another\",\"should\",\"second\",\"crazy\",\"hell\",\"again\",\"cured\",\"catch\",\"these\",\"starstruck\",\"thought\",\"living\",\"boots\",\"full\",\"happens\",\"into\",\"smokin'\",\"mirror\",\"an\",\"fool\",\"caught\",\"day\",\"sick\",\"may\",\"verse\",\"downtown\",\"smoke\",\"ain't\",\"maybe\",\"looked\",\"making\",\"'til\",\"aha\",\"ye\",\"we'll\",\"ro\",\"sure\",\"rah\",\"heard\",\"duh\",\"dum\",\"lonely\",\"act\",\"nasty\",\"floor\",\"funk\",\"tap\"],\"x\":{\"dtype\":\"f4\",\"bdata\":\"YCSSQUHK0EEmFGPBFkKOwfBc6sAYU9fBPzbDQFTitcCGZ61Bi2iTQFqGacBra5pAO4IyQoWjxsGnuc7B04alQcbkgkF00HzBkZbHwbRD+kGw28\\u002fBnL43QY\\u002fNNsEXmaFBf6NrQctYYEFc7YZBRouGwdeQx0FY2xFCNs9wQYSXpsHRamjAFkCYQH0k\\u002f0HNbdi\\u002fLvMYQSQldkCbnUBBmcaUwZm6zMHuY+NB7B+hQbUR1kE82ZnAOMcbQeQl2b8DdCvCP7eBQJ59PkFNE7fAJMybQfqaFkEoUCZAX0MWwbJZKsH2UIrAEcMvwXnnLMHjNB\\u002fBwwUEQn++xcFyMo7BKovKwDCGtMH6t73BIIUZQmfK+EBHyeRBfj2rQScEBEF3yubBHeAGwS9ftcEh+uVBHuMxP4LonkHR3qPBpjUGQlWClkFULYnBqtHiwb4qEUBghJTB3tWwQfq+vUHS3MDAHzcuwnSmh8E\\u002fAO9BTj9qwAq0y8Gv1+BBO2AVQAGm3D\\u002fPqgbAKfe8QB756kH9DPvBqn3DQTivPkGuzLbAERMJQL2Hx0EpfyTCTKRiwSlq6UDWs+7B8RY8QcUZ4sAGIMvBstv3wYbpAcLOUaFBhFuoQS58mcEOeBjCeDvjQS3Ew0ChZIFBNL1Dwd\\u002fb90GQKehBxge2wVnXqMFj0yJBs4vHQP7W2UC3yX3Ahrj+QWD108GdIAFCmwFFQYoU88FbrYvAHuRVwQWWGkHUYtLBvD\\u002fXQGkZYMGZGYxB\\u002f5lmwSd6EMJZc\\u002f7B6TiowMc\\u002f40GYmARCiScHQjDDu0HmHtnAWLZbwTfuB0L2Pb9AQLoAwrRbP0Hn8gJBhTYdQmyHKz\\u002fqEfdBj5odwhpqcEFznspB0w6SwGJKJ8IbZwvCMp55QUOMU0E+5mFBR0uqQY8Ye8HMNYtB9SeHweyuSUEJJxRCECCzwHgWnsFg7+nBxNq\\u002fQJRMy8EdHQRBzNZ0QQKNCsJJKGhBQ4sVwZABH8EVTshAUv1sQfuR6MGRFlVBWI3Dv7C+30EsEJHBZ62qQRUhDMARO4JAo91Iwcv937\\u002fw2JxBys9kwdT1vUC5zQNBLzcJwn6HoUH9YXdBN2FfQYqdgMGbyEjBh9snQHQ7bUGqXnVBKbxVwMLcOMIdJf1Br+HuQQwa1cCusInBmPQMQFxkSb\\u002f6cejBJna4waGhuMGyq2vBwJqPwBZZ07\\u002fF\\u002f+lBQgX4QYi2GMK6i42\\u002f+ToKQFBZRUGiOE5BQED8wOy4B0LhqPRBag+Twb\\u002fmtkFop7DAUVGmwS7LlEEK0oxBz977QcnhckFtWTjBD9cPwNbA2EG3PffBB3R6QXrFacEVRYrBuC7BwQrwKEGvQjJCrA8Iwqq4rj9caOtBwHL4QAYOikHqsRxCS9GAQZ2AgUGM+iTBBhDWQJ+XVT\\u002fncrc\\u002fQwjCQZ2D50BXVLBByetuvxzCH8KOKupBz6qQQcGyTkGvtzvCYOB2QRhqoUCbzVJBHlDFwOmWuEDmlLdBC5zgwIRBVkAJdDZBAo5jwYY8P8H3suXBqrUVQX8nJUGt5JZAxGxpQXD+xcERJUlBgb8VQWcag0HTvwjCtOwSwi8SdcBVu+S\\u002ftsX5vxgN38GQr0vB7UHfQZY0BsEyRbDAm\\u002fUIwZpTRUF6wCHC9pYpwVTYQUEgj8NBCweKwegRyUG5iHjBC39qQQiRgUGawZjA4a84waHisT9eLSfBG9cfQdjdu8GYgePBv1cBQmFPocHzCL5AlWNEwE53P0F+gEfARhnhQGIDdcCiCO1AJ92vv8PVz0EL\\u002fJBBigG1wXcPAMKwZtPAmB7YQbs7zsHol8lB\\u002fDb+QNT4ssEaQd\\u002fBEaNLQVeLpMGTqRbB2q\\u002ffwYJ\\u002fh8HkxRZA18MyQUD0Y0GvzUHBuSYswVu9MkGL3FDA648vQTcXwD8B2RxBAn4FQEa\\u002fkz7LkhtByex\\u002fwaqdAULx8YXB7buyQPgPrsEEQ1dB0tTAQMLrocG8veo+PiVPwXe5D0Hed7fBD0rSwfhgnMH1i65BFQy6QFtvfEFkRerBH5H5QT4M7EH7+ulBDsOdQegE2sGhjYtBb0unwfldSMD2mRDBlMkfwvRkDkFxkTjB7aanwVfSMEAu083Bc3a2QA==\"},\"y\":{\"dtype\":\"f4\",\"bdata\":\"Y6mZQHjHzkAnCBZBWqozwTjn8MEMISZBTAV8wAwsaEEeTvfBlYDYQcQAv8E7UspB\\u002fFgyQKyNnUFViADCunL8QVc99MBL1XrBgeSAQTpTa8GmGYTAUh0PQpCIL8GLuMbAbpylQT0x\\u002f8Gv7JhBXTgeQRRm+0BiKI1Btca1QY0qrkEs9cxAIrGaQfVPz0CnP9hBbNVGwbCa\\u002fEF8ZutA1AkYwvFlWkBtMdpBRdD3QTkXcsEtnNtBVyGdwUewzECDAp3ArXm3vl4aCMJvL+3AzxCeQXdc\\u002f8G0rmdA9YjxQdlfqUEHUQlCpo2+QWdSUcBqdrJB42LowAAwKsHZdstAelQKwgF9FcIkL7JBu+YgwHpBrEFt+rzB259lQVipoMGa3WA+r4j3vz81CcIO94PBt9IowmvMW0GZ+L5BlgEBQS40ksGJ0Y3Bl2MBQmhT2kFYZAbCJPAiwR61LEHbAgJBCWCIwd1WD8KSsPa\\u002fiquFQSNzHcBsPYFBznHXwbmlxcFScAxCi0xawZlSfEDwMFDB1\\u002fNXQT8MCUJTHgTCDBcAwn+LC0GOFJLBjuXuwVkMTcFbL6fBhkx5wVNLj8HbStrAynYMwDGQzUDax\\u002frBII\\u002fYwYlh7cD11KhAvQsawC7bRcGS5KbBaxjLwYrqakG7pRnBFPZkQNL+kcFp4\\u002f6\\u002faT+FQahelsFxJ5nB+bQqwfLkY8FAmr\\u002fA8rj6QWExNcC2aPxAtPfQQYYvJcF38IdBMlVIwVdTLkH3k95AYdi2QUA0RsGvsPNB4cgDwtNC78G48vHA0N4OwR9s18HSsw\\u002fCitbKwduF+EBWfbhBIedvQa5cCkLFYTs\\u002fCyJywGt9jsBjoe1BQeqUQV9zg0EQ6cJBV8Ljv52i70Bj7dVAAOctwjIcB8EQZDvBgcU\\u002fQa4bu8HB76Q\\u002fP8ZJwc1jub+2afTA3K\\u002fuQXOAh8Fb8dJBT+o+QU\\u002fTVUG9++tBzQcfQPQqD8GL1qtBcyStwInwjsEL3vlBCSeRQGz\\u002ftD5aiSlBgvCawHVMgcFC99JAese4v77iPMHEtYtBiU\\u002fawUPX9kAL8udBkRa5wbuM+sGcQPPBmAgOQeZBP0CRbltB9g9qwX8uEkIKZNbBZDmewdtepj\\u002fs8YlBjD3lQBu+uT9+AZPBL2I+wCFexMC+hxRCqAY3wVtCSEC8MJxB4gSIQR4r38EAod3BXu0JQpvdnUGti9jBB4CCwYgBmMAs8C1BRxjxwc8KhsHqbdRAnh8GQQwWrsBQBC4\\u002flowGQuTppkGpU0nBZ5EMQrSIjcEilzHBw+otQYKhm0EyZLvBpgeywQ48oEGFsQ1Bmes2QZo+60HLzQFAniiBwUNLc8GcM8c9YA6AQfdam8EWkbPARDKnwLRjn8H7BsZAerFAQX1MasDbC9nBfvCuQOc\\u002f2L\\u002fr3GdBdT2yQRUGx0EeobvAFaPzQYHT5ECB69BAu2fHwX6zvMBNnnrAusJZQWZlg0ARtYNBwIIgQn6EKMJKagJCeCC7wMxhi0Go7zDCuLqEQac\\u002fVMF9B83BVYahQXN3+8AIhh\\u002fCZuclwLoIoMEkEvFB9Dj0wFohDkHeQITBBK0YwZWAOMCZ9WhBHcUdwK6t8UGnhCZBfykcQVOcD0CRzaJBwPOAQQpUvsHypoxBX0n9QKPK3sE7J5i\\u002foFFiQbyMscEFThtA53\\u002fAQFDTbsFGeppBQJz1wNGJ0sEQz4\\u002fBvo7lwS4Sn8HV7os\\u002f7ZNYP9trmUHxDqDBnwLEQQ8UIUES\\u002fxjCTEQvQY+2A8HziRbCnoIPwrYrkD42pfhA8oaOv2JPYMEtRLnAgraVwYzxuUBJqrNBCGD0QF4zTUGJk21AtQGXwQUx+cEca9jBbpwbQQnc60EsFwdBYGMkwZER+kElcHLBPLSxQY3QYb+xgGVBxQ9kQEnq+8BrUMlB7ObTQBes1EEPjCrCUzinwIBlfkF53ePARzpLQa6y0cH7FCfAJiokQhzhasCGIb5ARCJtQcWhpEAdiBnBr7SGwbnVL0GjN+\\u002fBcF+hv7mObsDm+MJBDD6CQRYDRcE+g3PB1xdcQaDh08E8Dp1BpaSHQM4hv8CoDJhBvJ9ywX0xCMJ3zDZBasoIQi7AeMHWYY\\u002fB7n4cwg==\"},\"z\":{\"dtype\":\"f4\",\"bdata\":\"WDYSwXecNkHW4QRCpWAjwcaNDUC7v8VB4fblQLEhQkGeZTJAGCflQIzwVkHett7Btl+qwE5S+EDWoxFBOxdTQXDk90ECS+XBKmuRQSVv8sBLd8nAOmvOQAnY20FcMdXBD2fRwWwJsEEzRKNBQcKwwR2JtEGPA2TAUlgWQMeI4L+F3efBexCTwUSnrD+okCBBYvCkwcmyGb\\u002ficgbCgj7VwFLclkHJuY7AMHELQO\\u002f060Bb3KjBAQzqwVcqKkJKgZjA\\u002fGn3wRgDvMEbl9XBXfmYwMBbmME2ufZBaNMaQXoHAUJValvBFU2bQepUGEICrh9BD01bQfTg2sEh9gvCCwsbQbk7o8BeZKvBTwupwYBJl0E9EjDAGvmDQb++j8FpLorBhfUIwvEmkUGIz4TBw0gqwPEP+EHyODjBvhEjwXC01sFb2opBbAo8P1HHokEx0U7BgmFrQfS\\u002f30DRcQ5Cmn5tP0TGkUE8x0XADIaZwU4U1sGMov3Ah4pzQPAB5UGpoSLBBmnvQfbghsHdKw1BdQL\\u002fvkRmLMHcAG5B5f+FQVzG5MHAcDbAKe1UwB7jMsHq6wHA90ECQiAxcEDG5ljBY81WQRZKJb+SCcnApLIJQdW\\u002f\\u002fcGuC\\u002fnA7bNlwUVmckBm16xByWROwS2zd0G24RU+\\u002fC\\u002f\\u002fQeKDXcGwqRZCFw0OQtOXJEFxk1HBuHHhQSMV\\u002fUGjUuFBcBaewIIKlUGUZx9CftDswEa7\\u002fsE0bxPBZhESQoL1EcLhm6BAGoXHwTiyl0EqgudAs2USwRyJd7+MU8JBQuISwPpxKMEKMS3B\\u002fkxuQSaBkEEqADvBVPN8QMW6kUG6JVBBmM1mwR3C4kGrb50+FhOpwLrgGMLyH6xB1XLowW3V60AF+iPBX\\u002fOxPx5MjUHN6\\u002fzBcLxWwXw29UGtVhDCFMkmQTK8H8IWlmfBQDBuwYw1i8F9WwNBIQHzwWVSZEAoeqTBb82SQW0YncE4P2DBwkgewsKknUGhp7PB593gQXGR9z1IO0lBC8kEQgJfwEGPZFPBS8WMwJmI9z8XlrvA4Hu\\u002fwTx5LsKKg2\\u002fBJrUHQk3mzMFdb7rB\\u002fhuDQVX9oMG8sHXAsn\\u002fBQFV\\u002fT8HXOz9B\\u002fsKYwTsL5kBmCgrCij2TQVL\\u002fpL+qHi1BosLXQdSiF8IpUYW8kGO+wT7BFsJqTDPBHLy9wSjGYb+QtvrA9yqIQZD280ExB+I\\u002fRsoDQSIv40BikyjC0k7RQZKZOMEixqDA6Gb\\u002fQYwVUMD1suNB651EwXw8tcHe+lfBID+uQEBYx8DvgoPBY1+IQSgHI8FTx+9AjWHLQY\\u002f0wsFr\\u002fp3B9S4BQo4GzcEzFbdB7lfwQVtHLcBSnLJANW\\u002fWQCxRO0B4wipB\\u002fnDNwS27N8F2WBxAq56ZQQWIP0Evx9zBRuB5QS8S9kGEkQxB4BeHQKmn38Apc4zBrI2QQExrlUCcaxfB2ewBQU\\u002fKcUAI6Sc8Bz0HwjOI\\u002fMGQf8HBKQKCPv37QD5HbovAx4IJQgk34cEDHBNAJo0Pws8XpMEhX0DB22HNQSu7ksBf5NjAc7IVwXFHY0H\\u002fo4FBB4aSQSyYDEKXIIhA3cSLQbnUYkG+vI9BsIMRwY\\u002fzoUD2HrpBvWaiP1w14cH71atB937YwRV6McFayQrApgmjwcljtsH3MYVBc2ELwqc9oD94IthBpiK6waSvM0HhxABCiS4AQsJ1Z8HXsTVBPSbKwDy7z0DUBHJBhc8LQRgX3UHiy+7AG+SXQQIzRD+2cqXBlVitwQ7fDEIPGhPBvvIzQR\\u002fsvcG1OwBCpeYIQtgzPsHQWaVBqAOpQcWJDcEv5MJB9GbswYHJBsFH8PdAK76nQbqKgkF06LLBp1ZFwBNft0G4ob1B3MCGwX9qDMHM7gnBnQKZwbnJC8LB5nvBedTMQTE2gkH43Ls\\u002fWa7CwQdzXMFa6ma\\u002fhuPzQeEcMT83GUw+GQgHQgnvDEGVmL\\u002fBCHkqQMRrxcFQ+M5BkXkWQQnUeMGxlbtBzYtcwM\\u002frmkH0PTXB6qYawYnJIcI9ITJAILEbwIRxIcGWA07BEqKKwY0kbMFoJzRBb830waoBjMGy++xBeu4YwOcBzT88paXBWT7QPzUmk0EsLpq+bho4wA==\"},\"type\":\"scatter3d\"},{\"hovertemplate\":\"color=red\\u003cbr\\u003ex=%{x}\\u003cbr\\u003ey=%{y}\\u003cbr\\u003ez=%{z}\\u003cbr\\u003esize=%{marker.size}\\u003cbr\\u003etext=%{text}\\u003cextra\\u003e\\u003c\\u002fextra\\u003e\",\"legendgroup\":\"red\",\"marker\":{\"color\":\"red\",\"size\":{\"dtype\":\"i1\",\"bdata\":\"CAgICAgI\"},\"sizemode\":\"area\",\"sizeref\":0.02,\"symbol\":\"circle\",\"line\":{\"color\":\"DarkSlateGrey\",\"width\":1}},\"mode\":\"markers+text\",\"name\":\"red\",\"scene\":\"scene\",\"showlegend\":true,\"text\":[\"love\",\"heart\",\"poker\",\"monster\",\"romance\",\"party\"],\"x\":{\"dtype\":\"f4\",\"bdata\":\"XI8EwqrHf7+Ew5HB7\\u002fQoQJDGr8EFKFZB\"},\"y\":{\"dtype\":\"f4\",\"bdata\":\"DDiqv9P\\u002fnsEZ8BPCwZbfwVjjwD5Uu63B\"},\"z\":{\"dtype\":\"f4\",\"bdata\":\"b7QAwWBDy8GldDTBRyI6wRYM2sEvt4FB\"},\"type\":\"scatter3d\"}],                        {\"template\":{\"data\":{\"histogram2dcontour\":[{\"type\":\"histogram2dcontour\",\"colorbar\":{\"outlinewidth\":0,\"ticks\":\"\"},\"colorscale\":[[0.0,\"#0d0887\"],[0.1111111111111111,\"#46039f\"],[0.2222222222222222,\"#7201a8\"],[0.3333333333333333,\"#9c179e\"],[0.4444444444444444,\"#bd3786\"],[0.5555555555555556,\"#d8576b\"],[0.6666666666666666,\"#ed7953\"],[0.7777777777777778,\"#fb9f3a\"],[0.8888888888888888,\"#fdca26\"],[1.0,\"#f0f921\"]]}],\"choropleth\":[{\"type\":\"choropleth\",\"colorbar\":{\"outlinewidth\":0,\"ticks\":\"\"}}],\"histogram2d\":[{\"type\":\"histogram2d\",\"colorbar\":{\"outlinewidth\":0,\"ticks\":\"\"},\"colorscale\":[[0.0,\"#0d0887\"],[0.1111111111111111,\"#46039f\"],[0.2222222222222222,\"#7201a8\"],[0.3333333333333333,\"#9c179e\"],[0.4444444444444444,\"#bd3786\"],[0.5555555555555556,\"#d8576b\"],[0.6666666666666666,\"#ed7953\"],[0.7777777777777778,\"#fb9f3a\"],[0.8888888888888888,\"#fdca26\"],[1.0,\"#f0f921\"]]}],\"heatmap\":[{\"type\":\"heatmap\",\"colorbar\":{\"outlinewidth\":0,\"ticks\":\"\"},\"colorscale\":[[0.0,\"#0d0887\"],[0.1111111111111111,\"#46039f\"],[0.2222222222222222,\"#7201a8\"],[0.3333333333333333,\"#9c179e\"],[0.4444444444444444,\"#bd3786\"],[0.5555555555555556,\"#d8576b\"],[0.6666666666666666,\"#ed7953\"],[0.7777777777777778,\"#fb9f3a\"],[0.8888888888888888,\"#fdca26\"],[1.0,\"#f0f921\"]]}],\"contourcarpet\":[{\"type\":\"contourcarpet\",\"colorbar\":{\"outlinewidth\":0,\"ticks\":\"\"}}],\"contour\":[{\"type\":\"contour\",\"colorbar\":{\"outlinewidth\":0,\"ticks\":\"\"},\"colorscale\":[[0.0,\"#0d0887\"],[0.1111111111111111,\"#46039f\"],[0.2222222222222222,\"#7201a8\"],[0.3333333333333333,\"#9c179e\"],[0.4444444444444444,\"#bd3786\"],[0.5555555555555556,\"#d8576b\"],[0.6666666666666666,\"#ed7953\"],[0.7777777777777778,\"#fb9f3a\"],[0.8888888888888888,\"#fdca26\"],[1.0,\"#f0f921\"]]}],\"surface\":[{\"type\":\"surface\",\"colorbar\":{\"outlinewidth\":0,\"ticks\":\"\"},\"colorscale\":[[0.0,\"#0d0887\"],[0.1111111111111111,\"#46039f\"],[0.2222222222222222,\"#7201a8\"],[0.3333333333333333,\"#9c179e\"],[0.4444444444444444,\"#bd3786\"],[0.5555555555555556,\"#d8576b\"],[0.6666666666666666,\"#ed7953\"],[0.7777777777777778,\"#fb9f3a\"],[0.8888888888888888,\"#fdca26\"],[1.0,\"#f0f921\"]]}],\"mesh3d\":[{\"type\":\"mesh3d\",\"colorbar\":{\"outlinewidth\":0,\"ticks\":\"\"}}],\"scatter\":[{\"fillpattern\":{\"fillmode\":\"overlay\",\"size\":10,\"solidity\":0.2},\"type\":\"scatter\"}],\"parcoords\":[{\"type\":\"parcoords\",\"line\":{\"colorbar\":{\"outlinewidth\":0,\"ticks\":\"\"}}}],\"scatterpolargl\":[{\"type\":\"scatterpolargl\",\"marker\":{\"colorbar\":{\"outlinewidth\":0,\"ticks\":\"\"}}}],\"bar\":[{\"error_x\":{\"color\":\"#2a3f5f\"},\"error_y\":{\"color\":\"#2a3f5f\"},\"marker\":{\"line\":{\"color\":\"#E5ECF6\",\"width\":0.5},\"pattern\":{\"fillmode\":\"overlay\",\"size\":10,\"solidity\":0.2}},\"type\":\"bar\"}],\"scattergeo\":[{\"type\":\"scattergeo\",\"marker\":{\"colorbar\":{\"outlinewidth\":0,\"ticks\":\"\"}}}],\"scatterpolar\":[{\"type\":\"scatterpolar\",\"marker\":{\"colorbar\":{\"outlinewidth\":0,\"ticks\":\"\"}}}],\"histogram\":[{\"marker\":{\"pattern\":{\"fillmode\":\"overlay\",\"size\":10,\"solidity\":0.2}},\"type\":\"histogram\"}],\"scattergl\":[{\"type\":\"scattergl\",\"marker\":{\"colorbar\":{\"outlinewidth\":0,\"ticks\":\"\"}}}],\"scatter3d\":[{\"type\":\"scatter3d\",\"line\":{\"colorbar\":{\"outlinewidth\":0,\"ticks\":\"\"}},\"marker\":{\"colorbar\":{\"outlinewidth\":0,\"ticks\":\"\"}}}],\"scattermap\":[{\"type\":\"scattermap\",\"marker\":{\"colorbar\":{\"outlinewidth\":0,\"ticks\":\"\"}}}],\"scattermapbox\":[{\"type\":\"scattermapbox\",\"marker\":{\"colorbar\":{\"outlinewidth\":0,\"ticks\":\"\"}}}],\"scatterternary\":[{\"type\":\"scatterternary\",\"marker\":{\"colorbar\":{\"outlinewidth\":0,\"ticks\":\"\"}}}],\"scattercarpet\":[{\"type\":\"scattercarpet\",\"marker\":{\"colorbar\":{\"outlinewidth\":0,\"ticks\":\"\"}}}],\"carpet\":[{\"aaxis\":{\"endlinecolor\":\"#2a3f5f\",\"gridcolor\":\"white\",\"linecolor\":\"white\",\"minorgridcolor\":\"white\",\"startlinecolor\":\"#2a3f5f\"},\"baxis\":{\"endlinecolor\":\"#2a3f5f\",\"gridcolor\":\"white\",\"linecolor\":\"white\",\"minorgridcolor\":\"white\",\"startlinecolor\":\"#2a3f5f\"},\"type\":\"carpet\"}],\"table\":[{\"cells\":{\"fill\":{\"color\":\"#EBF0F8\"},\"line\":{\"color\":\"white\"}},\"header\":{\"fill\":{\"color\":\"#C8D4E3\"},\"line\":{\"color\":\"white\"}},\"type\":\"table\"}],\"barpolar\":[{\"marker\":{\"line\":{\"color\":\"#E5ECF6\",\"width\":0.5},\"pattern\":{\"fillmode\":\"overlay\",\"size\":10,\"solidity\":0.2}},\"type\":\"barpolar\"}],\"pie\":[{\"automargin\":true,\"type\":\"pie\"}]},\"layout\":{\"autotypenumbers\":\"strict\",\"colorway\":[\"#636efa\",\"#EF553B\",\"#00cc96\",\"#ab63fa\",\"#FFA15A\",\"#19d3f3\",\"#FF6692\",\"#B6E880\",\"#FF97FF\",\"#FECB52\"],\"font\":{\"color\":\"#2a3f5f\"},\"hovermode\":\"closest\",\"hoverlabel\":{\"align\":\"left\"},\"paper_bgcolor\":\"white\",\"plot_bgcolor\":\"#E5ECF6\",\"polar\":{\"bgcolor\":\"#E5ECF6\",\"angularaxis\":{\"gridcolor\":\"white\",\"linecolor\":\"white\",\"ticks\":\"\"},\"radialaxis\":{\"gridcolor\":\"white\",\"linecolor\":\"white\",\"ticks\":\"\"}},\"ternary\":{\"bgcolor\":\"#E5ECF6\",\"aaxis\":{\"gridcolor\":\"white\",\"linecolor\":\"white\",\"ticks\":\"\"},\"baxis\":{\"gridcolor\":\"white\",\"linecolor\":\"white\",\"ticks\":\"\"},\"caxis\":{\"gridcolor\":\"white\",\"linecolor\":\"white\",\"ticks\":\"\"}},\"coloraxis\":{\"colorbar\":{\"outlinewidth\":0,\"ticks\":\"\"}},\"colorscale\":{\"sequential\":[[0.0,\"#0d0887\"],[0.1111111111111111,\"#46039f\"],[0.2222222222222222,\"#7201a8\"],[0.3333333333333333,\"#9c179e\"],[0.4444444444444444,\"#bd3786\"],[0.5555555555555556,\"#d8576b\"],[0.6666666666666666,\"#ed7953\"],[0.7777777777777778,\"#fb9f3a\"],[0.8888888888888888,\"#fdca26\"],[1.0,\"#f0f921\"]],\"sequentialminus\":[[0.0,\"#0d0887\"],[0.1111111111111111,\"#46039f\"],[0.2222222222222222,\"#7201a8\"],[0.3333333333333333,\"#9c179e\"],[0.4444444444444444,\"#bd3786\"],[0.5555555555555556,\"#d8576b\"],[0.6666666666666666,\"#ed7953\"],[0.7777777777777778,\"#fb9f3a\"],[0.8888888888888888,\"#fdca26\"],[1.0,\"#f0f921\"]],\"diverging\":[[0,\"#8e0152\"],[0.1,\"#c51b7d\"],[0.2,\"#de77ae\"],[0.3,\"#f1b6da\"],[0.4,\"#fde0ef\"],[0.5,\"#f7f7f7\"],[0.6,\"#e6f5d0\"],[0.7,\"#b8e186\"],[0.8,\"#7fbc41\"],[0.9,\"#4d9221\"],[1,\"#276419\"]]},\"xaxis\":{\"gridcolor\":\"white\",\"linecolor\":\"white\",\"ticks\":\"\",\"title\":{\"standoff\":15},\"zerolinecolor\":\"white\",\"automargin\":true,\"zerolinewidth\":2},\"yaxis\":{\"gridcolor\":\"white\",\"linecolor\":\"white\",\"ticks\":\"\",\"title\":{\"standoff\":15},\"zerolinecolor\":\"white\",\"automargin\":true,\"zerolinewidth\":2},\"scene\":{\"xaxis\":{\"backgroundcolor\":\"#E5ECF6\",\"gridcolor\":\"white\",\"linecolor\":\"white\",\"showbackground\":true,\"ticks\":\"\",\"zerolinecolor\":\"white\",\"gridwidth\":2},\"yaxis\":{\"backgroundcolor\":\"#E5ECF6\",\"gridcolor\":\"white\",\"linecolor\":\"white\",\"showbackground\":true,\"ticks\":\"\",\"zerolinecolor\":\"white\",\"gridwidth\":2},\"zaxis\":{\"backgroundcolor\":\"#E5ECF6\",\"gridcolor\":\"white\",\"linecolor\":\"white\",\"showbackground\":true,\"ticks\":\"\",\"zerolinecolor\":\"white\",\"gridwidth\":2}},\"shapedefaults\":{\"line\":{\"color\":\"#2a3f5f\"}},\"annotationdefaults\":{\"arrowcolor\":\"#2a3f5f\",\"arrowhead\":0,\"arrowwidth\":1},\"geo\":{\"bgcolor\":\"white\",\"landcolor\":\"#E5ECF6\",\"subunitcolor\":\"white\",\"showland\":true,\"showlakes\":true,\"lakecolor\":\"white\"},\"title\":{\"x\":0.05},\"mapbox\":{\"style\":\"light\"}}},\"scene\":{\"domain\":{\"x\":[0.0,1.0],\"y\":[0.0,1.0]},\"xaxis\":{\"title\":{\"text\":\"x\"}},\"yaxis\":{\"title\":{\"text\":\"y\"}},\"zaxis\":{\"title\":{\"text\":\"z\"}}},\"legend\":{\"title\":{\"text\":\"color\"},\"tracegroupgap\":0,\"itemsizing\":\"constant\"},\"margin\":{\"t\":60},\"autosize\":false,\"width\":1200,\"height\":800,\"title\":{\"text\":\"3D Word Embeddings Visualization - Lady Gaga Lyrics\"},\"showlegend\":false},                        {\"responsive\": true}                    ).then(function(){\n",
       "                            \n",
       "var gd = document.getElementById('452243d2-a222-4909-bb02-779ff2637d12');\n",
       "var x = new MutationObserver(function (mutations, observer) {{\n",
       "        var display = window.getComputedStyle(gd).display;\n",
       "        if (!display || display === 'none') {{\n",
       "            console.log([gd, 'removed!']);\n",
       "            Plotly.purge(gd);\n",
       "            observer.disconnect();\n",
       "        }}\n",
       "}});\n",
       "\n",
       "// Listen for the removal of the full notebook cells\n",
       "var notebookContainer = gd.closest('#notebook-container');\n",
       "if (notebookContainer) {{\n",
       "    x.observe(notebookContainer, {childList: true});\n",
       "}}\n",
       "\n",
       "// Listen for the clearing of the current output cell\n",
       "var outputEl = gd.closest('.output');\n",
       "if (outputEl) {{\n",
       "    x.observe(outputEl, {childList: true});\n",
       "}}\n",
       "\n",
       "                        })                };            </script>        </div>\n",
       "</body>\n",
       "</html>"
      ]
     },
     "metadata": {},
     "output_type": "display_data"
    }
   ],
   "source": [
    "vecs, labels = reduce_dimensions(w2v_model, 3)\n",
    "\n",
    "MAX_WORDS=400\n",
    "colors = ['lightblue'] * MAX_WORDS\n",
    "sizes = [2] * MAX_WORDS \n",
    "\n",
    "highlight_words = test_words\n",
    "\n",
    "for i, word in enumerate(labels[:MAX_WORDS]):\n",
    "    if word in highlight_words:\n",
    "        colors[i] = 'red'\n",
    "        sizes[i] = 8 \n",
    "fig = px.scatter_3d(\n",
    "    x=vecs[:MAX_WORDS, 0], \n",
    "    y=vecs[:MAX_WORDS, 1], \n",
    "    z=vecs[:MAX_WORDS, 2],\n",
    "    text=labels[:MAX_WORDS],\n",
    "    color=colors,\n",
    "    size=sizes,\n",
    "    color_discrete_map={'red': 'red', 'lightblue': 'lightblue'}\n",
    ")\n",
    "\n",
    "fig.update_layout(\n",
    "    autosize=False,\n",
    "    width=1200,\n",
    "    height=800,\n",
    "    title=\"3D Word Embeddings Visualization - Lady Gaga Lyrics\",\n",
    "    showlegend=False\n",
    ")\n",
    "\n",
    "fig.update_traces(\n",
    "    marker=dict(line=dict(width=1, color='DarkSlateGrey')),\n",
    "    selector=dict(marker_color='red')\n",
    ")\n",
    "\n",
    "fig.show(renderer=\"colab\")"
   ]
  },
  {
   "cell_type": "markdown",
   "id": "ee983967-efce-4924-b00f-01e898881063",
   "metadata": {},
   "source": [
    "El modelo Word2Vec entrenado sobre letras de Lady Gaga logra capturar relaciones \n",
    "semánticas coherentes con el universo tematico de la artista.\n",
    "\n",
    "Al ordenar por similitud puede se puede ver como se captura una relacion tematica entre los terminos.\n",
    "\n",
    "Por ejemplo, las palabras mas relacionadas con \"romance\", no son palabras *semanticamente* similares sino que son\n",
    "'caught','rah' y 'bad', debido al tema 'bad romance'\n",
    "\n",
    "En el espacio de embeddings reducido a dos dimensiones,\n",
    "los nombres propios y términos específicos de canciones tienden a ubicarse en la periferia, rodeados por palabras mas bien relacionads a esos temas. \n",
    "Por ejemplo, cerca del termino 'alejandro' se encuentran las palabras \"dont't\", \"call\" y \"name\" \n",
    "\n",
    "Otro aspecto de la visualizacion es que al redcir a dos dimensiones, ciertas relaciones semanticas, menos relevantes que las tematicas, se pierden,\n",
    "por ejemplo 'romance' y 'love' que semanticamente son similares (en la similaridad coseno, 0.5) en el plano se encuentran en extremos casi opuestos.\n",
    "\n",
    "Esta relacion se recupera al pasar al grafico 3d, donde las dos palabras se ubican relativamente cercanas entre si "
   ]
  },
  {
   "cell_type": "code",
   "execution_count": null,
   "id": "85230cc1-9555-4cff-ada7-d2700b3dbcfd",
   "metadata": {},
   "outputs": [],
   "source": []
  }
 ],
 "metadata": {
  "kernelspec": {
   "display_name": "Python 3 (ipykernel)",
   "language": "python",
   "name": "python3"
  },
  "language_info": {
   "codemirror_mode": {
    "name": "ipython",
    "version": 3
   },
   "file_extension": ".py",
   "mimetype": "text/x-python",
   "name": "python",
   "nbconvert_exporter": "python",
   "pygments_lexer": "ipython3",
   "version": "3.10.12"
  }
 },
 "nbformat": 4,
 "nbformat_minor": 5
}
